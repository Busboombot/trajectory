{
 "cells": [
  {
   "cell_type": "markdown",
   "metadata": {},
   "source": [
    "# Fixed Point Step Functions.\n",
    "\n",
    "Convert the algorithm for generating steps in the article [\"Generate stepper-motor speed profiles in real time\"](https://www.embedded.com/generate-stepper-motor-speed-profiles-in-real-time/) into a Fixed Point version. \n",
    "\n",
    "The key formula from the article is:\n",
    "\n",
    "<img src=\"https://www.embedded.com/wp-content/uploads/media-1042023-0501feat1eq13.gif\">"
   ]
  },
  {
   "cell_type": "markdown",
   "metadata": {},
   "source": [
    "To make this function work in fixed point, we multiply both sides by a fixed point factor, $\\alpha$:\n",
    "\n",
    "1. $c_i = c_{i-1} - \\frac{2c_{i-1}}{4n_i+1}$\n",
    "1. $c_i\\alpha = {\\alpha}c_{i-1} - \\alpha\\frac{2c_{i-1}}{4n_i+1}$\n",
    "1. ${\\alpha}c_i = {\\alpha}c_{i-1} - \\frac{{\\alpha}2c_{i-1}}{4n_i+1}$\n",
    "\n",
    "Let $c_{\\alpha} = {\\alpha}c_{i-1}$\n",
    "\n",
    "${\\alpha}c_i = c_{\\alpha} - \\frac{2c_{\\alpha}}{4n_i+1}$\n",
    "\n",
    "With assignment notation:\n",
    "\n",
    "$c_{\\alpha} \\leftarrow c_{\\alpha} - \\frac{2c_{\\alpha}}{4n_i+1}$"
   ]
  },
  {
   "cell_type": "code",
   "execution_count": 1,
   "metadata": {},
   "outputs": [],
   "source": [
    "from trajectory import SimSegment as ss\n",
    "import pandas as pd\n",
    "from IPython.display import display\n",
    "import matplotlib.pyplot as plt\n",
    "\n",
    "%matplotlib inline"
   ]
  },
  {
   "cell_type": "code",
   "execution_count": 2,
   "metadata": {},
   "outputs": [
    {
     "ename": "TypeError",
     "evalue": "initial_params() takes 1 positional argument but 3 were given",
     "output_type": "error",
     "traceback": [
      "\u001b[0;31m---------------------------------------------------------------------------\u001b[0m",
      "\u001b[0;31mTypeError\u001b[0m                                 Traceback (most recent call last)",
      "Input \u001b[0;32mIn [2]\u001b[0m, in \u001b[0;36m<cell line: 1>\u001b[0;34m()\u001b[0m\n\u001b[0;32m----> 1\u001b[0m n, cn,ca \u001b[38;5;241m=\u001b[39m \u001b[43mss\u001b[49m\u001b[38;5;241;43m.\u001b[39;49m\u001b[43minitial_params\u001b[49m\u001b[43m(\u001b[49m\u001b[38;5;241;43m0\u001b[39;49m\u001b[43m,\u001b[49m\u001b[38;5;241;43m1000\u001b[39;49m\u001b[43m,\u001b[49m\u001b[38;5;241;43m1\u001b[39;49m\u001b[43m)\u001b[49m\n\u001b[1;32m      2\u001b[0m n, cn, ca, ca\u001b[38;5;241m>>\u001b[39m\u001b[38;5;241m8\u001b[39m\n",
      "\u001b[0;31mTypeError\u001b[0m: initial_params() takes 1 positional argument but 3 were given"
     ]
    }
   ],
   "source": [
    "n, cn,ca = ss.initial_params(0,1000,1)\n",
    "n, cn, ca, ca>>8"
   ]
  },
  {
   "cell_type": "code",
   "execution_count": null,
   "metadata": {},
   "outputs": [],
   "source": [
    "from math import log, sqrt\n",
    "TIMEBASE=1_000_000 # Counter an delays are measures in 1/TIMEBASE secs\n",
    "FP_BITS = 8 # Number of fraction bits in fixed point representation of cn\n",
    "\n",
    "\n",
    "def initial_params(v0, v1, t, timebase=None):\n",
    "    \"\"\"Set initial parameters, which are a bit different for the first step,\n",
    "    to account for low torque. \"\"\"\n",
    "\n",
    "    # If n is positive, there is a non zero velocity and we are accelerating\n",
    "    # If it is negative, there is a non zero velocity and we are decelerating\n",
    "\n",
    "    timebase = timebase if timebase is not None else TIMEBASE\n",
    "\n",
    "    v0 = float(v0)\n",
    "    v1 = float(v1)\n",
    "\n",
    "    if v0 == 0 and v1 == 0:\n",
    "        # Going nowhere.\n",
    "        n = 0\n",
    "        cn = 0\n",
    "\n",
    "    elif v0 == 0:\n",
    "        # Starting from a stop, so need special\n",
    "        # first delay.\n",
    "        a = abs(v1) / t\n",
    "        n = 0  # n will always be positive, so accelerating\n",
    "        cn = 0.676 * sqrt(2.0 / a) * timebase  # c0 in Equation 15\n",
    "        \n",
    "        assert cn > 0\n",
    "\n",
    "    elif v0 == v1:\n",
    "        # Constant velocity.\n",
    "        n = N_BIG\n",
    "        cn = timebase / abs(v0)\n",
    "    else:\n",
    "        # Normal case, between two non-zero velocities\n",
    "        a = abs(v1 - v0) / t\n",
    "        n = (v0 * v0) / (2.0 * a)  # Equation 16\n",
    "        cn = timebase / abs(v0)\n",
    "\n",
    "        assert n >= 0\n",
    "\n",
    "        # Need to put the sign back on n; n must be negative for deceleration\n",
    "        if abs(v1) < abs(v0):\n",
    "            n = -n\n",
    "\n",
    "   \n",
    "    # Fixed point version of cn\n",
    "    ca = int(cn)<<FP_BITS\n",
    "  \n",
    "    n = int(n)\n",
    "\n",
    "    return n, cn, ca\n",
    "\n",
    "def next_params(n, cn):\n",
    "\n",
    "    n += 1\n",
    "\n",
    "    if cn != 0:\n",
    "        cn = cn - ((2.0 * cn) / ((4.0 * n) + 1)) # Equation 13\n",
    "\n",
    "    return int(n), cn\n",
    "\n",
    "def next_params_xp(n, ca):\n",
    "    \"\"\"Fixed point version of the next_params function\"\"\"\n",
    "\n",
    "    n += 1\n",
    "\n",
    "    if n != 0:\n",
    "         ca = (ca - ((ca << 1) / ((n << 2) + 1)))  # Equation 13\n",
    "\n",
    "    \n",
    "    return n, int(abs(ca))\n",
    "\n",
    "def next_params_bres(n,ca):\n",
    "    pass\n",
    "    \n",
    "\n",
    "def simulate(v0, v1, t):\n",
    "    \n",
    "    n, cn, ca = initial_params(v0,v1,t, timebase=TIMEBASE)\n",
    "   \n",
    "    yield n, cn, ca, ca>>FP_BITS\n",
    "    \n",
    "    x = abs(.5 * (v1 + v0) * t)\n",
    "    \n",
    "    for i in range(int(x)):\n",
    "        _, ca = next_params_xp(n, ca)\n",
    "        n, cn = next_params(n, cn)\n",
    "        \n",
    "        yield n,cn, ca, ca>>FP_BITS\n",
    "     \n",
    "\n",
    "df = pd.DataFrame(list(simulate(80,10000,1)), columns='n cn car ca'.split())\n",
    "df['ca1'] = df.car - df.car.shift(-1) \n",
    "df['d'] = (df.cn-df.ca).abs()\n",
    "df['cum_d'] = df.d.cumsum()\n",
    "df['cum_cn'] = df.cn.cumsum()\n",
    "df['pct_err'] = (df.d.cumsum() / df.cn.cumsum() * 100).round(3)\n",
    "print(df.cn.max(), round(log(df.cn.max())/log(2)), df.pct_err.max() )\n",
    "display(df.head())\n",
    "df.tail()\n",
    "\n",
    "    "
   ]
  },
  {
   "cell_type": "code",
   "execution_count": null,
   "metadata": {},
   "outputs": [],
   "source": [
    "\n",
    "cn"
   ]
  },
  {
   "cell_type": "code",
   "execution_count": null,
   "metadata": {},
   "outputs": [],
   "source": [
    "INTERRUPT_PERIOD = 5 #NUmber of TIMEBASE ticks for each update of the Bresenham line update. \n",
    "from fractions import Fraction\n",
    "\n",
    "def next_params_bres(n,cn):\n",
    "    f  = TIMEBASE/cn\n",
    "\n",
    "    intr_per_step = cn/INTERRUPT_PERIOD\n",
    "    r = round((1/intr_per_step)*1000,0)\n",
    "    \n",
    "    return intr_per_step, r\n",
    "    \n",
    "f = 10_000 + 121\n",
    "n, cn, ca = initial_params(f, f+1,1)\n",
    "s, r = next_params_bres(n,cn)\n",
    "s, r"
   ]
  },
  {
   "cell_type": "code",
   "execution_count": null,
   "metadata": {},
   "outputs": [],
   "source": [
    "%%time\n",
    "errors = set()\n",
    "for i in range(1,2000):\n",
    "    for j in range(1,2000):\n",
    "        r = float(i)/float(j)\n",
    "        f = Fraction(i,j).limit_denominator(100)\n",
    "        errors.add(abs(r-f))"
   ]
  },
  {
   "cell_type": "code",
   "execution_count": null,
   "metadata": {},
   "outputs": [],
   "source": [
    "s = pd.Series(list(errors))\n",
    "s.hist(bins=50)"
   ]
  },
  {
   "cell_type": "code",
   "execution_count": null,
   "metadata": {},
   "outputs": [],
   "source": [
    "1/Fraction(13,17)"
   ]
  },
  {
   "cell_type": "code",
   "execution_count": null,
   "metadata": {},
   "outputs": [],
   "source": [
    "%%time\n",
    "\n",
    "nums = []\n",
    "for i in range(1,256):\n",
    "    for j in range(1,i):\n",
    "        r = float(j)/float(i)\n",
    "        f = Fraction(j,i).limit_denominator(100)\n",
    "        nums.append([j,i,float(f), r])\n",
    "        \n",
    "s = pd.DataFrame(list(nums), columns = 'num denom rat real'.split())\n",
    "\n",
    "s.hist(bins=50)"
   ]
  },
  {
   "cell_type": "code",
   "execution_count": null,
   "metadata": {},
   "outputs": [],
   "source": [
    "s.describe()"
   ]
  },
  {
   "cell_type": "code",
   "execution_count": null,
   "metadata": {},
   "outputs": [],
   "source": [
    "s.rat.nunique()"
   ]
  },
  {
   "cell_type": "code",
   "execution_count": null,
   "metadata": {},
   "outputs": [],
   "source": [
    "5544/4000\n"
   ]
  },
  {
   "cell_type": "code",
   "execution_count": null,
   "metadata": {},
   "outputs": [],
   "source": []
  }
 ],
 "metadata": {
  "kernelspec": {
   "display_name": "Python 3 (ipykernel)",
   "language": "python",
   "name": "python3"
  },
  "language_info": {
   "codemirror_mode": {
    "name": "ipython",
    "version": 3
   },
   "file_extension": ".py",
   "mimetype": "text/x-python",
   "name": "python",
   "nbconvert_exporter": "python",
   "pygments_lexer": "ipython3",
   "version": "3.9.12"
  }
 },
 "nbformat": 4,
 "nbformat_minor": 4
}
