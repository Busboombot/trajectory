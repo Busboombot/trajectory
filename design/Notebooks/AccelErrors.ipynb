{
 "cells": [
  {
   "cell_type": "markdown",
   "metadata": {},
   "source": [
    "# Acceleration Error\n",
    "\n",
    "Test differences in step time in two segments that ought to start and end at the same time. \n"
   ]
  },
  {
   "cell_type": "code",
   "execution_count": 1,
   "metadata": {},
   "outputs": [
    {
     "ename": "ModuleNotFoundError",
     "evalue": "No module named 'trajectory'",
     "output_type": "error",
     "traceback": [
      "\u001b[0;31m---------------------------------------------------------------------------\u001b[0m",
      "\u001b[0;31mModuleNotFoundError\u001b[0m                       Traceback (most recent call last)",
      "Input \u001b[0;32mIn [1]\u001b[0m, in \u001b[0;36m<cell line: 10>\u001b[0;34m()\u001b[0m\n\u001b[1;32m      8\u001b[0m period \u001b[38;5;241m=\u001b[39m \u001b[38;5;241m4\u001b[39m\n\u001b[1;32m      9\u001b[0m \u001b[38;5;28;01mimport\u001b[39;00m \u001b[38;5;21;01mrandom\u001b[39;00m\n\u001b[0;32m---> 10\u001b[0m \u001b[38;5;28;01mfrom\u001b[39;00m \u001b[38;5;21;01mtrajectory\u001b[39;00m\u001b[38;5;21;01m.\u001b[39;00m\u001b[38;5;21;01msegments\u001b[39;00m \u001b[38;5;28;01mimport\u001b[39;00m SimSegment\n\u001b[1;32m     11\u001b[0m \u001b[38;5;28;01mfrom\u001b[39;00m \u001b[38;5;21;01mtrajectory\u001b[39;00m\u001b[38;5;21;01m.\u001b[39;00m\u001b[38;5;21;01msegments\u001b[39;00m \u001b[38;5;28;01mimport\u001b[39;00m Joint, SegmentList\n",
      "\u001b[0;31mModuleNotFoundError\u001b[0m: No module named 'trajectory'"
     ]
    }
   ],
   "source": [
    "%load_ext autoreload\n",
    "%autoreload 2\n",
    "%matplotlib inline\n",
    "from math import log, sqrt\n",
    "from itertools import count\n",
    "import pandas as pd\n",
    "import numpy as np\n",
    "period = 4\n",
    "import random\n",
    "from trajectory.segments import SimSegment\n",
    "from trajectory.segments import Joint, SegmentList"
   ]
  },
  {
   "cell_type": "code",
   "execution_count": null,
   "metadata": {},
   "outputs": [],
   "source": []
  },
  {
   "cell_type": "code",
   "execution_count": null,
   "metadata": {},
   "outputs": [],
   "source": [
    "ss1 = SimSegment(50, 20_000, 5000)\n",
    "ss2 = SimSegment(50, 2_000, 500)\n",
    "print(ss1.initial_params())\n",
    "print(ss2.initial_params())\n",
    "print ( (len(list(ss1.iter_discrete(period)))*period) - (len(list(ss2.iter_discrete(period)))*period) )\n"
   ]
  },
  {
   "cell_type": "code",
   "execution_count": null,
   "metadata": {},
   "outputs": [],
   "source": [
    "ss2 = SimSegment(50, 2_000, 500)\n",
    "list(ss2.iter_discrete(period))\n",
    "ss2.sim_time"
   ]
  },
  {
   "cell_type": "code",
   "execution_count": null,
   "metadata": {},
   "outputs": [],
   "source": [
    "def calc_segment(x, v0,  v1):\n",
    "    t = abs(2. * float(x) / float(v1+v0) )\n",
    "    a = (v1 - v0) / t\n",
    "    return t\n",
    "\n",
    "def simulate_segment(x, v0,  v1):\n",
    "    period = 4\n",
    "    ss = SimSegment(v0,v1,x)\n",
    "    list(ss.iter_discrete(period))\n",
    "    return ss.sim_time\n",
    "\n",
    "\n",
    "def rand_segment():\n",
    "    a_max = 1_000_000\n",
    "    \n",
    "    while True:\n",
    "        x = random.randint(0,100000)\n",
    "        v0 = random.randint(0,100000)\n",
    "        v1 = random.randint(0,100000)\n",
    "\n",
    "        t = abs(2. * float(x) / float(v1+v0) )\n",
    "        a = (v1 - v0) / t\n",
    "        \n",
    "        if a <= a_max:\n",
    "            return x, t, v0,  v1\n",
    "\n",
    "x, t, v0,  v1 = rand_segment()\n",
    "x, t, v0,  v1\n"
   ]
  },
  {
   "cell_type": "code",
   "execution_count": null,
   "metadata": {},
   "outputs": [],
   "source": [
    "rs = [rand_segment() for _ in range(500)]\n",
    "\n",
    "df = pd.DataFrame(rs, columns = 'x t v0 v1'.split())\n",
    "\n",
    "df['sim_time'] = df.apply(lambda r : simulate_segment(r['x'], r.v0,  r.v1) , axis=1) \n",
    "\n",
    "df['err'] = (df.t - df.sim_time)/(df.t)\n",
    "df['err'].hist()"
   ]
  },
  {
   "cell_type": "code",
   "execution_count": null,
   "metadata": {},
   "outputs": [],
   "source": [
    "df.sort_values('err')"
   ]
  },
  {
   "cell_type": "code",
   "execution_count": null,
   "metadata": {},
   "outputs": [],
   "source": [
    "simulate_segment(20000, 200,  40000), calc_segment(20000, 200,  40000)"
   ]
  },
  {
   "cell_type": "code",
   "execution_count": null,
   "metadata": {},
   "outputs": [],
   "source": [
    "simulate_segment(20000, 100,  10000), calc_segment(20000, 100,  10000)"
   ]
  },
  {
   "cell_type": "code",
   "execution_count": null,
   "metadata": {},
   "outputs": [],
   "source": [
    "from itertools import islice\n",
    "ss = SimSegment(v0=0, v1=10000, x=100)\n",
    "for e in islice(ss.iter_time(period),20):\n",
    "    print(e)"
   ]
  },
  {
   "cell_type": "code",
   "execution_count": null,
   "metadata": {},
   "outputs": [],
   "source": [
    "l = list(ss.iter_time(period))\n",
    "l[-1], len(l)"
   ]
  },
  {
   "cell_type": "code",
   "execution_count": null,
   "metadata": {},
   "outputs": [],
   "source": [
    "calc_segment(100, 0, 10000)"
   ]
  },
  {
   "cell_type": "code",
   "execution_count": null,
   "metadata": {},
   "outputs": [],
   "source": [
    "a = 5\n",
    "b = 7\n",
    "\n",
    "( (1/a) - (1/b)), (b-a)/(a*b)"
   ]
  },
  {
   "cell_type": "code",
   "execution_count": null,
   "metadata": {},
   "outputs": [],
   "source": [
    "sl = SegmentList([Joint(75000, 300_000, 300_000), Joint(75000, 300_000, 300_000)])\n",
    "for i in range(2):\n",
    "    sl.add_distance_segment([100_000, 10_000])\n",
    "\n",
    "sl.update()\n",
    "    \n",
    "ss = []\n",
    "for e in sl.sub_segments:\n",
    "    print(e)\n",
    "    ss.append([SimSegment(x=axis.x, v0=axis.v_i, v1=axis.v_f)  for i, axis in enumerate(e)]) "
   ]
  },
  {
   "cell_type": "code",
   "execution_count": null,
   "metadata": {},
   "outputs": [],
   "source": [
    "def run_ss(ss):\n",
    "    l = list(ss.iter_time(period))\n",
    "    return len(l), ss.sim_time, ss.a, ss.x, ss.v0, ss.v1\n",
    "\n",
    "for i, e in enumerate(ss):\n",
    "    print([run_ss(i) for i in e])"
   ]
  },
  {
   "cell_type": "code",
   "execution_count": null,
   "metadata": {},
   "outputs": [],
   "source": []
  }
 ],
 "metadata": {
  "kernelspec": {
   "display_name": "Python 3 (ipykernel)",
   "language": "python",
   "name": "python3"
  },
  "language_info": {
   "codemirror_mode": {
    "name": "ipython",
    "version": 3
   },
   "file_extension": ".py",
   "mimetype": "text/x-python",
   "name": "python",
   "nbconvert_exporter": "python",
   "pygments_lexer": "ipython3",
   "version": "3.9.12"
  }
 },
 "nbformat": 4,
 "nbformat_minor": 4
}
