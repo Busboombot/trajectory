{
 "cells": [
  {
   "cell_type": "code",
   "execution_count": 1,
   "metadata": {},
   "outputs": [
    {
     "ename": "ModuleNotFoundError",
     "evalue": "No module named 'trajectory'",
     "output_type": "error",
     "traceback": [
      "\u001b[0;31m---------------------------------------------------------------------------\u001b[0m",
      "\u001b[0;31mModuleNotFoundError\u001b[0m                       Traceback (most recent call last)",
      "Input \u001b[0;32mIn [1]\u001b[0m, in \u001b[0;36m<cell line: 4>\u001b[0;34m()\u001b[0m\n\u001b[1;32m      2\u001b[0m get_ipython()\u001b[38;5;241m.\u001b[39mrun_line_magic(\u001b[38;5;124m'\u001b[39m\u001b[38;5;124mautoreload\u001b[39m\u001b[38;5;124m'\u001b[39m, \u001b[38;5;124m'\u001b[39m\u001b[38;5;124m2\u001b[39m\u001b[38;5;124m'\u001b[39m)\n\u001b[1;32m      3\u001b[0m get_ipython()\u001b[38;5;241m.\u001b[39mrun_line_magic(\u001b[38;5;124m'\u001b[39m\u001b[38;5;124mmatplotlib\u001b[39m\u001b[38;5;124m'\u001b[39m, \u001b[38;5;124m'\u001b[39m\u001b[38;5;124minline\u001b[39m\u001b[38;5;124m'\u001b[39m)\n\u001b[0;32m----> 4\u001b[0m \u001b[38;5;28;01mfrom\u001b[39;00m \u001b[38;5;21;01mtrajectory\u001b[39;00m \u001b[38;5;28;01mimport\u001b[39;00m \u001b[38;5;241m*\u001b[39m \n\u001b[1;32m      5\u001b[0m \u001b[38;5;28;01mfrom\u001b[39;00m \u001b[38;5;21;01mtrajectory\u001b[39;00m\u001b[38;5;21;01m.\u001b[39;00m\u001b[38;5;21;01mplot\u001b[39;00m \u001b[38;5;28;01mimport\u001b[39;00m \u001b[38;5;241m*\u001b[39m \n\u001b[1;32m      6\u001b[0m \u001b[38;5;28;01mimport\u001b[39;00m \u001b[38;5;21;01mmatplotlib\u001b[39;00m\u001b[38;5;21;01m.\u001b[39;00m\u001b[38;5;21;01mpyplot\u001b[39;00m \u001b[38;5;28;01mas\u001b[39;00m \u001b[38;5;21;01mplt\u001b[39;00m\n",
      "\u001b[0;31mModuleNotFoundError\u001b[0m: No module named 'trajectory'"
     ]
    }
   ],
   "source": [
    "%load_ext autoreload\n",
    "%autoreload 2\n",
    "%matplotlib inline\n",
    "from trajectory import * \n",
    "from trajectory.plot import * \n",
    "import matplotlib.pyplot as plt\n",
    "from IPython.display import display\n",
    "import trajectory as tj\n",
    "import pandas as pd"
   ]
  },
  {
   "cell_type": "code",
   "execution_count": null,
   "metadata": {},
   "outputs": [],
   "source": [
    "\n",
    "sign = lambda a: 1 if a>0 else -1 if a<0 else 0"
   ]
  },
  {
   "cell_type": "code",
   "execution_count": null,
   "metadata": {},
   "outputs": [],
   "source": [
    "class BStepper(object):\n",
    "    \n",
    "    def __init__(self, x_f,y_f):\n",
    "        \n",
    "        self.x_f = x_f\n",
    "        self.y_f = y_f\n",
    "        \n",
    "        self.dx = abs(x_f)\n",
    "        self.sx = sign(x_f)\n",
    "\n",
    "        self.dy = -abs(y_f)\n",
    "        self.sy = sign(y_f)\n",
    "\n",
    "        self.err = self.dx + self.dy\n",
    "\n",
    "        self.x = 0;\n",
    "        self.y = 0;\n",
    "        \n",
    "        self.err = self.dx + self.dy\n",
    "    \n",
    "    def __iter__ (self):\n",
    "        return self\n",
    "        \n",
    "    def __next__(self):\n",
    "        \n",
    "        if (self.x == self.x_f and self.y == self.y_f):\n",
    "            return None, None, None, None\n",
    "        \n",
    "        x_step = 0\n",
    "        y_step = 0;\n",
    "        \n",
    "        e2 = 2*self.err\n",
    "        \n",
    "        if e2 >= self.dy:\n",
    "            self.err += self.dy\n",
    "            self.x += self.sx\n",
    "            x_step = 1\n",
    "            \n",
    "        if e2 <= self.dx:\n",
    "            self.err += self.dx\n",
    "            self.y += self.sy\n",
    "            y_step = 1\n",
    "            \n",
    "        return self.x, self.y, x_step, y_step\n",
    "            \n",
    "        \n",
    "def plot_line (x1,  y1):\n",
    "\n",
    "    x,y = 0,0\n",
    "    \n",
    "    dx = abs(x1)\n",
    "    sx = sign(x1)\n",
    "    \n",
    "    dy = -abs(y1)\n",
    "    sy = sign(y1)\n",
    "    \n",
    "    err = dx + dy\n",
    "    \n",
    "    while True:\n",
    "        yield x,y\n",
    "        if x == x1 and y == y1:\n",
    "            break;\n",
    "        e2 = 2*err;\n",
    "        if e2 >= dy:\n",
    "            err += dy\n",
    "            x += sx\n",
    "            \n",
    "        if e2 <= dx:\n",
    "            err += dx\n",
    "            y += sy\n",
    "            \n",
    "\n",
    "for e in iter(BStepper(7,13)):\n",
    "    if e[0] is None:\n",
    "        break\n",
    "    print(e)\n",
    "            "
   ]
  },
  {
   "cell_type": "code",
   "execution_count": null,
   "metadata": {},
   "outputs": [],
   "source": [
    "from fractions import Fraction\n",
    "\n",
    "base_freq = 1000\n",
    "v0 = 100\n",
    "v1 = 500\n",
    "x = 100\n",
    "\n",
    "100/base_freq * 10000\n",
    "\n",
    "def params(v):\n",
    "    f = Fraction(int(round(v/base_freq * 10000,0)), 10000)\n",
    "    return f.numerator, f.denominator\n",
    "\n",
    "step, limit = params(80)\n",
    "\n",
    "params(100), params(500)"
   ]
  },
  {
   "cell_type": "raw",
   "metadata": {},
   "source": [
    "uint_8 240\n",
    "uint16_t 240\n",
    "uint32_t 243\n",
    "float 90\n",
    "double 73"
   ]
  }
 ],
 "metadata": {
  "kernelspec": {
   "display_name": "Python 3 (ipykernel)",
   "language": "python",
   "name": "python3"
  },
  "language_info": {
   "codemirror_mode": {
    "name": "ipython",
    "version": 3
   },
   "file_extension": ".py",
   "mimetype": "text/x-python",
   "name": "python",
   "nbconvert_exporter": "python",
   "pygments_lexer": "ipython3",
   "version": "3.9.12"
  }
 },
 "nbformat": 4,
 "nbformat_minor": 4
}
