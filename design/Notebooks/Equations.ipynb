{
 "cells": [
  {
   "cell_type": "code",
   "execution_count": 67,
   "id": "31e31554-0145-47a4-8f04-de6e1c233315",
   "metadata": {},
   "outputs": [],
   "source": [
    "from sympy import * \n",
    "import math \n",
    "from trajectory.planner import accel_tx"
   ]
  },
  {
   "cell_type": "code",
   "execution_count": 2,
   "id": "061d0ae0-eb3a-43ca-82f6-15452368a3fb",
   "metadata": {},
   "outputs": [
    {
     "name": "stdout",
     "output_type": "stream",
     "text": [
      "x_a+x_d = v_c**2/a\n",
      "x_c = a*v_c/(a*t - 2*v_c)\n",
      "x = v_c/(t - 2*v_c/a) + v_c**2/a\n"
     ]
    },
    {
     "data": {
      "text/plain": [
       "[0, a*(t/4 - sqrt(t**2 + 8)/4), a*(t/4 + sqrt(t**2 + 8)/4)]"
      ]
     },
     "execution_count": 2,
     "metadata": {},
     "output_type": "execute_result"
    }
   ],
   "source": [
    "# Area of a trapezoid, and height in terms of area\n",
    "t, x, a, v_c = symbols('t x a v_c')\n",
    "\n",
    "t_a = v_c / a\n",
    "t_d = v_c / a\n",
    "\n",
    "x_a = t_a*v_c/2\n",
    "x_d = t_d*v_c/2\n",
    "\n",
    "print(\"x_a+x_d =\",str(simplify(x_a+x_d)))\n",
    "\n",
    "t_c = t - t_a - t_d\n",
    "x_c = v_c / t_c\n",
    "print(\"x_c =\",str(simplify(x_c)))\n",
    "\n",
    "\n",
    "x = v_c / t_c + v_c**2/a\n",
    "\n",
    "x = simplify(x)\n",
    "\n",
    "print(\"x =\",str(x) )\n",
    "solve(x, v_c)"
   ]
  },
  {
   "cell_type": "code",
   "execution_count": 10,
   "id": "2c0f0a91-5e31-4bba-9183-44a8d314e11d",
   "metadata": {},
   "outputs": [
    {
     "data": {
      "text/plain": [
       "('(2*v_c*(a*t + v_0 + v_1 - 2*v_c) - (v_0 - v_c)*(v_0 + v_c) - (v_1 - v_c)*(v_1 + v_c))/(2*a)',\n",
       " 'v_c*(a*t - v_c)/a')"
      ]
     },
     "execution_count": 10,
     "metadata": {},
     "output_type": "execute_result"
    }
   ],
   "source": [
    "# Area for full pentagon, with v_0 and v_1\n",
    "x, t,  a, v_0, v_c, v_1 = symbols('x t a v_0 v_c v_1')\n",
    "\n",
    "t_a = (v_c - v_0) / a\n",
    "t_d = (v_c - v_1) / a\n",
    "t_c = t - t_a - t_d\n",
    "x_a = ((v_0 + v_c) / 2) * t_a\n",
    "x_d = ((v_c + v_1) / 2) * t_d\n",
    "\n",
    "x_c = v_c * t_c\n",
    "\n",
    "x_pent = x_a+x_c+x_d\n",
    "\n",
    "# Area of a pentagon, with v_0 and v_1, and area of trapezoid, with v0=v1=0\n",
    "x_pent = simplify(x_pent)\n",
    "x_trap = simplify(x_pent.subs(v_1, 0).subs(v_0, 0))\n",
    "str(x_pent), str(x_trap)"
   ]
  },
  {
   "cell_type": "code",
   "execution_count": 11,
   "id": "e54a032e-609d-46e0-8920-e5399d247932",
   "metadata": {},
   "outputs": [
    {
     "data": {
      "text/plain": [
       "[a*t/2 - sqrt(a*(a*t**2 - 4*x))/2, a*t/2 + sqrt(a*(a*t**2 - 4*x))/2]"
      ]
     },
     "execution_count": 11,
     "metadata": {},
     "output_type": "execute_result"
    }
   ],
   "source": [
    "# Solve simple trapezoid for v_c\n",
    "\n",
    "solve(Eq(x, x_trap), v_c)"
   ]
  },
  {
   "cell_type": "code",
   "execution_count": 95,
   "id": "69fc75fd-b06b-46c4-ae2d-2b779c640268",
   "metadata": {},
   "outputs": [],
   "source": [
    "\n",
    "\n",
    "a = 1e5\n",
    "v_c = 1500\n",
    "t = 3\n",
    "x1 = penta_area(t, 0, v_c, 0, a)\n",
    "v_c_2 = trap_v_c(x1, t, a)\n",
    "\n",
    "assert v_c_2 == v_c, (v_c_2, v_c)\n"
   ]
  },
  {
   "cell_type": "code",
   "execution_count": 96,
   "id": "7bf041f1-d35c-4256-8a0b-8b4899d7f7ff",
   "metadata": {},
   "outputs": [
    {
     "name": "stdout",
     "output_type": "stream",
     "text": [
      "1837.5 0.47 860.0 2000\n"
     ]
    },
    {
     "data": {
      "text/plain": [
       "4000.0"
      ]
     },
     "execution_count": 96,
     "metadata": {},
     "output_type": "execute_result"
    }
   ],
   "source": [
    "\n",
    "\n",
    "\n",
    "\n",
    "# Test case, trivial trapezoid\n",
    "t, v_0, v_c, v_1, a = (.5, 0, 4000, 0, 50_000)\n",
    "x = penta_area(t, v_0, v_c, v_1, a)\n",
    "tt_t, tt_x, v_max = simplify_pentagon(x, t, v_0, v_c, v_1, a)\n",
    "assert tt_t == t and tt_x == x and v_max == 0\n",
    "\n",
    "\n",
    "t, v_0, v_c, v_1, a = (.5, 2000, 4000, 500, 50_000)\n",
    "x = penta_area(t, v_0, v_c, v_1, a)\n",
    "tt_t, tt_x, v_max = simplify_pentagon(x, t, v_0, v_c, v_1, a)\n",
    "print(x, tt_t, tt_x, v_max)\n",
    "\n",
    "assert trap_v_c(tt_x, tt_t, a)+v_max == v_c\n",
    "\n",
    "# Now, we can subtract the error from tt_x and recalcullate\n",
    "err_x = 0\n",
    "trap_v_c(tt_x-err_x, tt_t, a)+v_max\n"
   ]
  },
  {
   "cell_type": "code",
   "execution_count": 97,
   "id": "a496c160-a72a-4692-8a1d-ff87ae7878b2",
   "metadata": {},
   "outputs": [
    {
     "data": {
      "text/plain": [
       "(2080.0, 1, 2000, 2148.556835804895)"
      ]
     },
     "execution_count": 97,
     "metadata": {},
     "output_type": "execute_result"
    }
   ],
   "source": [
    "    \n",
    "def penta_v_c(x, t, v_0, v_1, a):\n",
    "    \"\"\" Find the v_c for a pentagon, through decompositions\n",
    "    \n",
    "    /--------------------\n",
    "   /                     \\\n",
    "  /          T            \\\n",
    " / ________________________\\\n",
    "|        B2               |S\\\n",
    "|_________________________|__\\\n",
    "|        B1                  |\n",
    "------------------------------\n",
    "    \"\"\"\n",
    "    \n",
    "    x_i = x\n",
    "    \n",
    "    v_max = max(v_1, v_0)\n",
    "    v_min = min(v_1, v_0)\n",
    "    \n",
    "    # Base B1, below min(v_0, v_1)\n",
    "    x_b1 = v_min * t\n",
    "    \n",
    "    # Side s (st_) area\n",
    "    t_st = (v_max - v_min) / a \n",
    "    x_st = (v_max + v_min) / 2 * t_st\n",
    "    \n",
    "    # Base B2, between v_min and v_max\n",
    "    t_b2 = t - t_st\n",
    "    x_b2 = t_b2 * (v_max - v_min)\n",
    "    \n",
    "    # Area of the top trapezoid\n",
    "    x_t = x - x_st - x_b1 - x_b2\n",
    "    t_t = t_b2\n",
    "    \n",
    "    v_c = trap_v_c(x_t, t_t, a)\n",
    "    \n",
    "    return v_c + v_max\n",
    "    \n",
    "    \n",
    "t, v_0, v_c, v_1, a = (1, 4000, 2000, 4000, 50_000)\n",
    "x = penta_area(t, v_0, v_c, v_1, a)\n",
    "\n",
    "x, t, v_c, penta_v_c(x, t, v_0, v_1, a)\n",
    "    "
   ]
  },
  {
   "cell_type": "code",
   "execution_count": 98,
   "id": "0e38add1-52e5-4599-9fe8-fbffbf253a95",
   "metadata": {},
   "outputs": [
    {
     "data": {
      "text/plain": [
       "(120.0, 0.04, 0.92, 2080.0)"
      ]
     },
     "execution_count": 98,
     "metadata": {},
     "output_type": "execute_result"
    }
   ],
   "source": [
    "x_a, t_a = accel_tx(4000, 2000, 50_000)\n",
    "x_a, t_a, t-2*t_a, (t-2*t_a) * 2000 +2*x_a\n",
    "\n"
   ]
  },
  {
   "cell_type": "code",
   "execution_count": 99,
   "id": "5f7e83eb-4fe2-485e-87c1-212fede8e18e",
   "metadata": {},
   "outputs": [
    {
     "data": {
      "text/plain": [
       "1920.0"
      ]
     },
     "execution_count": 99,
     "metadata": {},
     "output_type": "execute_result"
    }
   ],
   "source": [
    "t_a = v_c/a\n",
    "t_c = t - 2*t_a\n",
    "x_a = t_a * v_c\n",
    "x_c = t_c * v_c\n",
    "x_a + x_c"
   ]
  }
 ],
 "metadata": {
  "kernelspec": {
   "display_name": "Python 3 (ipykernel)",
   "language": "python",
   "name": "python3"
  },
  "language_info": {
   "codemirror_mode": {
    "name": "ipython",
    "version": 3
   },
   "file_extension": ".py",
   "mimetype": "text/x-python",
   "name": "python",
   "nbconvert_exporter": "python",
   "pygments_lexer": "ipython3",
   "version": "3.9.12"
  }
 },
 "nbformat": 4,
 "nbformat_minor": 5
}
