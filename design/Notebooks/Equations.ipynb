{
 "cells": [
  {
   "cell_type": "code",
   "execution_count": 177,
   "id": "061d0ae0-eb3a-43ca-82f6-15452368a3fb",
   "metadata": {},
   "outputs": [],
   "source": [
    "# Solve the triangle using line equations \n",
    "# Given x, v0, v1. Accelerate to v_c, then back down\n",
    "%reset -f \n",
    "from sympy import * \n",
    "import math \n",
    "from trajectory.trapmath import *\n",
    "from sympy.solvers.solveset import linsolve\n",
    "\n",
    "x, t,  a, v, v_0, v_c, v_1, t_a, t_d, t_f, v_max= symbols('x t a_max v v_0 v_c v_1 t_a t_d t_f v_max', real=True)\n",
    "\n",
    "# Simple trapezoid equation\n",
    "\n",
    "t_a = ((v_c - v_0) / a)\n",
    "t_d = ((v_1 - v_c) / a)\n",
    "\n",
    "\n",
    "x_a = ((v_0 + v_c) / 2) * t_a\n",
    "x_d = ((v_c + v_1) / 2) * t_d\n",
    "\n",
    "t_c = t - t_a - t_d\n",
    "x_c = v_c * t_c\n",
    "\n",
    "x_pent = simplify(x_a+x_c+x_d)\n",
    "\n",
    "\n",
    "#==================\n",
    "\n",
    "# Linear equations\n",
    "\n",
    "v0_u  =  a*t+v_0\n",
    "v0_d  =  -a*t+v_0\n",
    "\n",
    "\n",
    "\n",
    "v1_u  = -a*(t-t_f)+v_1\n",
    "v1_d  = a*(t-t_f)+v_1\n",
    "\n",
    "e_v0 = Eq(v,v0_u)\n",
    "e_v1 = Eq(v,v1_u)\n",
    "\n",
    "# =================\n",
    "\n",
    "e_x =   Eq(x,   (v_0 + v_1)/2 * t)  # No a\n",
    "e_t =   Eq(x,   (a*t**2)/2)         # No v\n",
    "e_v_1 = Eq(v_1, (v_0 - a*t))        # No x\n"
   ]
  },
  {
   "cell_type": "code",
   "execution_count": 178,
   "id": "a9806cdd-7c4e-40c9-8797-1f8a3c49c060",
   "metadata": {},
   "outputs": [
    {
     "data": {
      "text/plain": [
       "[a_max*t - sqrt(a_max*(a_max*t**2 - 2*x)),\n",
       " a_max*t + sqrt(a_max*(a_max*t**2 - 2*x))]"
      ]
     },
     "execution_count": 178,
     "metadata": {},
     "output_type": "execute_result"
    }
   ],
   "source": [
    "x, t,  a, v, v_0, v_c, v_1, t_a, t_d, t_f, v_max= symbols('x t a_max v v_0 v_c v_1 t_a t_d t_f v_max', real=True)\n",
    "\n",
    "t_x = v_c/a\n",
    "e_x = Eq(x, (t+t-t_x)/2*v_c)\n",
    "solve(e_x, v_c)\n"
   ]
  },
  {
   "cell_type": "code",
   "execution_count": 181,
   "id": "f09e4cc0-c9ea-48a1-9236-319e2617d2c8",
   "metadata": {},
   "outputs": [
    {
     "data": {
      "text/plain": [
       "[a_max*t/2 - sqrt(a_max*(a_max*t**2 - 4*x))/2,\n",
       " a_max*t/2 + sqrt(a_max*(a_max*t**2 - 4*x))/2]"
      ]
     },
     "execution_count": 181,
     "metadata": {},
     "output_type": "execute_result"
    }
   ],
   "source": [
    "e_x = Eq(x, v_c * (t-t_x) )\n",
    "solve(e_x,v_c)"
   ]
  },
  {
   "cell_type": "code",
   "execution_count": 179,
   "id": "35d9f232-664a-4e62-ac4e-d79e5d08d723",
   "metadata": {},
   "outputs": [
    {
     "data": {
      "text/plain": [
       "(a_max*t_f/2 + v_0/2 + v_1/2, -a_max*t_f/2 + v_0/2 + v_1/2)"
      ]
     },
     "execution_count": 179,
     "metadata": {},
     "output_type": "execute_result"
    }
   ],
   "source": [
    "v_0+a*solve(Eq(v0_u, v1_u),t)[0], v_0-a*solve(Eq(v0_d, v1_d), t)[0]"
   ]
  },
  {
   "cell_type": "code",
   "execution_count": 151,
   "id": "3b38e7cd-a7c5-4f9e-b888-3bc5a4a3fd55",
   "metadata": {},
   "outputs": [
    {
     "data": {
      "text/plain": [
       "((a_max*t_f + v_0 - v_1)/(2*a_max), (a_max*t_f - v_0 + v_1)/(2*a_max))"
      ]
     },
     "execution_count": 151,
     "metadata": {},
     "output_type": "execute_result"
    }
   ],
   "source": [
    "solve(Eq(v0_d, v1_d), t)[0], solve(Eq(v0_u, v1_u), t)[0]"
   ]
  },
  {
   "cell_type": "code",
   "execution_count": null,
   "id": "df9bd6ae-4894-40c0-a4be-168eaa66e7d1",
   "metadata": {},
   "outputs": [],
   "source": []
  },
  {
   "cell_type": "code",
   "execution_count": 191,
   "id": "af3a1edd-6111-4522-aa14-6f1b06de3c56",
   "metadata": {},
   "outputs": [
    {
     "data": {
      "image/png": "[encoded data removed]",
      "text/plain": [
       "<Figure size 432x288 with 1 Axes>"
      ]
     },
     "metadata": {
      "needs_background": "light"
     },
     "output_type": "display_data"
    }
   ],
   "source": [
    "%matplotlib inline \n",
    "import matplotlib.pyplot as plt\n",
    "from sympy.plotting import plot\n",
    "\n",
    "v0u = plot((a*t+v_0).subs(v_0,200).subs(a,200), show=False,xlim=(0,1), ylim=(0,505))\n",
    "v0d = plot((-a*t+v_0).subs(v_0,200).subs(a,200), show=False,xlim=(0,1), ylim=(0,505))\n",
    "\n",
    "v1u = plot((-a*(t-t_f)+v_1).subs(v_1,100).subs(a,200).subs(t_f,1), show=False, xlim=(0,1), ylim=(0,505))\n",
    "v1d = plot((a*(t-t_f)+v_1).subs(v_1,100).subs(a,200).subs(t_f,1), show=False, xlim=(0,1), ylim=(0,505))\n",
    "\n",
    "v0u.append(v0d[0])\n",
    "v0u.append(v1u[0])\n",
    "v0u.append(v1d[0])\n",
    "\n",
    "v0u.show()"
   ]
  },
  {
   "cell_type": "code",
   "execution_count": 126,
   "id": "74a87f52-9979-4ca4-a703-24126fd1284b",
   "metadata": {},
   "outputs": [],
   "source": []
  },
  {
   "cell_type": "code",
   "execution_count": 127,
   "id": "21f0b9b4-b8ae-4c6a-9cb7-cd428eb767e2",
   "metadata": {},
   "outputs": [
    {
     "data": {
      "text/latex": [
       "$\\displaystyle \\frac{a_{max} t_{f} + v_{0} - v_{1}}{2 a_{max}}$"
      ],
      "text/plain": [
       "(a_max*t_f + v_0 - v_1)/(2*a_max)"
      ]
     },
     "execution_count": 127,
     "metadata": {},
     "output_type": "execute_result"
    }
   ],
   "source": [
    "# Lower Intersection\n",
    "t_i = solve(Eq(v0_d , v1_d), t)[0]\n",
    "t_i"
   ]
  },
  {
   "cell_type": "code",
   "execution_count": 122,
   "id": "1fea6527-15ed-48ad-8629-d464544f3925",
   "metadata": {},
   "outputs": [
    {
     "data": {
      "text/latex": [
       "$\\displaystyle \\frac{a_{max} t_{f} - v_{0} + v_{1}}{2 a_{max}}$"
      ],
      "text/plain": [
       "(a_max*t_f - v_0 + v_1)/(2*a_max)"
      ]
     },
     "execution_count": 122,
     "metadata": {},
     "output_type": "execute_result"
    }
   ],
   "source": [
    "# Upper Intersection\n",
    "t_i =solve(Eq(v0_u , v1_u), t)[0]\n",
    "t_i"
   ]
  }
 ],
 "metadata": {
  "kernelspec": {
   "display_name": "Python 3 (ipykernel)",
   "language": "python",
   "name": "python3"
  },
  "language_info": {
   "codemirror_mode": {
    "name": "ipython",
    "version": 3
   },
   "file_extension": ".py",
   "mimetype": "text/x-python",
   "name": "python",
   "nbconvert_exporter": "python",
   "pygments_lexer": "ipython3",
   "version": "3.9.12"
  }
 },
 "nbformat": 4,
 "nbformat_minor": 5
}
