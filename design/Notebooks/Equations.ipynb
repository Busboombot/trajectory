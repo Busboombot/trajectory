{
 "cells": [
  {
   "cell_type": "code",
   "execution_count": 1,
   "id": "af3a1edd-6111-4522-aa14-6f1b06de3c56",
   "metadata": {
    "tags": []
   },
   "outputs": [
    {
     "data": {
      "image/png": "[encoded data removed]",
      "text/plain": [
       "<Figure size 432x288 with 1 Axes>"
      ]
     },
     "metadata": {
      "needs_background": "light"
     },
     "output_type": "display_data"
    }
   ],
   "source": [
    "%matplotlib inline \n",
    "import matplotlib.pyplot as plt\n",
    "from sympy import * \n",
    "from sympy.plotting import plot\n",
    "\n",
    "\n",
    "x, t,  a, v, v_0, v_c, v_1, t_a, t_d, t_f, v_max= symbols('x t a_max v v_0 v_c v_1 t_a t_d t_f v_max', real=True)\n",
    "\n",
    "\n",
    "v0u = plot((a*t+v_0).subs(v_0,200).subs(a,200), show=False,xlim=(0,1), ylim=(0,505))\n",
    "v0d = plot((-a*t+v_0).subs(v_0,200).subs(a,200), show=False,xlim=(0,1), ylim=(0,505))\n",
    "\n",
    "v1u = plot((-a*(t-t_f)+v_1).subs(v_1,100).subs(a,200).subs(t_f,1), show=False, xlim=(0,1), ylim=(0,505))\n",
    "v1d = plot((a*(t-t_f)+v_1).subs(v_1,100).subs(a,200).subs(t_f,1), show=False, xlim=(0,1), ylim=(0,505))\n",
    "\n",
    "v0u.append(v0d[0])\n",
    "v0u.append(v1u[0])\n",
    "v0u.append(v1d[0])\n",
    "\n",
    "v0u.show()"
   ]
  },
  {
   "cell_type": "code",
   "execution_count": 2,
   "id": "061d0ae0-eb3a-43ca-82f6-15452368a3fb",
   "metadata": {},
   "outputs": [
    {
     "data": {
      "text/latex": [
       "$\\displaystyle - \\frac{v_{0}^{2}}{2 a_{max}}$"
      ],
      "text/plain": [
       "-v_0**2/(2*a_max)"
      ]
     },
     "execution_count": 2,
     "metadata": {},
     "output_type": "execute_result"
    }
   ],
   "source": [
    "# Solve the triangle using line equations \n",
    "# Given x, v0, v1. Accelerate to v_c, then back down\n",
    "%reset -f \n",
    "from sympy import * \n",
    "import math \n",
    "\n",
    "x, t,  a, v, v_0, v_c, v_1, t_a, t_d, t_f, v_max= symbols('x t a_max v v_0 v_c v_1 t_a t_d t_f v_max', real=True)\n",
    "\n",
    "# Hexagon calculations\n",
    "\n",
    "t_a = (v_c - v_0) / a\n",
    "t_d = (v_1 - v_c) / -a\n",
    "\n",
    "x_a = ((v_0 + v_c) / 2) * t_a\n",
    "x_d = ((v_c + v_1) / 2) * t_d\n",
    "\n",
    "x_a_ = a*t_a**2/2 + v_0\n",
    "x_d_ = a*t_d**2/2 + v_1\n",
    "\n",
    "t_c = t - (t_a + t_d)\n",
    "x_c = t_c/v_c\n",
    "\n",
    "x_hex = simplify(x_a+x_c+x_d)\n",
    "\n",
    "\n",
    "#==================\n",
    "\n",
    "# Linear equations\n",
    "\n",
    "v0_u  =  a*t+v_0\n",
    "v0_d  =  -a*t+v_0\n",
    "\n",
    "v1_u  = -a*(t-t_f)+v_1\n",
    "v1_d  = a*(t-t_f)+v_1\n",
    "\n",
    "e_v0 = Eq(v,v0_u)\n",
    "e_v1 = Eq(v,v1_u)\n",
    "\n",
    "# =================\n",
    "\n",
    "e_x =   Eq(x,   (v_0 + v_1)/2 * t)  # No a\n",
    "e_t =   Eq(x,   (a*t**2)/2)         # No v\n",
    "e_v_1 = Eq(v_1, (v_0 - a*t))        # No x\n",
    "\n",
    "# Solve for V_C for an accel profile -- no decel phase\n",
    "solve(Eq(x,x_a+ (v_c * (t-t_a))), v_c)\n",
    "\n",
    "# Lower Intersection\n",
    "t_i = solve(Eq(v0_d , v1_d), t)[0]\n",
    "\n",
    "# Upper Intersection\n",
    "t_u =solve(Eq(v0_u , v1_u), t)[0]\n",
    "\n",
    "x_a.subs(v_c, 0)"
   ]
  },
  {
   "cell_type": "code",
   "execution_count": 3,
   "id": "ce5f54dd-7599-4d0a-9b95-3821286cdece",
   "metadata": {},
   "outputs": [
    {
     "data": {
      "text/markdown": [
       "## Solve for v_c"
      ],
      "text/plain": [
       "<IPython.core.display.Markdown object>"
      ]
     },
     "metadata": {},
     "output_type": "display_data"
    },
    {
     "data": {
      "text/latex": [
       "$\\displaystyle a_{max} t + \\frac{v_{0}}{2} - \\frac{\\sqrt{4 a_{max}^{2} t^{2} + 4 a_{max} t v_{0} - 8 a_{max} x + v_{0}^{2}}}{2}$"
      ],
      "text/plain": [
       "a_max*t + v_0/2 - sqrt(4*a_max**2*t**2 + 4*a_max*t*v_0 - 8*a_max*x + v_0**2)/2"
      ]
     },
     "metadata": {},
     "output_type": "display_data"
    },
    {
     "data": {
      "text/plain": [
       "'a_max*t + v_0/2 - sqrt(4*a_max**2*t**2 + 4*a_max*t*v_0 - 8*a_max*x + v_0**2)/2'"
      ]
     },
     "metadata": {},
     "output_type": "display_data"
    },
    {
     "data": {
      "text/markdown": [
       "## Area"
      ],
      "text/plain": [
       "<IPython.core.display.Markdown object>"
      ]
     },
     "metadata": {},
     "output_type": "display_data"
    },
    {
     "data": {
      "text/latex": [
       "$\\displaystyle v_{c} \\left(t - \\frac{- v_{0} + v_{c}}{a_{max}}\\right) + \\frac{v_{c} \\left(- v_{0} + v_{c}\\right)}{2 a_{max}}$"
      ],
      "text/plain": [
       "v_c*(t - (-v_0 + v_c)/a_max) + v_c*(-v_0 + v_c)/(2*a_max)"
      ]
     },
     "metadata": {},
     "output_type": "display_data"
    },
    {
     "data": {
      "text/markdown": [
       "### Differentiated"
      ],
      "text/plain": [
       "<IPython.core.display.Markdown object>"
      ]
     },
     "metadata": {},
     "output_type": "display_data"
    },
    {
     "data": {
      "text/latex": [
       "$\\displaystyle \\frac{\\partial}{\\partial v_{c}} x = v_{c} \\left(t - \\frac{- v_{0} + v_{c}}{a_{max}}\\right) + \\frac{v_{c} \\left(- v_{0} + v_{c}\\right)}{2 a_{max}}$"
      ],
      "text/plain": [
       "Derivative(Eq(x, v_c*(t - (-v_0 + v_c)/a_max) + v_c*(-v_0 + v_c)/(2*a_max)), v_c)"
      ]
     },
     "metadata": {},
     "output_type": "display_data"
    },
    {
     "data": {
      "text/latex": [
       "$\\displaystyle v_{c} = a_{max} t + \\frac{v_{0}}{2} + \\frac{\\sqrt{4 a_{max}^{2} t^{2} + 4 a_{max} t v_{0} - 8 a_{max} x + v_{0}^{2}}}{2}$"
      ],
      "text/plain": [
       "Eq(v_c, a_max*t + v_0/2 + sqrt(4*a_max**2*t**2 + 4*a_max*t*v_0 - 8*a_max*x + v_0**2)/2)"
      ]
     },
     "execution_count": 3,
     "metadata": {},
     "output_type": "execute_result"
    }
   ],
   "source": [
    "# Ramp profiles\n",
    "# Triangular profiles\n",
    "\n",
    "%reset -f \n",
    "from sympy import * \n",
    "from IPython.display import display, HTML, Markdown\n",
    "x, t,  a, v, v_0, v_c, v_1, t_a, t_d, t_f, v_max= symbols('x t a_max v v_0 v_c v_1 t_a t_d t_f v_max', real=True)\n",
    "\n",
    "t_a = ((v_c - v_0) / a)\n",
    "x_a = v_c/ 2 * t_a\n",
    "\n",
    "t_c = t - t_a\n",
    "x_c = v_c*t_c\n",
    "\n",
    "\n",
    "display(Markdown('## Solve for v_c'))\n",
    "display((solve(Eq(x, (x_a+x_c)), v_c)[0]))\n",
    "display(str((solve(simplify(Eq(x, x_a+x_c)), v_c)[0])))\n",
    "\n",
    "display(Markdown('## Area'))\n",
    "\n",
    "display(x_a+x_c)\n",
    "display(Markdown('### Differentiated'))\n",
    "\n",
    "display(diff(Eq(x, (x_a+x_c)), v_c))\n",
    "\n",
    "Eq(v_c, solve(Eq(x,(x_a+x_c)), v_c)[1])\n"
   ]
  },
  {
   "cell_type": "code",
   "execution_count": 4,
   "id": "ffc8f1b0-3334-4673-bb88-86d60f15f134",
   "metadata": {},
   "outputs": [
    {
     "data": {
      "text/latex": [
       "$\\displaystyle \\frac{v_{0}}{2} + \\frac{\\sqrt{8 a_{max} x + v_{0}^{2}}}{2}$"
      ],
      "text/plain": [
       "v_0/2 + sqrt(8*a_max*x + v_0**2)/2"
      ]
     },
     "execution_count": 4,
     "metadata": {},
     "output_type": "execute_result"
    }
   ],
   "source": [
    "t_a = ((v_c - v_0) / a)\n",
    "x_a = v_c/ 2 * t_a\n",
    "x_a.subs(t, t_a)\n",
    "solve(Eq(x, x_a.subs(t, t_a)), v_c)[1]"
   ]
  },
  {
   "cell_type": "code",
   "execution_count": null,
   "id": "69d4089d-a42c-4659-82df-954e668e1b9c",
   "metadata": {},
   "outputs": [],
   "source": []
  },
  {
   "cell_type": "code",
   "execution_count": 5,
   "id": "d9e7f7e9-0d02-4386-ab5c-0a5a5c5bd9a1",
   "metadata": {},
   "outputs": [
    {
     "data": {
      "text/plain": [
       "[2*x/(v_0 + v_1)]"
      ]
     },
     "execution_count": 5,
     "metadata": {},
     "output_type": "execute_result"
    }
   ],
   "source": [
    "solve(Eq(x, (v_0+v_1)/2*t), t)"
   ]
  },
  {
   "cell_type": "code",
   "execution_count": 11,
   "id": "1fa46d05-2062-4389-8fbf-efc2e2fa8c2b",
   "metadata": {},
   "outputs": [
    {
     "data": {
      "text/markdown": [
       "## Basic Trapezoid"
      ],
      "text/plain": [
       "<IPython.core.display.Markdown object>"
      ]
     },
     "metadata": {},
     "output_type": "display_data"
    },
    {
     "data": {
      "text/latex": [
       "$\\displaystyle v_{1} = - v_{0} + \\sqrt{2} \\sqrt{a_{max} x}$"
      ],
      "text/plain": [
       "Eq(v_1, -v_0 + sqrt(2)*sqrt(a_max*x))"
      ]
     },
     "metadata": {},
     "output_type": "display_data"
    },
    {
     "name": "stdout",
     "output_type": "stream",
     "text": [
      "Eq(v_1, -v_0 + sqrt(2)*sqrt(a_max*x))\n"
     ]
    }
   ],
   "source": [
    "# Basic Trapezoid\n",
    "%reset -f \n",
    "from sympy import * \n",
    "from IPython.display import display, HTML, Markdown\n",
    "x, t,  a, v, v_0, v_c, v_1, t_a, t_d, dv, v_max= symbols('x t a_max v v_0 v_c v_1 t_a t_d dv v_max', real=True)\n",
    "\n",
    "display(Markdown('## Basic Trapezoid'))\n",
    "\n",
    "e1 = Eq(x,(v_0+v_1)/2*t)\n",
    "e2 = Eq(v_1,-v_0+a*t)\n",
    "\n",
    "e4 = Eq(v_1, solve(e1.subs(t, solve(e2, t)[0]), v_1)[1])\n",
    "display(e4)\n",
    "print(e4)\n",
    "\n"
   ]
  },
  {
   "cell_type": "code",
   "execution_count": 7,
   "id": "b29c084c-9d8d-4ce5-8256-e8584e04e901",
   "metadata": {},
   "outputs": [
    {
     "data": {
      "text/plain": [
       "'a_max*t + v_0 - sqrt(a_max*(a_max*t**2 + 2*t*v_0 - 2*x))'"
      ]
     },
     "execution_count": 7,
     "metadata": {},
     "output_type": "execute_result"
    }
   ],
   "source": [
    "%reset -f \n",
    "from sympy import * \n",
    "from IPython.display import display, HTML, Markdown\n",
    "x, t,  a, v, v_0, v_c, v_1, t_a, t_d, t_f, v_max= symbols('x t a_max v v_0 v_c v_1 t_a t_d t_f v_max', real=True)\n",
    "\n",
    "t_a = ((v_c - v_0) / a)\n",
    "x_a = a*t_a**2/2 + v_0*t_a\n",
    "\n",
    "t_c = t - t_a\n",
    "x_c = v_c*t_c\n",
    "\n",
    "str(solve(Eq(x, (x_a+x_c)), v_c)[0])"
   ]
  },
  {
   "cell_type": "code",
   "execution_count": 8,
   "id": "8b7897b7-1058-4ff0-987e-5a199aab647f",
   "metadata": {},
   "outputs": [
    {
     "ename": "NameError",
     "evalue": "name 'x_a' is not defined",
     "output_type": "error",
     "traceback": [
      "\u001b[0;31m---------------------------------------------------------------------------\u001b[0m",
      "\u001b[0;31mNameError\u001b[0m                                 Traceback (most recent call last)",
      "Input \u001b[0;32mIn [8]\u001b[0m, in \u001b[0;36m<cell line: 12>\u001b[0;34m()\u001b[0m\n\u001b[1;32m      9\u001b[0m x_d_ \u001b[38;5;241m=\u001b[39m a\u001b[38;5;241m*\u001b[39mt_d\u001b[38;5;241m*\u001b[39m\u001b[38;5;241m*\u001b[39m\u001b[38;5;241m2\u001b[39m\u001b[38;5;241m/\u001b[39m\u001b[38;5;241m2\u001b[39m \u001b[38;5;241m+\u001b[39m v_1\n\u001b[1;32m     11\u001b[0m t_c \u001b[38;5;241m=\u001b[39m t \u001b[38;5;241m-\u001b[39m t_a\n\u001b[0;32m---> 12\u001b[0m x_c \u001b[38;5;241m=\u001b[39m x \u001b[38;5;241m-\u001b[39m \u001b[43mx_a\u001b[49m\n",
      "\u001b[0;31mNameError\u001b[0m: name 'x_a' is not defined"
     ]
    }
   ],
   "source": [
    "# Triangular profiles\n",
    "%reset -f \n",
    "from sympy import * \n",
    "x, t,  a, v, v_0, v_c, v_1, t_a, t_d, t_f, v_max= symbols('x t a_max v v_0 v_c v_1 t_a t_d t_f v_max', real=True)\n",
    "\n",
    "t_a = ((v_c - v_0) / a)\n",
    "t_d = ((v_1 - v_c) / a)\n",
    "x_a_ = a*t_a**2/2 + v_0\n",
    "x_d_ = a*t_d**2/2 + v_1\n",
    "\n",
    "t_c = t - t_a\n",
    "x_c = x - x_a\n",
    "\n",
    "\n"
   ]
  },
  {
   "cell_type": "code",
   "execution_count": null,
   "id": "c13a8d2e-bce6-413b-981c-2eb25488c33b",
   "metadata": {},
   "outputs": [],
   "source": [
    "%reset -f \n",
    "from sympy import * \n",
    "from IPython.display import HTML\n",
    "x, t,  a, v, v_0, v_c, v_1, t_a, t_d, t_f, v_max= symbols('x t a_max v v_0 v_c v_1 t_a t_d t_f v_max', real=True)\n",
    "\n",
    "e1 = Eq(x, a*t**2/2)\n",
    "display(e1)\n",
    "e2 = Eq(v_1, v_c+a*t)\n",
    "display(e2)\n",
    "display(HTML('Distance traveled in acceleration'))\n",
    "solve(Eq(solve(e2, t)[0], solve(e1, t)[0]),x)[0]"
   ]
  },
  {
   "cell_type": "code",
   "execution_count": null,
   "id": "6d354bc7-f56d-45d9-8d7e-881788786ede",
   "metadata": {},
   "outputs": [],
   "source": [
    "x_a = (v_0-v_c)**2/(2*a)\n",
    "x_d = (v_c-v_1)**2/(2*a)\n",
    "solve(x_a+x_d, v_c)[0]"
   ]
  },
  {
   "cell_type": "code",
   "execution_count": null,
   "id": "8fb9e01d-828e-486c-a184-2d29fae0183a",
   "metadata": {},
   "outputs": [],
   "source": [
    "simplify((x_a+x_d).subs(v_1,1000).subs(v_0,3000).subs(a,50_000))"
   ]
  },
  {
   "cell_type": "code",
   "execution_count": null,
   "id": "19263520-d998-4c56-931b-f493a4d8bec8",
   "metadata": {},
   "outputs": [],
   "source": [
    "%reset -f \n",
    "from sympy import * \n",
    "from IPython.display import HTML\n",
    "x, t,  a, v, v_0, v_c, v_1, t_a, t_d, t_f, v_max= symbols('x t a_max v v_0 v_c v_1 t_a t_d t_f v_max', real=True)\n",
    "\n",
    "t_ad = (v_0-v_1)/a\n",
    "x_ad = (v_0+v_1)/2*t_ad\n",
    "str(simplify(x_ad))"
   ]
  },
  {
   "cell_type": "code",
   "execution_count": null,
   "id": "ad71ea40-f287-4738-9b70-c8032dc1dfb3",
   "metadata": {},
   "outputs": [],
   "source": [
    "\n",
    "%reset -f \n",
    "from sympy import * \n",
    "\n",
    "x, t,  a, v, v_0, v_c, v_1, t_a, t_d, t_f, v_max= symbols('x t a_max v v_0 v_c v_1 t_a t_d t_f v_max', real=True)\n",
    "\n",
    "# Trapezoid calculations\n",
    "\n",
    "t_ad = v_c / a # acel and decel are symmetric\n",
    "x_ad = a*t_ad**2/2 \n",
    "x_c = x - 2*x_ad\n",
    "t_c = t - 2*t_ad\n",
    "\n",
    "solve(Eq(v_c, simplify(x_c/t_c)),v_c)"
   ]
  },
  {
   "cell_type": "code",
   "execution_count": null,
   "id": "c7985bee-c6db-42d2-b53d-124cae9f1ee6",
   "metadata": {},
   "outputs": [],
   "source": [
    "from sympy import * \n",
    "x, t,  a, v, v_0, v_c, v_1, t_a, t_d, t_f, v_max= symbols('x t a_max v v_0 v_c v_1 t_a t_d t_f v_max', real=True)\n",
    "\n",
    "# Trapezoid calculations\n",
    "e1 = Eq(x,(v_0+v_1)/2*t)\n",
    "e2 = Eq(a, (v_1-v_0)/t)\n",
    "\n",
    "e3 = simplify(e2.subs(t, solve(e1, t)[0]))\n",
    "\n",
    "str(e3)"
   ]
  },
  {
   "cell_type": "code",
   "execution_count": 1,
   "id": "c76f2518-086f-45bd-ba01-9d193264f51e",
   "metadata": {},
   "outputs": [
    {
     "data": {
      "text/latex": [
       "$\\displaystyle - \\frac{2 x}{t \\left(v_{0}^{2} - v_{1}^{2}\\right) - 2 v_{1} x}$"
      ],
      "text/plain": [
       "-2*x/(t*(v_0**2 - v_1**2) - 2*v_1*x)"
      ]
     },
     "execution_count": 1,
     "metadata": {},
     "output_type": "execute_result"
    }
   ],
   "source": [
    "from sympy import * \n",
    "x, t,  a, v, v_0, v_c, v_1, t_a, t_d, t_f, v_max= symbols('x t a_max v v_0 v_c v_1 t_a t_d t_f v_max', real=True)\n",
    "\n",
    "simplify(1/((-v_0**2 + v_1**2)/(2*x)*t+v_1))"
   ]
  },
  {
   "cell_type": "code",
   "execution_count": 62,
   "id": "b90ad060-d901-477b-8722-9fb8f1ffe780",
   "metadata": {},
   "outputs": [
    {
     "data": {
      "text/latex": [
       "$\\displaystyle n = \\frac{t \\left(v_{f} + v_{i}\\right)}{2}$"
      ],
      "text/plain": [
       "Eq(n, t*(v_f + v_i)/2)"
      ]
     },
     "metadata": {},
     "output_type": "display_data"
    },
    {
     "data": {
      "text/latex": [
       "$\\displaystyle t = \\frac{2 n}{v_{f} + v_{i}}$"
      ],
      "text/plain": [
       "Eq(t, 2*n/(v_f + v_i))"
      ]
     },
     "metadata": {},
     "output_type": "display_data"
    },
    {
     "data": {
      "text/latex": [
       "$\\displaystyle v_{1} = a t + v_{0}$"
      ],
      "text/plain": [
       "Eq(v_1, a*t + v_0)"
      ]
     },
     "metadata": {},
     "output_type": "display_data"
    },
    {
     "data": {
      "text/latex": [
       "$\\displaystyle n = \\frac{a t^{2}}{2} + t v_{i}$"
      ],
      "text/plain": [
       "Eq(n, a*t**2/2 + t*v_i)"
      ]
     },
     "metadata": {},
     "output_type": "display_data"
    }
   ],
   "source": [
    "from sympy import * \n",
    "x, t,  a_m , a, v, v_i, v_f, n = symbols('x t a_max a v v_i v_f n ', real=True)\n",
    "\n",
    "e1 = Eq(n, (v_i+v_f)*t/2)\n",
    "display(e1)\n",
    "e2 = Eq(t, solve(e1, t)[0])\n",
    "display(e2)\n",
    "\n",
    "e3 = Eq(v_1,v_0+a*t)\n",
    "display(e3)\n",
    "\n",
    "e4 = Eq(n, vi*t + (a*t**2)/2)\n",
    "display(e4)\n"
   ]
  },
  {
   "cell_type": "code",
   "execution_count": 88,
   "id": "15110cbb-d495-4c5e-b60e-6fccb06e0647",
   "metadata": {},
   "outputs": [
    {
     "data": {
      "text/latex": [
       "$\\displaystyle \\frac{- \\sqrt{2 a n + v_{i}^{2}} + \\sqrt{2 a \\left(n + 1\\right) + v_{i}^{2}}}{a}$"
      ],
      "text/plain": [
       "(-sqrt(2*a*n + v_i**2) + sqrt(2*a*(n + 1) + v_i**2))/a"
      ]
     },
     "execution_count": 88,
     "metadata": {},
     "output_type": "execute_result"
    }
   ],
   "source": [
    "e6 = solve(e4, t)[1]\n",
    "e7 = e6.subs(n, n+1)\n",
    "simplify(e7-e6)"
   ]
  },
  {
   "cell_type": "code",
   "execution_count": 61,
   "id": "c71ad686-ca57-47b1-82e0-e9b48f815235",
   "metadata": {},
   "outputs": [
    {
     "data": {
      "text/plain": [
       "[2*(n - t*v_i)/t**2]"
      ]
     },
     "execution_count": 61,
     "metadata": {},
     "output_type": "execute_result"
    }
   ],
   "source": [
    "solve(e2.subs(vf, vi+a*t), a)"
   ]
  },
  {
   "cell_type": "code",
   "execution_count": 81,
   "id": "0a733863-03bf-4795-9499-b406ec912479",
   "metadata": {},
   "outputs": [
    {
     "data": {
      "text/plain": [
       "'(-t_f*v_i + sqrt(t_f*(2*n*v_f - 2*n*v_i + t_f*v_i**2)))/(v_f - v_i)'"
      ]
     },
     "execution_count": 81,
     "metadata": {},
     "output_type": "execute_result"
    }
   ],
   "source": [
    "e5 = e4.subs( a, (vf-vi)/t_f)\n",
    "str(solve(e5, t)[1])"
   ]
  },
  {
   "cell_type": "code",
   "execution_count": 47,
   "id": "540869c4-43ec-443f-9c40-06d445048071",
   "metadata": {},
   "outputs": [
    {
     "data": {
      "text/latex": [
       "$\\displaystyle \\frac{2 \\left(n - t vi\\right)}{t^{2}}$"
      ],
      "text/plain": [
       "2*(n - t*vi)/t**2"
      ]
     },
     "execution_count": 47,
     "metadata": {},
     "output_type": "execute_result"
    }
   ],
   "source": [
    "solve(e4, a)[0]"
   ]
  },
  {
   "cell_type": "code",
   "execution_count": null,
   "id": "063ef682-8353-4503-ae20-714f9da32ac6",
   "metadata": {},
   "outputs": [],
   "source": []
  }
 ],
 "metadata": {
  "kernelspec": {
   "display_name": "Python 3 (ipykernel)",
   "language": "python",
   "name": "python3"
  },
  "language_info": {
   "codemirror_mode": {
    "name": "ipython",
    "version": 3
   },
   "file_extension": ".py",
   "mimetype": "text/x-python",
   "name": "python",
   "nbconvert_exporter": "python",
   "pygments_lexer": "ipython3",
   "version": "3.9.12"
  }
 },
 "nbformat": 4,
 "nbformat_minor": 5
}
