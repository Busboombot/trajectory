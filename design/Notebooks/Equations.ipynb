{
 "cells": [
  {
   "cell_type": "code",
   "execution_count": 22,
   "id": "061d0ae0-eb3a-43ca-82f6-15452368a3fb",
   "metadata": {},
   "outputs": [
    {
     "name": "stdout",
     "output_type": "stream",
     "text": [
      "x_a+x_d = v_c**2/a\n",
      "x_c = a*v_c/(a*t - 2*v_c)\n",
      "x = v_c/(t - 2*v_c/a) + v_c**2/a\n"
     ]
    },
    {
     "data": {
      "text/plain": [
       "[0, a*(t/4 - sqrt(t**2 + 8)/4), a*(t/4 + sqrt(t**2 + 8)/4)]"
      ]
     },
     "execution_count": 22,
     "metadata": {},
     "output_type": "execute_result"
    }
   ],
   "source": [
    "# Area of a trapezoid, and height in terms of area\n",
    "%reset -f \n",
    "from sympy import * \n",
    "import math \n",
    "from trajectory.trapmath import *\n",
    "t, x, a, v_c = symbols('t x a v_c')\n",
    "\n",
    "t_a = v_c / a\n",
    "t_d = v_c / a\n",
    "\n",
    "x_a = t_a*v_c/2\n",
    "x_d = t_d*v_c/2\n",
    "\n",
    "print(\"x_a+x_d =\",str(simplify(x_a+x_d)))\n",
    "\n",
    "t_c = t - t_a - t_d\n",
    "x_c = v_c / t_c\n",
    "print(\"x_c =\",str(simplify(x_c)))\n",
    "\n",
    "\n",
    "x = v_c / t_c + v_c**2/a\n",
    "\n",
    "x = simplify(x)\n",
    "\n",
    "print(\"x =\",str(x) )\n",
    "solve(x, v_c)"
   ]
  },
  {
   "cell_type": "code",
   "execution_count": 21,
   "id": "2c0f0a91-5e31-4bba-9183-44a8d314e11d",
   "metadata": {},
   "outputs": [
    {
     "data": {
      "text/plain": [
       "('(2*v_c*(a*t + v_0 + v_1 - 2*v_c) - (v_0 - v_c)*(v_0 + v_c) - (v_1 - v_c)*(v_1 + v_c))/(2*a)',\n",
       " 'v_c*(a*t - v_c)/a')"
      ]
     },
     "execution_count": 21,
     "metadata": {},
     "output_type": "execute_result"
    }
   ],
   "source": [
    "# Area for full pentagon, with v_0 and v_1\n",
    "%reset -f \n",
    "from sympy import * \n",
    "import math \n",
    "from trajectory.trapmath import *\n",
    "\n",
    "x, t,  a, v_0, v_c, v_1 = symbols('x t a v_0 v_c v_1')\n",
    "\n",
    "t_a = (v_c - v_0) / a\n",
    "t_d = (v_c - v_1) / a\n",
    "t_c = t - t_a - t_d\n",
    "x_a = ((v_0 + v_c) / 2) * t_a\n",
    "x_d = ((v_c + v_1) / 2) * t_d\n",
    "\n",
    "x_c = v_c * t_c\n",
    "\n",
    "x_pent = x_a+x_c+x_d\n",
    "\n",
    "# Area of a pentagon, with v_0 and v_1, and area of trapezoid, with v0=v1=0\n",
    "x_pent = simplify(x_pent)\n",
    "x_trap = simplify(x_pent.subs(v_1, 0).subs(v_0, 0))\n",
    "str(x_pent), str(x_trap)"
   ]
  },
  {
   "cell_type": "code",
   "execution_count": 242,
   "id": "46255d23-b997-4a59-a080-984948b31888",
   "metadata": {},
   "outputs": [
    {
     "data": {
      "text/latex": [
       "$\\displaystyle x = \\frac{- v_{0}^{2} + v_{1}^{2}}{2 a}$"
      ],
      "text/plain": [
       "Eq(x, (-v_0**2 + v_1**2)/(2*a))"
      ]
     },
     "execution_count": 242,
     "metadata": {},
     "output_type": "execute_result"
    }
   ],
   "source": [
    "%reset -f \n",
    "from sympy import * \n",
    "import math \n",
    "from trajectory.trapmath import *\n",
    "from sympy.solvers.solveset import linsolve\n",
    "\n",
    "x, t,  a, v_0, v_c, v_1, t_a, t_d, v_x= symbols('x t a v_0 v_c v_1 t_a t_d v_x', real=True)\n",
    "\n",
    "t1 = (v_1-v_0)/a\n",
    "x1 = (a*t**2)/2 + v_0*t\n",
    "simplify(Eq(x, x1.subs(t, t1)))"
   ]
  },
  {
   "cell_type": "code",
   "execution_count": 256,
   "id": "a4e74657-db31-4fc5-b75f-08c316cfafe9",
   "metadata": {},
   "outputs": [
    {
     "data": {
      "text/plain": [
       "[(-v_0 - sqrt(2*a*x + v_0**2))/a, (-v_0 + sqrt(2*a*x + v_0**2))/a]"
      ]
     },
     "execution_count": 256,
     "metadata": {},
     "output_type": "execute_result"
    }
   ],
   "source": [
    "%reset -f \n",
    "from sympy import * \n",
    "import math \n",
    "from trajectory.trapmath import *\n",
    "from sympy.solvers.solveset import linsolve\n",
    "\n",
    "x, t,  a, v_0, v_c, v_1, t_a, t_d, v_x= symbols('x t a v_0 v_c v_1 t_a t_d v_x', real=True)\n",
    "\n",
    "\n",
    "x1 = (a*t**2)/2 + v_0*t\n",
    "solve(simplify(Eq(x,x1)), t) "
   ]
  },
  {
   "cell_type": "code",
   "execution_count": 257,
   "id": "04466f05-ce1d-45a2-9430-2a9945fd9ace",
   "metadata": {},
   "outputs": [
    {
     "data": {
      "text/latex": [
       "$\\displaystyle - v_{1} + \\frac{2 x}{t}$"
      ],
      "text/plain": [
       "-v_1 + 2*x/t"
      ]
     },
     "execution_count": 257,
     "metadata": {},
     "output_type": "execute_result"
    }
   ],
   "source": [
    "x1 =  (v_0+v_1)/2 * t\n",
    "solve(simplify(Eq(x,x1)), v_0) [0]"
   ]
  },
  {
   "cell_type": "code",
   "execution_count": 205,
   "id": "6a29600c-618f-4b53-898d-667fbad87274",
   "metadata": {},
   "outputs": [
    {
     "data": {
      "text/latex": [
       "$\\displaystyle \\frac{\\partial}{\\partial t} x = \\frac{a t^{2}}{8} + \\frac{t v_{1}}{2}$"
      ],
      "text/plain": [
       "Derivative(Eq(x, a*t**2/8 + t*v_1/2), t)"
      ]
     },
     "execution_count": 205,
     "metadata": {},
     "output_type": "execute_result"
    }
   ],
   "source": [
    "%reset -f \n",
    "from sympy import * \n",
    "import sympy\n",
    "\n",
    "import math \n",
    "from trajectory.trapmath import *\n",
    "from sympy.solvers.solveset import linsolve\n",
    "\n",
    "x, v, t, a, v_0, v_1,  = symbols('x v t a v_0 v_1')\n",
    "x_ = (v_1*t/2)+(a*t**2/8)\n",
    "\n",
    "diff(Eq(x, x_ ), t)"
   ]
  }
 ],
 "metadata": {
  "kernelspec": {
   "display_name": "Python 3 (ipykernel)",
   "language": "python",
   "name": "python3"
  },
  "language_info": {
   "codemirror_mode": {
    "name": "ipython",
    "version": 3
   },
   "file_extension": ".py",
   "mimetype": "text/x-python",
   "name": "python",
   "nbconvert_exporter": "python",
   "pygments_lexer": "ipython3",
   "version": "3.9.12"
  }
 },
 "nbformat": 4,
 "nbformat_minor": 5
}
