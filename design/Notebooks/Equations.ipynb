{
 "cells": [
  {
   "cell_type": "code",
   "execution_count": 237,
   "id": "b3b881d5-5009-4a74-98e9-a7b3cbf8a7f2",
   "metadata": {},
   "outputs": [
    {
     "data": {
      "text/latex": [
       "$\\displaystyle \\left\\{- 1.4142135623731 \\sqrt{\\frac{- a v_{i} + x}{a}}, 1.4142135623731 \\sqrt{\\frac{- a v_{i} + x}{a}}\\right\\}$"
      ],
      "text/plain": [
       "{-1.4142135623731*sqrt((-a*v_i + x)/a), 1.4142135623731*sqrt((-a*v_i + x)/a)}"
      ]
     },
     "execution_count": 237,
     "metadata": {},
     "output_type": "execute_result"
    }
   ],
   "source": [
    "from sympy import * \n",
    "import math \n",
    "\n",
    "vi = Symbol('v_i')\n",
    "vf = Symbol('v_f')\n",
    "vc = Symbol('v_c')\n",
    "t  = Symbol('t')\n",
    "x = Symbol('x')\n",
    "a = Symbol('a')\n",
    "\n",
    "#Time to accelerate from vi to vf\n",
    "t_a = (vf - vi) / a\n",
    "\n",
    "# Distance covered in accelerating from v0 for time t\n",
    "x_a = (1/2)*a*t**2 + vi*a\n",
    "\n",
    "x_a.subs(t, t_a)\n",
    "\n",
    "solveset(Eq(x, x_a), t)"
   ]
  },
  {
   "cell_type": "code",
   "execution_count": 242,
   "id": "a496c160-a72a-4692-8a1d-ff87ae7878b2",
   "metadata": {},
   "outputs": [
    {
     "data": {
      "text/latex": [
       "$\\displaystyle a v_{i} + \\frac{0.5 \\left(v_{f} - v_{i}\\right)^{2}}{a}$"
      ],
      "text/plain": [
       "a*v_i + 0.5*(v_f - v_i)**2/a"
      ]
     },
     "execution_count": 242,
     "metadata": {},
     "output_type": "execute_result"
    }
   ],
   "source": [
    "x_a.subs(t, t_a)"
   ]
  },
  {
   "cell_type": "code",
   "execution_count": 226,
   "id": "7e6d8ee9-19d2-481a-945e-21a63d15fc4d",
   "metadata": {},
   "outputs": [
    {
     "data": {
      "text/plain": [
       "(500, 4500, 5000, 15811.388300841898)"
      ]
     },
     "execution_count": 226,
     "metadata": {},
     "output_type": "execute_result"
    }
   ],
   "source": [
    "from dataclasses import dataclass\n",
    "\n",
    "@dataclass\n",
    "class Params:\n",
    "    \n",
    "    x: float \n",
    "    \n",
    "    v_0: float\n",
    "    v_c:float\n",
    "    v_1: float\n",
    "    \n",
    "    a:float\n",
    "\n",
    "    \n",
    "    def _t_accel(self,vi, vf, a):\n",
    "        \"\"\"Time to accelerate from vi to vf\"\"\"\n",
    "        return (vf - vi) / a\n",
    "    \n",
    "    def _t_accel_x(self, x, vi, a):\n",
    "        \"\"\"Time required to accelerate distance x from velocity vi\"\"\"\n",
    "        return math.sqrt(2*(x-a*vi)/a)\n",
    "    \n",
    "    def _x_accel(self, v0, a, t):\n",
    "        \"\"\"Distance covered in accelerating from v0 for time t\"\"\"\n",
    "        return(1/2)*a*t**2 + v0*t\n",
    "    \n",
    "    def _x_accel_2(self, vi, vf, a):\n",
    "        \"\"\"Distance covered in accelerating from vi  to vf\"\"\"\n",
    "        return a * vi + ( .5*(vf-vi)**2 / a)\n",
    "    \n",
    "    def _vf_at_accel_t(self, x, vi, a):\n",
    "        \"\"\"Final velocity after acellerating distance x from velocity vi\"\"\"\n",
    "        t = self._t_accel_x( x, -vi, a)\n",
    "      \n",
    "        return  vi + a*t\n",
    "    \n",
    "    @property\n",
    "    def t_a(self):\n",
    "        return self._t_accel(self.v_0, self.v_c, self.a)\n",
    "    \n",
    "    @property\n",
    "    def x_a(self):\n",
    "        return int(round(self._x_accel(self.v_0, self.a, self.t_a)))\n",
    "      \n",
    "    @property\n",
    "    def t_d(self):\n",
    "        return abs(self._t_accel(self.v_c, self.v_1, self.a))\n",
    "    \n",
    "    @property\n",
    "    def x_d(self):\n",
    "        return int(round(self._x_accel(self.v_1, self.a, self.t_d)))\n",
    "    \n",
    "    @property\n",
    "    def x_c(self):\n",
    "        return self.x - self.x_a -  self.x_d\n",
    "    \n",
    "\n",
    "    @property\n",
    "    def v_c_max(self):\n",
    "        \"\"\"Velocity after acellerating for x/2 from the start and end, \n",
    "        the highest velocity for which t_c is positive. \n",
    "        This is the maximum achivable velocity becore deceleration must begin. \"\"\"\n",
    "        ta = self._t_accel_x(self.x/2, self.v_0, self.a)\n",
    "        va = self.v_0 + self.a *  ta \n",
    "        \n",
    "        td = self._t_accel_x(self.x/2, self.v_1, self.a)\n",
    "        vd = self.v_1 + self.a *  ta \n",
    "        \n",
    "        return min(va, vd)\n",
    "    \n",
    "    @property\n",
    "    def v_c_max(self, x, v_0, a):\n",
    "        \"\"\"Velocity after acellerating for x/2 from the start and end, \n",
    "        the highest velocity for which t_c is positive. \n",
    "        This is the maximum achivable velocity becore deceleration must begin. \"\"\"\n",
    "        ta = t_accel_x(x/2, v_0, a)\n",
    "        va = v_0 + a *  ta \n",
    "        \n",
    "        td = t_accel_x(x/2, v_1, a)\n",
    "        vd = v_1 + a *  ta \n",
    "        \n",
    "        return min(va, vd)\n",
    "    \n",
    "    @property\n",
    "    def max_v0(self):\n",
    "        \"\"\"Maximum V0 for segment to allow decelereration and not cover more than\n",
    "        distance x; it sets the v_0_max\"\"\"\n",
    "        \n",
    "        t =  math.sqrt(2*self.x/self.a)\n",
    "\n",
    "        return  self.v_0 + self.a*t        \n",
    "      \n",
    "    @property\n",
    "    def is_triangle(self):\n",
    "        \"\"\"Return true if x_c will be zero\"\"\"\n",
    "        return self.x_c < 0\n",
    "    \n",
    "    def _validate(self):\n",
    "        assert o._t_accel_x(o.x_a, o.v_0, o.a) == o.t_a\n",
    "    \n",
    "o = Params(x=5_000, v_0=0, v_c=5000, v_1=0, a=50_000)\n",
    "\n",
    "o.x_a + o.x_d, o.x_c, o.x, o.v_c_max"
   ]
  },
  {
   "cell_type": "code",
   "execution_count": 231,
   "id": "8442a2d0-513b-4ea7-83ee-864bf489a63f",
   "metadata": {},
   "outputs": [
    {
     "data": {
      "text/plain": [
       "2000.0"
      ]
     },
     "execution_count": 231,
     "metadata": {},
     "output_type": "execute_result"
    }
   ],
   "source": [
    "\n",
    "\n",
    "max_v0_for_x(40, 50_000)      "
   ]
  },
  {
   "cell_type": "code",
   "execution_count": 228,
   "id": "56d7a696-7703-4e99-a2d8-299a28f469e7",
   "metadata": {},
   "outputs": [
    {
     "name": "stdout",
     "output_type": "stream",
     "text": [
      "0.04\n"
     ]
    },
    {
     "data": {
      "text/plain": [
       "(0.2, 0.2, 2000.0)"
      ]
     },
     "execution_count": 228,
     "metadata": {},
     "output_type": "execute_result"
    }
   ],
   "source": [
    "o = Params(x=40, v_0=0, v_c=10000, v_1=0, a=50_000)\n",
    "o.t_a, o.t_d, o.max_v0"
   ]
  },
  {
   "cell_type": "code",
   "execution_count": 229,
   "id": "ddede54e-18f9-4585-9cfb-6c8ef6a9922b",
   "metadata": {},
   "outputs": [
    {
     "ename": "NameError",
     "evalue": "name 'max_v0_for_x' is not defined",
     "output_type": "error",
     "traceback": [
      "\u001b[0;31m---------------------------------------------------------------------------\u001b[0m",
      "\u001b[0;31mNameError\u001b[0m                                 Traceback (most recent call last)",
      "Input \u001b[0;32mIn [229]\u001b[0m, in \u001b[0;36m<cell line: 1>\u001b[0;34m()\u001b[0m\n\u001b[0;32m----> 1\u001b[0m \u001b[43mmax_v0_for_x\u001b[49m(\u001b[38;5;241m500\u001b[39m, \u001b[38;5;241m50_000\u001b[39m)\n",
      "\u001b[0;31mNameError\u001b[0m: name 'max_v0_for_x' is not defined"
     ]
    }
   ],
   "source": []
  },
  {
   "cell_type": "code",
   "execution_count": null,
   "id": "09100d7b-642f-42cd-854a-1197c790ca1e",
   "metadata": {},
   "outputs": [],
   "source": []
  }
 ],
 "metadata": {
  "kernelspec": {
   "display_name": "Python 3 (ipykernel)",
   "language": "python",
   "name": "python3"
  },
  "language_info": {
   "codemirror_mode": {
    "name": "ipython",
    "version": 3
   },
   "file_extension": ".py",
   "mimetype": "text/x-python",
   "name": "python",
   "nbconvert_exporter": "python",
   "pygments_lexer": "ipython3",
   "version": "3.9.12"
  }
 },
 "nbformat": 4,
 "nbformat_minor": 5
}
