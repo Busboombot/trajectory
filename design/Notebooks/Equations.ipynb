{
 "cells": [
  {
   "cell_type": "code",
   "execution_count": 4,
   "id": "af3a1edd-6111-4522-aa14-6f1b06de3c56",
   "metadata": {
    "tags": []
   },
   "outputs": [
    {
     "data": {
      "image/png": "[encoded data removed]",
      "text/plain": [
       "<Figure size 432x288 with 1 Axes>"
      ]
     },
     "metadata": {
      "needs_background": "light"
     },
     "output_type": "display_data"
    }
   ],
   "source": [
    "%matplotlib inline \n",
    "import matplotlib.pyplot as plt\n",
    "from sympy import * \n",
    "from sympy.plotting import plot\n",
    "\n",
    "\n",
    "x, t,  a, v, v_0, v_c, v_1, t_a, t_d, t_f, v_max= symbols('x t a_max v v_0 v_c v_1 t_a t_d t_f v_max', real=True)\n",
    "\n",
    "\n",
    "v0u = plot((a*t+v_0).subs(v_0,200).subs(a,200), show=False,xlim=(0,1), ylim=(0,505))\n",
    "v0d = plot((-a*t+v_0).subs(v_0,200).subs(a,200), show=False,xlim=(0,1), ylim=(0,505))\n",
    "\n",
    "v1u = plot((-a*(t-t_f)+v_1).subs(v_1,100).subs(a,200).subs(t_f,1), show=False, xlim=(0,1), ylim=(0,505))\n",
    "v1d = plot((a*(t-t_f)+v_1).subs(v_1,100).subs(a,200).subs(t_f,1), show=False, xlim=(0,1), ylim=(0,505))\n",
    "\n",
    "v0u.append(v0d[0])\n",
    "v0u.append(v1u[0])\n",
    "v0u.append(v1d[0])\n",
    "\n",
    "v0u.show()"
   ]
  },
  {
   "cell_type": "code",
   "execution_count": 215,
   "id": "061d0ae0-eb3a-43ca-82f6-15452368a3fb",
   "metadata": {},
   "outputs": [
    {
     "data": {
      "text/plain": [
       "[-sqrt(4*a_max*x + 2*v_0**2 + 2*v_1**2)/2,\n",
       " sqrt(4*a_max*x + 2*v_0**2 + 2*v_1**2)/2]"
      ]
     },
     "execution_count": 215,
     "metadata": {},
     "output_type": "execute_result"
    }
   ],
   "source": [
    "# Solve the triangle using line equations \n",
    "# Given x, v0, v1. Accelerate to v_c, then back down\n",
    "%reset -f \n",
    "from sympy import * \n",
    "import math \n",
    "from trajectory.trapmath import *\n",
    "from sympy.solvers.solveset import linsolve\n",
    "\n",
    "x, t,  a, v, v_0, v_c, v_1, t_a, t_d, t_f, v_max= symbols('x t a_max v v_0 v_c v_1 t_a t_d t_f v_max', real=True)\n",
    "\n",
    "# Simple trapezoid equation\n",
    "\n",
    "t_a = (v_c - v_0) / a\n",
    "t_d = (v_1 - v_c) / -a\n",
    "\n",
    "x_a = ((v_0 + v_c) / 2) * t_a\n",
    "x_d = ((v_c + v_1) / 2) * t_d\n",
    "\n",
    "x_a_ = a*t_a**2/2 + v_0\n",
    "x_d_ = a*t_d**2/2 + v_1\n",
    "\n",
    "x_c = x - ( x_a + x_d ) \n",
    "t_c = x_c/v_c\n",
    "\n",
    "x_pent = simplify(x_a+x_c+x_d)\n",
    "\n",
    "\n",
    "#==================\n",
    "\n",
    "# Linear equations\n",
    "\n",
    "v0_u  =  a*t+v_0\n",
    "v0_d  =  -a*t+v_0\n",
    "\n",
    "v1_u  = -a*(t-t_f)+v_1\n",
    "v1_d  = a*(t-t_f)+v_1\n",
    "\n",
    "e_v0 = Eq(v,v0_u)\n",
    "e_v1 = Eq(v,v1_u)\n",
    "\n",
    "# =================\n",
    "\n",
    "e_x =   Eq(x,   (v_0 + v_1)/2 * t)  # No a\n",
    "e_t =   Eq(x,   (a*t**2)/2)         # No v\n",
    "e_v_1 = Eq(v_1, (v_0 - a*t))        # No x\n",
    "\n",
    "# Solve for V_C for an accel profile -- no decel phase\n",
    "solve(Eq(x,x_a+ (v_c * (t-t_a))), v_c)\n",
    "\n",
    "# Lower Intersection\n",
    "t_i = solve(Eq(v0_d , v1_d), t)[0]\n",
    "\n",
    "# Upper Intersection\n",
    "t_u =solve(Eq(v0_u , v1_u), t)[0]\n",
    "\n",
    "solve(x_c, v_c)\n"
   ]
  },
  {
   "cell_type": "code",
   "execution_count": 225,
   "id": "ebf026e1-87f9-48a7-b657-d66956233e68",
   "metadata": {},
   "outputs": [
    {
     "data": {
      "text/latex": [
       "$\\displaystyle \\frac{\\sqrt{4 a x + 2 v_{0}^{2} + 2 v_{1}^{2}}}{2}$"
      ],
      "text/plain": [
       "sqrt(4*a*x + 2*v_0**2 + 2*v_1**2)/2"
      ]
     },
     "execution_count": 225,
     "metadata": {},
     "output_type": "execute_result"
    }
   ],
   "source": [
    "%reset -f \n",
    "from sympy import  * \n",
    "x,t,a,v_0,v_c,v_1,t_a,t_d,v_max= symbols('x,t,a,v_0,v_c,v_1,t_a,t_d,v_max')\n",
    "\n",
    "t_a = (v_c - v_0) / a\n",
    "t_d = (v_1 - v_c) / -a\n",
    "\n",
    "x_a = ((v_0 + v_c) / 2) * t_a\n",
    "x_d = ((v_c + v_1) / 2) * t_d\n",
    "\n",
    "\n",
    "x_c = x - ( x_a + x_d )\n",
    "solve(x_c, v_c)[1]"
   ]
  },
  {
   "cell_type": "code",
   "execution_count": 213,
   "id": "8b7897b7-1058-4ff0-987e-5a199aab647f",
   "metadata": {},
   "outputs": [
    {
     "data": {
      "text/latex": [
       "$\\displaystyle \\frac{v_{0}}{2} + \\frac{v_{1}}{2} - \\frac{\\sqrt{- 4 a_{max} v_{0} - 4 a_{max} v_{1} + 4 a_{max} x - v_{0}^{2} + 2 v_{0} v_{1} - v_{1}^{2}}}{2}$"
      ],
      "text/plain": [
       "v_0/2 + v_1/2 - sqrt(-4*a_max*v_0 - 4*a_max*v_1 + 4*a_max*x - v_0**2 + 2*v_0*v_1 - v_1**2)/2"
      ]
     },
     "metadata": {},
     "output_type": "display_data"
    }
   ],
   "source": [
    "# Triangular profiles\n",
    "%reset -f \n",
    "from sympy import * \n",
    "x, t,  a, v, v_0, v_c, v_1, t_a, t_d, t_f, v_max= symbols('x t a_max v v_0 v_c v_1 t_a t_d t_f v_max', real=True)\n",
    "\n",
    "t_a = ((v_c - v_0) / a)\n",
    "t_d = ((v_1 - v_c) / a)\n",
    "x_a_ = a*t_a**2/2 + v_0\n",
    "x_d_ = a*t_d**2/2 + v_1\n",
    "\n",
    "str(simplify(t_a+t_d))\n",
    "\n",
    "x_ad = (x_a_+x_d_)\n",
    "\n",
    "display(solve(simplify(Eq(x, x_ad)), v_c)[0])\n"
   ]
  },
  {
   "cell_type": "code",
   "execution_count": 83,
   "id": "3c977b27-16f4-4c08-b4fc-cf1b82895d65",
   "metadata": {},
   "outputs": [
    {
     "ename": "NameError",
     "evalue": "name 't_a_' is not defined",
     "output_type": "error",
     "traceback": [
      "\u001b[0;31m---------------------------------------------------------------------------\u001b[0m",
      "\u001b[0;31mNameError\u001b[0m                                 Traceback (most recent call last)",
      "Input \u001b[0;32mIn [83]\u001b[0m, in \u001b[0;36m<cell line: 1>\u001b[0;34m()\u001b[0m\n\u001b[0;32m----> 1\u001b[0m simplify(Eq(t, \u001b[43mt_a_\u001b[49m\u001b[38;5;241m+\u001b[39mt_d_))\n",
      "\u001b[0;31mNameError\u001b[0m: name 't_a_' is not defined"
     ]
    }
   ],
   "source": []
  },
  {
   "cell_type": "code",
   "execution_count": 40,
   "id": "ee145fee-6183-4664-8fef-7dc9667197e5",
   "metadata": {},
   "outputs": [
    {
     "data": {
      "text/latex": [
       "$\\displaystyle \\frac{v_{0}^{2} - 2 v_{0} v_{1} + v_{1}^{2}}{2 a_{max}}$"
      ],
      "text/plain": [
       "(v_0**2 - 2*v_0*v_1 + v_1**2)/(2*a_max)"
      ]
     },
     "execution_count": 40,
     "metadata": {},
     "output_type": "execute_result"
    }
   ],
   "source": [
    "solve(Eq(v_1**2, (v_0-sqrt(2*x*a))**2), x)[0]"
   ]
  },
  {
   "cell_type": "code",
   "execution_count": 75,
   "id": "c13a8d2e-bce6-413b-981c-2eb25488c33b",
   "metadata": {},
   "outputs": [
    {
     "data": {
      "text/latex": [
       "$\\displaystyle x = \\frac{a_{max} t^{2}}{2}$"
      ],
      "text/plain": [
       "Eq(x, a_max*t**2/2)"
      ]
     },
     "metadata": {},
     "output_type": "display_data"
    },
    {
     "data": {
      "text/latex": [
       "$\\displaystyle v_{1} = a_{max} t + v_{c}$"
      ],
      "text/plain": [
       "Eq(v_1, a_max*t + v_c)"
      ]
     },
     "metadata": {},
     "output_type": "display_data"
    },
    {
     "data": {
      "text/html": [
       "Distance traveled in acceleration"
      ],
      "text/plain": [
       "<IPython.core.display.HTML object>"
      ]
     },
     "metadata": {},
     "output_type": "display_data"
    },
    {
     "data": {
      "text/latex": [
       "$\\displaystyle \\frac{\\left(v_{1} - v_{c}\\right)^{2}}{2 a_{max}}$"
      ],
      "text/plain": [
       "(v_1 - v_c)**2/(2*a_max)"
      ]
     },
     "execution_count": 75,
     "metadata": {},
     "output_type": "execute_result"
    }
   ],
   "source": [
    "%reset -f \n",
    "from sympy import * \n",
    "from IPython.display import HTML\n",
    "x, t,  a, v, v_0, v_c, v_1, t_a, t_d, t_f, v_max= symbols('x t a_max v v_0 v_c v_1 t_a t_d t_f v_max', real=True)\n",
    "\n",
    "e1 = Eq(x, a*t**2/2)\n",
    "display(e1)\n",
    "e2 = Eq(v_1, v_c+a*t)\n",
    "display(e2)\n",
    "display(HTML('Distance traveled in acceleration'))\n",
    "solve(Eq(solve(e2, t)[0], solve(e1, t)[0]),x)[0]"
   ]
  },
  {
   "cell_type": "code",
   "execution_count": null,
   "id": "6d354bc7-f56d-45d9-8d7e-881788786ede",
   "metadata": {},
   "outputs": [],
   "source": [
    "x_a = (v_0-v_c)**2/(2*a)\n",
    "x_d = (v_c-v_1)**2/(2*a)\n",
    "solve(x_a+x_d, v_c)[0]"
   ]
  },
  {
   "cell_type": "code",
   "execution_count": 70,
   "id": "8fb9e01d-828e-486c-a184-2d29fae0183a",
   "metadata": {},
   "outputs": [
    {
     "data": {
      "text/latex": [
       "$\\displaystyle \\frac{v_{c}^{2}}{50000} - \\frac{2 v_{c}}{25} + 100$"
      ],
      "text/plain": [
       "v_c**2/50000 - 2*v_c/25 + 100"
      ]
     },
     "execution_count": 70,
     "metadata": {},
     "output_type": "execute_result"
    }
   ],
   "source": [
    "simplify((x_a+x_d).subs(v_1,1000).subs(v_0,3000).subs(a,50_000))"
   ]
  },
  {
   "cell_type": "code",
   "execution_count": 79,
   "id": "19263520-d998-4c56-931b-f493a4d8bec8",
   "metadata": {},
   "outputs": [
    {
     "data": {
      "text/plain": [
       "'(v_0 - v_1)*(v_0 + v_1)/(2*a_max)'"
      ]
     },
     "execution_count": 79,
     "metadata": {},
     "output_type": "execute_result"
    }
   ],
   "source": [
    "%reset -f \n",
    "from sympy import * \n",
    "from IPython.display import HTML\n",
    "x, t,  a, v, v_0, v_c, v_1, t_a, t_d, t_f, v_max= symbols('x t a_max v v_0 v_c v_1 t_a t_d t_f v_max', real=True)\n",
    "\n",
    "t_ad = (v_0-v_1)/a\n",
    "x_ad = (v_0+v_1)/2*t_ad\n",
    "str(simplify(x_ad))"
   ]
  },
  {
   "cell_type": "code",
   "execution_count": null,
   "id": "ad71ea40-f287-4738-9b70-c8032dc1dfb3",
   "metadata": {},
   "outputs": [],
   "source": []
  }
 ],
 "metadata": {
  "kernelspec": {
   "display_name": "Python 3 (ipykernel)",
   "language": "python",
   "name": "python3"
  },
  "language_info": {
   "codemirror_mode": {
    "name": "ipython",
    "version": 3
   },
   "file_extension": ".py",
   "mimetype": "text/x-python",
   "name": "python",
   "nbconvert_exporter": "python",
   "pygments_lexer": "ipython3",
   "version": "3.9.12"
  }
 },
 "nbformat": 4,
 "nbformat_minor": 5
}
