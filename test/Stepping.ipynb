{
 "cells": [
  {
   "cell_type": "code",
   "execution_count": 1,
   "id": "31624766-d00a-4525-9066-f44265d511ab",
   "metadata": {},
   "outputs": [],
   "source": [
    "%reload_ext autoreload\n",
    "%autoreload 2\n",
    "%run startup.py\n",
    "from tqdm.auto import tqdm\n",
    "from itertools import chain\n",
    "from functools import reduce\n",
    "\n",
    "from trajectory.planner import Segment, SegmentList, Joint"
   ]
  },
  {
   "cell_type": "code",
   "execution_count": 8,
   "id": "039c7fca-ecf4-4418-bcec-0337e84bd408",
   "metadata": {},
   "outputs": [
    {
     "name": "stdout",
     "output_type": "stream",
     "text": [
      "167 167 10000 -299401.19760479045\n"
     ]
    },
    {
     "ename": "ValueError",
     "evalue": "math domain error",
     "output_type": "error",
     "traceback": [
      "\u001b[0;31m---------------------------------------------------------------------------\u001b[0m",
      "\u001b[0;31mValueError\u001b[0m                                Traceback (most recent call last)",
      "File \u001b[0;32m<timed exec>:15\u001b[0m, in \u001b[0;36m<module>\u001b[0;34m\u001b[0m\n",
      "File \u001b[0;32m~/Documents/proj/trajectory/trajectory/plot.py:137\u001b[0m, in \u001b[0;36mseg_step\u001b[0;34m(sl, details)\u001b[0m\n\u001b[1;32m    135\u001b[0m     \u001b[38;5;28;01mreturn\u001b[39;00m pd\u001b[38;5;241m.\u001b[39mDataFrame(\u001b[38;5;28mlist\u001b[39m(sl\u001b[38;5;241m.\u001b[39mstep(details\u001b[38;5;241m=\u001b[39mdetails)))\u001b[38;5;241m.\u001b[39mset_index(\u001b[38;5;124m'\u001b[39m\u001b[38;5;124mt\u001b[39m\u001b[38;5;124m'\u001b[39m)\n\u001b[1;32m    136\u001b[0m \u001b[38;5;28;01melse\u001b[39;00m:\n\u001b[0;32m--> 137\u001b[0m     l \u001b[38;5;241m=\u001b[39m \u001b[38;5;28;43mlist\u001b[39;49m\u001b[43m(\u001b[49m\u001b[43msl\u001b[49m\u001b[38;5;241;43m.\u001b[39;49m\u001b[43mstep\u001b[49m\u001b[43m(\u001b[49m\u001b[43m)\u001b[49m\u001b[43m)\u001b[49m\n\u001b[1;32m    139\u001b[0m     columns \u001b[38;5;241m=\u001b[39m \u001b[38;5;28mlist\u001b[39m(\u001b[38;5;124m'\u001b[39m\u001b[38;5;124mtxyzabc\u001b[39m\u001b[38;5;124m'\u001b[39m)[:\u001b[38;5;28mlen\u001b[39m(l[\u001b[38;5;241m0\u001b[39m])]\n\u001b[1;32m    141\u001b[0m     \u001b[38;5;28;01mreturn\u001b[39;00m pd\u001b[38;5;241m.\u001b[39mDataFrame(l, columns\u001b[38;5;241m=\u001b[39mcolumns)\u001b[38;5;241m.\u001b[39mset_index(\u001b[38;5;124m'\u001b[39m\u001b[38;5;124mt\u001b[39m\u001b[38;5;124m'\u001b[39m)\n",
      "File \u001b[0;32m~/Documents/proj/trajectory/trajectory/planner.py:481\u001b[0m, in \u001b[0;36mSegmentList.step\u001b[0;34m(self, details)\u001b[0m\n\u001b[1;32m    479\u001b[0m \u001b[38;5;28;01melse\u001b[39;00m:\n\u001b[1;32m    480\u001b[0m     \u001b[38;5;28;01mwhile\u001b[39;00m \u001b[38;5;129;01mnot\u001b[39;00m steppers[\u001b[38;5;241m0\u001b[39m]\u001b[38;5;241m.\u001b[39mdone \u001b[38;5;129;01mand\u001b[39;00m \u001b[38;5;129;01mnot\u001b[39;00m \u001b[38;5;28mall\u001b[39m([stp\u001b[38;5;241m.\u001b[39mdone \u001b[38;5;28;01mfor\u001b[39;00m stp \u001b[38;5;129;01min\u001b[39;00m steppers]):\n\u001b[0;32m--> 481\u001b[0m         steps \u001b[38;5;241m=\u001b[39m [stp\u001b[38;5;241m.\u001b[39mnext() \u001b[38;5;28;01mfor\u001b[39;00m stp \u001b[38;5;129;01min\u001b[39;00m steppers]\n\u001b[1;32m    482\u001b[0m         \u001b[38;5;28mself\u001b[39m\u001b[38;5;241m.\u001b[39mstep_position \u001b[38;5;241m+\u001b[39m\u001b[38;5;241m=\u001b[39m np\u001b[38;5;241m.\u001b[39marray(steps)\n\u001b[1;32m    483\u001b[0m         \u001b[38;5;28;01myield\u001b[39;00m [t] \u001b[38;5;241m+\u001b[39m steps\n",
      "File \u001b[0;32m~/Documents/proj/trajectory/trajectory/planner.py:481\u001b[0m, in \u001b[0;36m<listcomp>\u001b[0;34m(.0)\u001b[0m\n\u001b[1;32m    479\u001b[0m \u001b[38;5;28;01melse\u001b[39;00m:\n\u001b[1;32m    480\u001b[0m     \u001b[38;5;28;01mwhile\u001b[39;00m \u001b[38;5;129;01mnot\u001b[39;00m steppers[\u001b[38;5;241m0\u001b[39m]\u001b[38;5;241m.\u001b[39mdone \u001b[38;5;129;01mand\u001b[39;00m \u001b[38;5;129;01mnot\u001b[39;00m \u001b[38;5;28mall\u001b[39m([stp\u001b[38;5;241m.\u001b[39mdone \u001b[38;5;28;01mfor\u001b[39;00m stp \u001b[38;5;129;01min\u001b[39;00m steppers]):\n\u001b[0;32m--> 481\u001b[0m         steps \u001b[38;5;241m=\u001b[39m [\u001b[43mstp\u001b[49m\u001b[38;5;241;43m.\u001b[39;49m\u001b[43mnext\u001b[49m\u001b[43m(\u001b[49m\u001b[43m)\u001b[49m \u001b[38;5;28;01mfor\u001b[39;00m stp \u001b[38;5;129;01min\u001b[39;00m steppers]\n\u001b[1;32m    482\u001b[0m         \u001b[38;5;28mself\u001b[39m\u001b[38;5;241m.\u001b[39mstep_position \u001b[38;5;241m+\u001b[39m\u001b[38;5;241m=\u001b[39m np\u001b[38;5;241m.\u001b[39marray(steps)\n\u001b[1;32m    483\u001b[0m         \u001b[38;5;28;01myield\u001b[39;00m [t] \u001b[38;5;241m+\u001b[39m steps\n",
      "File \u001b[0;32m~/Documents/proj/trajectory/trajectory/stepper.py:129\u001b[0m, in \u001b[0;36mStepper.next\u001b[0;34m(self)\u001b[0m\n\u001b[1;32m    126\u001b[0m     r \u001b[38;5;241m=\u001b[39m \u001b[38;5;28mself\u001b[39m\u001b[38;5;241m.\u001b[39mdirection\n\u001b[1;32m    128\u001b[0m     \u001b[38;5;28;01mif\u001b[39;00m \u001b[38;5;28mself\u001b[39m\u001b[38;5;241m.\u001b[39msteps_left \u001b[38;5;241m>\u001b[39m \u001b[38;5;241m0\u001b[39m:\n\u001b[0;32m--> 129\u001b[0m         \u001b[38;5;28mself\u001b[39m\u001b[38;5;241m.\u001b[39mnst \u001b[38;5;241m=\u001b[39m \u001b[38;5;28;43mself\u001b[39;49m\u001b[38;5;241;43m.\u001b[39;49m\u001b[43mnext_step_time\u001b[49m\u001b[43m(\u001b[49m\u001b[38;5;28;43mself\u001b[39;49m\u001b[38;5;241;43m.\u001b[39;49m\u001b[43msteps_stepped\u001b[49m\u001b[43m \u001b[49m\u001b[38;5;241;43m+\u001b[39;49m\u001b[43m \u001b[49m\u001b[38;5;241;43m1\u001b[39;49m\u001b[43m)\u001b[49m\n\u001b[1;32m    131\u001b[0m \u001b[38;5;28;01melse\u001b[39;00m:\n\u001b[1;32m    132\u001b[0m     r \u001b[38;5;241m=\u001b[39m \u001b[38;5;241m0\u001b[39m\n",
      "File \u001b[0;32m~/Documents/proj/trajectory/trajectory/stepper.py:103\u001b[0m, in \u001b[0;36mStepper.next_step_time\u001b[0;34m(self, step)\u001b[0m\n\u001b[1;32m    100\u001b[0m a \u001b[38;5;241m=\u001b[39m (vf \u001b[38;5;241m-\u001b[39m vi) \u001b[38;5;241m/\u001b[39m t \u001b[38;5;28;01mif\u001b[39;00m t \u001b[38;5;241m!=\u001b[39m \u001b[38;5;241m0\u001b[39m \u001b[38;5;28;01melse\u001b[39;00m \u001b[38;5;241m0\u001b[39m\n\u001b[1;32m    102\u001b[0m \u001b[38;5;28;01mtry\u001b[39;00m:\n\u001b[0;32m--> 103\u001b[0m     \u001b[38;5;28;01mreturn\u001b[39;00m \u001b[38;5;28mabs\u001b[39m((\u001b[38;5;241m-\u001b[39m\u001b[38;5;28mself\u001b[39m\u001b[38;5;241m.\u001b[39mvi \u001b[38;5;241m+\u001b[39m \u001b[43msqrt\u001b[49m\u001b[43m(\u001b[49m\u001b[38;5;241;43m2\u001b[39;49m\u001b[43m \u001b[49m\u001b[38;5;241;43m*\u001b[39;49m\u001b[43m \u001b[49m\u001b[43ma\u001b[49m\u001b[43m \u001b[49m\u001b[38;5;241;43m*\u001b[39;49m\u001b[43m \u001b[49m\u001b[43mstep\u001b[49m\u001b[43m \u001b[49m\u001b[38;5;241;43m+\u001b[39;49m\u001b[43m \u001b[49m\u001b[38;5;28;43mself\u001b[39;49m\u001b[38;5;241;43m.\u001b[39;49m\u001b[43mvi\u001b[49m\u001b[43m \u001b[49m\u001b[38;5;241;43m*\u001b[39;49m\u001b[38;5;241;43m*\u001b[39;49m\u001b[43m \u001b[49m\u001b[38;5;241;43m2\u001b[39;49m\u001b[43m)\u001b[49m) \u001b[38;5;241m/\u001b[39m a)\n\u001b[1;32m    104\u001b[0m \u001b[38;5;28;01mexcept\u001b[39;00m \u001b[38;5;167;01mValueError\u001b[39;00m:\n\u001b[1;32m    105\u001b[0m     \u001b[38;5;28mprint\u001b[39m(step, \u001b[38;5;28mself\u001b[39m\u001b[38;5;241m.\u001b[39mx, \u001b[38;5;28mself\u001b[39m\u001b[38;5;241m.\u001b[39mvi, a)\n",
      "\u001b[0;31mValueError\u001b[0m: math domain error"
     ]
    }
   ],
   "source": [
    "%%time\n",
    "from trajectory.plot import seg_step \n",
    "\n",
    "j = Joint(10_000, 300_000)\n",
    "joints = [j]*2\n",
    "\n",
    "sl = SegmentList(joints)  \n",
    "\n",
    "x = 10000\n",
    "\n",
    "sl.move([x,x/2])\n",
    "sl.move([-x/2,x])\n",
    "sl.move([-x,-x/2])\n",
    "sl.move([x/2,-x])\n",
    "\n",
    "df = seg_step(sl)\n",
    "\n",
    "stepper_plot(sl)\n",
    "print(sl.step_positions, sl.move_positions)"
   ]
  },
  {
   "cell_type": "code",
   "execution_count": 3,
   "id": "7c139b2b-55df-476d-bce5-b98f117653e7",
   "metadata": {},
   "outputs": [
    {
     "ename": "TypeError",
     "evalue": "stepper_blocks() takes 1 positional argument but 2 were given",
     "output_type": "error",
     "traceback": [
      "\u001b[0;31m---------------------------------------------------------------------------\u001b[0m",
      "\u001b[0;31mTypeError\u001b[0m                                 Traceback (most recent call last)",
      "Input \u001b[0;32mIn [3]\u001b[0m, in \u001b[0;36m<cell line: 10>\u001b[0;34m()\u001b[0m\n\u001b[1;32m      7\u001b[0m sl\u001b[38;5;241m.\u001b[39mmove([\u001b[38;5;241m10\u001b[39m,\u001b[38;5;241m1000\u001b[39m])\n\u001b[1;32m      9\u001b[0m sl\u001b[38;5;241m.\u001b[39mplot()\n\u001b[0;32m---> 10\u001b[0m \u001b[43mstep_plot\u001b[49m\u001b[43m(\u001b[49m\u001b[43msl\u001b[49m\u001b[43m)\u001b[49m\n",
      "File \u001b[0;32m~/Documents/proj/trajectory/trajectory/plot.py:147\u001b[0m, in \u001b[0;36mstep_plot\u001b[0;34m(sl, ax)\u001b[0m\n\u001b[1;32m    144\u001b[0m \u001b[38;5;28;01mdef\u001b[39;00m \u001b[38;5;21mstep_plot\u001b[39m(sl, ax\u001b[38;5;241m=\u001b[39m\u001b[38;5;28;01mNone\u001b[39;00m):\n\u001b[1;32m    145\u001b[0m     \u001b[38;5;124;03m\"\"\" Plot the first two axes of a stepper dataset, generated froma SegmentList,\u001b[39;00m\n\u001b[1;32m    146\u001b[0m \u001b[38;5;124;03m    as a 2D plot\"\"\"\u001b[39;00m\n\u001b[0;32m--> 147\u001b[0m     df \u001b[38;5;241m=\u001b[39m \u001b[43mseg_step\u001b[49m\u001b[43m(\u001b[49m\u001b[43msl\u001b[49m\u001b[43m)\u001b[49m\u001b[38;5;241m.\u001b[39mcumsum()\n\u001b[1;32m    148\u001b[0m     df\u001b[38;5;241m.\u001b[39mplot(\u001b[38;5;124m'\u001b[39m\u001b[38;5;124mx\u001b[39m\u001b[38;5;124m'\u001b[39m, \u001b[38;5;124m'\u001b[39m\u001b[38;5;124my\u001b[39m\u001b[38;5;124m'\u001b[39m, ax\u001b[38;5;241m=\u001b[39max)\n",
      "File \u001b[0;32m~/Documents/proj/trajectory/trajectory/plot.py:137\u001b[0m, in \u001b[0;36mseg_step\u001b[0;34m(sl, details)\u001b[0m\n\u001b[1;32m    135\u001b[0m     \u001b[38;5;28;01mreturn\u001b[39;00m pd\u001b[38;5;241m.\u001b[39mDataFrame(\u001b[38;5;28mlist\u001b[39m(sl\u001b[38;5;241m.\u001b[39mstep(details\u001b[38;5;241m=\u001b[39mdetails)))\u001b[38;5;241m.\u001b[39mset_index(\u001b[38;5;124m'\u001b[39m\u001b[38;5;124mt\u001b[39m\u001b[38;5;124m'\u001b[39m)\n\u001b[1;32m    136\u001b[0m \u001b[38;5;28;01melse\u001b[39;00m:\n\u001b[0;32m--> 137\u001b[0m     l \u001b[38;5;241m=\u001b[39m \u001b[38;5;28;43mlist\u001b[39;49m\u001b[43m(\u001b[49m\u001b[43msl\u001b[49m\u001b[38;5;241;43m.\u001b[39;49m\u001b[43mstep\u001b[49m\u001b[43m(\u001b[49m\u001b[43m)\u001b[49m\u001b[43m)\u001b[49m\n\u001b[1;32m    139\u001b[0m     columns \u001b[38;5;241m=\u001b[39m \u001b[38;5;28mlist\u001b[39m(\u001b[38;5;124m'\u001b[39m\u001b[38;5;124mtxyzabc\u001b[39m\u001b[38;5;124m'\u001b[39m)[:\u001b[38;5;28mlen\u001b[39m(l[\u001b[38;5;241m0\u001b[39m])]\n\u001b[1;32m    141\u001b[0m     \u001b[38;5;28;01mreturn\u001b[39;00m pd\u001b[38;5;241m.\u001b[39mDataFrame(l, columns\u001b[38;5;241m=\u001b[39mcolumns)\u001b[38;5;241m.\u001b[39mset_index(\u001b[38;5;124m'\u001b[39m\u001b[38;5;124mt\u001b[39m\u001b[38;5;124m'\u001b[39m)\n",
      "File \u001b[0;32m~/Documents/proj/trajectory/trajectory/planner.py:469\u001b[0m, in \u001b[0;36mSegmentList.step\u001b[0;34m(self, details)\u001b[0m\n\u001b[1;32m    465\u001b[0m t \u001b[38;5;241m=\u001b[39m \u001b[38;5;241m0\u001b[39m\n\u001b[1;32m    467\u001b[0m steppers \u001b[38;5;241m=\u001b[39m [Stepper(details\u001b[38;5;241m=\u001b[39mdetails) \u001b[38;5;28;01mfor\u001b[39;00m _ \u001b[38;5;129;01min\u001b[39;00m \u001b[38;5;28mself\u001b[39m\u001b[38;5;241m.\u001b[39mjoints]\n\u001b[0;32m--> 469\u001b[0m \u001b[38;5;28;01mfor\u001b[39;00m seg_n, stepper_blocks \u001b[38;5;129;01min\u001b[39;00m \u001b[38;5;28mself\u001b[39m\u001b[38;5;241m.\u001b[39mstepper_blocks:\n\u001b[1;32m    471\u001b[0m     \u001b[38;5;28;01mfor\u001b[39;00m stp, sb \u001b[38;5;129;01min\u001b[39;00m \u001b[38;5;28mzip\u001b[39m(steppers, stepper_blocks):\n\u001b[1;32m    472\u001b[0m         stp\u001b[38;5;241m.\u001b[39mload_phases(sb)\n",
      "File \u001b[0;32m~/Documents/proj/trajectory/trajectory/planner.py:458\u001b[0m, in \u001b[0;36mSegmentList.stepper_blocks\u001b[0;34m(self)\u001b[0m\n\u001b[1;32m    454\u001b[0m \u001b[38;5;129m@property\u001b[39m\n\u001b[1;32m    455\u001b[0m \u001b[38;5;28;01mdef\u001b[39;00m \u001b[38;5;21mstepper_blocks\u001b[39m(\u001b[38;5;28mself\u001b[39m):\n\u001b[1;32m    457\u001b[0m     \u001b[38;5;28;01mfor\u001b[39;00m seg_n, s \u001b[38;5;129;01min\u001b[39;00m \u001b[38;5;28menumerate\u001b[39m(\u001b[38;5;28mself\u001b[39m\u001b[38;5;241m.\u001b[39msegments):\n\u001b[0;32m--> 458\u001b[0m         \u001b[38;5;28;01myield\u001b[39;00m seg_n, [b\u001b[38;5;241m.\u001b[39mstepper_blocks(s\u001b[38;5;241m.\u001b[39mtime) \u001b[38;5;28;01mfor\u001b[39;00m b \u001b[38;5;129;01min\u001b[39;00m s\u001b[38;5;241m.\u001b[39mblocks]\n",
      "File \u001b[0;32m~/Documents/proj/trajectory/trajectory/planner.py:458\u001b[0m, in \u001b[0;36m<listcomp>\u001b[0;34m(.0)\u001b[0m\n\u001b[1;32m    454\u001b[0m \u001b[38;5;129m@property\u001b[39m\n\u001b[1;32m    455\u001b[0m \u001b[38;5;28;01mdef\u001b[39;00m \u001b[38;5;21mstepper_blocks\u001b[39m(\u001b[38;5;28mself\u001b[39m):\n\u001b[1;32m    457\u001b[0m     \u001b[38;5;28;01mfor\u001b[39;00m seg_n, s \u001b[38;5;129;01min\u001b[39;00m \u001b[38;5;28menumerate\u001b[39m(\u001b[38;5;28mself\u001b[39m\u001b[38;5;241m.\u001b[39msegments):\n\u001b[0;32m--> 458\u001b[0m         \u001b[38;5;28;01myield\u001b[39;00m seg_n, [\u001b[43mb\u001b[49m\u001b[38;5;241;43m.\u001b[39;49m\u001b[43mstepper_blocks\u001b[49m\u001b[43m(\u001b[49m\u001b[43ms\u001b[49m\u001b[38;5;241;43m.\u001b[39;49m\u001b[43mtime\u001b[49m\u001b[43m)\u001b[49m \u001b[38;5;28;01mfor\u001b[39;00m b \u001b[38;5;129;01min\u001b[39;00m s\u001b[38;5;241m.\u001b[39mblocks]\n",
      "\u001b[0;31mTypeError\u001b[0m: stepper_blocks() takes 1 positional argument but 2 were given"
     ]
    },
    {
     "data": {
      "image/png": "[encoded data removed]",
      "text/plain": [
       "<Figure size 1296x216 with 1 Axes>"
      ]
     },
     "metadata": {
      "needs_background": "light"
     },
     "output_type": "display_data"
    }
   ],
   "source": [
    "\n",
    "\n",
    "j = Joint(5_000, 50_000)\n",
    "joints = [j]*2\n",
    "\n",
    "sl = SegmentList(joints)  \n",
    "x = 2000\n",
    "sl.move([x,x])\n",
    "sl.move([10,1000])\n",
    "\n",
    "sl.plot()\n",
    "step_plot(sl)  "
   ]
  },
  {
   "cell_type": "code",
   "execution_count": null,
   "id": "7ee61719-57be-4499-bf30-d2839edf1e5e",
   "metadata": {},
   "outputs": [],
   "source": [
    "%reload_ext autoreload\n",
    "%autoreload 2\n",
    "%run startup.py\n",
    "from tqdm.auto import tqdm\n",
    "\n",
    "from trajectory.planner import Segment, SegmentList, Joint\n",
    "\n",
    "j = Joint(10_000, 300_000)\n",
    "joints = [j]*2\n",
    "\n",
    "sl = SegmentList(joints)  \n",
    "x = 10000\n",
    "\n",
    "sl.move([x,x])\n",
    "sl.move([x,-x])\n",
    "sl.move([-x,-x])\n",
    "sl.move([-x,x])\n",
    "sl.move([x,x])\n",
    " \n",
    "sl.plot()\n",
    "step_plot(sl) "
   ]
  },
  {
   "cell_type": "code",
   "execution_count": null,
   "id": "8510ecda-cfad-4247-b80e-be16790133e5",
   "metadata": {},
   "outputs": [],
   "source": [
    "%run startup.py\n",
    "from tqdm.auto import tqdm\n",
    "\n",
    "from trajectory.planner import Segment, SegmentList, Joint\n",
    "\n",
    "j = Joint(10_000, 300_000)\n",
    "joints = [j]*2\n",
    "\n",
    "sl = SegmentList(joints)  \n",
    "x = 10000\n",
    "\n",
    "sl.move([x,x])\n",
    "sl.move([1,1000])\n",
    "sl.move([-x,-x])\n",
    " \n",
    "sl.plot()\n",
    "step_plot(sl) "
   ]
  },
  {
   "cell_type": "code",
   "execution_count": null,
   "id": "bba654cd-d262-4383-9185-a28dcb06909a",
   "metadata": {},
   "outputs": [],
   "source": [
    "%reload_ext autoreload\n",
    "%autoreload 2\n",
    "%run startup.py\n",
    "from trajectory.plot import  * \n",
    "from math import sin, cos, sqrt\n",
    "from trajectory.planner import Segment, SegmentList, Joint\n",
    "\n",
    "from trajectory.plot import * \n",
    "j = Joint(15_000, 500_000)\n",
    "\n",
    "def make_circle(j, r=5000, n=100):\n",
    "   \n",
    "    joints = [j]*2\n",
    "\n",
    "    sl = SegmentList(joints)   \n",
    "    r = r\n",
    "    lx  = 0\n",
    "    ly = r\n",
    "    for i in range(0,n+1):\n",
    "        a = 2*np.pi*(i/n)\n",
    "        x = sin(a)*r \n",
    "        y = cos(a)*r \n",
    "\n",
    "        sl.move((round(x-lx),round(y-ly)))\n",
    "        lx = x\n",
    "        ly = y\n",
    "            \n",
    "    t_m = np.mean(list(chain(*[s.times for s in sl])))\n",
    "    display(Markdown(f\"## R={r} N={n} Tmean = {t_m}\"))     \n",
    "\n",
    "    \n",
    "    #sl.plot();plt.show()\n",
    "    #fig, ax = plt.subplots(1,figsize=(12,12))\n",
    "    stepper_plot(sl)\n",
    "    report(sl)\n",
    "    return sl\n",
    " \n",
    "sl = make_circle(j, 2000, 100)\n",
    "print(sl.planner_positions, sl.step_positions)"
   ]
  },
  {
   "cell_type": "code",
   "execution_count": null,
   "id": "09638239-6cbc-4911-b081-52dbe35753ec",
   "metadata": {},
   "outputs": [],
   "source": [
    "from trajectory.plot import * \n",
    "df = seg_step(sl, details=True)\n",
    "dfv = step_v_df(sl)\n",
    "df.xe.plot()"
   ]
  },
  {
   "cell_type": "code",
   "execution_count": null,
   "id": "68a6e6a6-a09a-46f3-b784-8e1aa40194e9",
   "metadata": {},
   "outputs": [],
   "source": [
    "from trajectory.plot import * \n",
    "df = seg_step(sl, details=True)\n",
    "dfv = step_v_df(sl)\n",
    "df.xe.plot()"
   ]
  },
  {
   "cell_type": "code",
   "execution_count": null,
   "id": "edd83713-3a12-4e13-a26d-7cf8fa70eee1",
   "metadata": {},
   "outputs": [],
   "source": [
    "tm = 1.011880\n",
    "t = df.reset_index()\n",
    "t = t[t.t.between(tm-.00005,tm+.0005)]\n",
    "t[t.s!=0]"
   ]
  },
  {
   "cell_type": "code",
   "execution_count": null,
   "id": "69c754fe-37ec-424b-a062-e0afbd91b566",
   "metadata": {},
   "outputs": [],
   "source": [
    "tm = 1.011984\n",
    "t = t[t.t.between(tm-.00005,tm+.00005)]\n",
    "t"
   ]
  },
  {
   "cell_type": "code",
   "execution_count": null,
   "id": "1958eb0b-caa3-4da9-9b4c-b809e8c283c2",
   "metadata": {},
   "outputs": [],
   "source": [
    "t = df.reset_index()\n",
    "nz = t[t.s!=0].copy()\n",
    "nz['vc'] = 1/( nz.t.diff()) * nz.s\n",
    "nz['v_err'] = (nz.v-nz.vc)\n",
    "nz.plot.scatter('v','vc')"
   ]
  },
  {
   "cell_type": "code",
   "execution_count": null,
   "id": "17dfbdc5-e783-4e68-bfc0-d8d92453de02",
   "metadata": {},
   "outputs": [],
   "source": [
    "t = df.reset_index().join(nz[['vc']])\n",
    "t['vce'] = t.v-t.vc\n",
    "t.sort_values('vce', ascending=False)"
   ]
  },
  {
   "cell_type": "code",
   "execution_count": null,
   "id": "7d5a72f4-2ac9-49be-af14-f53fcf9f5f82",
   "metadata": {},
   "outputs": [],
   "source": [
    "idx = 233019\n",
    "t.iloc[idx-10:idx+10]"
   ]
  },
  {
   "cell_type": "code",
   "execution_count": null,
   "id": "bacddaac-7df9-47b4-be2e-d36c40b7fcd9",
   "metadata": {},
   "outputs": [],
   "source": [
    "#\n",
    "# Calculate velocity profile directly from steps\n",
    "#\n",
    "j = Joint(5_000, 50_000)\n",
    "joints = [j]*2\n",
    "\n",
    "sl = SegmentList(joints)  \n",
    "\n",
    "x = 1000\n",
    "\n",
    "sl.move([x,x/2])\n",
    "sl.move([x/2,x])\n",
    "\n",
    "ax = sl.plot()\n",
    "\n",
    "step_v_plot(sl)"
   ]
  },
  {
   "cell_type": "code",
   "execution_count": null,
   "id": "cf2f495d-b85f-4e42-9b41-84270897a721",
   "metadata": {},
   "outputs": [],
   "source": [
    "from trajectory.stepper import * \n",
    "\n",
    "j = Joint(5_000, 50_000)\n",
    "joints = [j]*2\n",
    "\n",
    "sl = SegmentList(joints)  \n",
    "\n",
    "x = 1000\n",
    "\n",
    "sl.move([x,x/2])\n",
    "sl.move([x/2,x])\n",
    "sl.move([x,x/2])\n",
    "sl.move([x/2,x])\n",
    "sl.move([x,x/2])\n",
    "sl.move([x/2,x])\n",
    "ss = SegmentStepper(sl, details = True)\n",
    "\n",
    "l = list(ss)\n",
    "    "
   ]
  },
  {
   "cell_type": "code",
   "execution_count": null,
   "id": "2087aec6-36ab-4a22-b4ea-f7e68865f75c",
   "metadata": {},
   "outputs": [],
   "source": [
    "from trajectory.stepper import * \n",
    "\n",
    "j = Joint(5_000, 50_000)\n",
    "joints = [j]*2\n",
    "\n",
    "sl = SegmentList(joints)  \n",
    "\n",
    "x = 1000\n",
    "\n",
    "for i in range(5):\n",
    "    if i%2 == 0:\n",
    "        sl.jmove(.2,[x,x/2])\n",
    "        print(sl.queue_time)\n",
    "        sl.plot()\n",
    "    else:\n",
    "        sl.jmove(.2, [x/2,x])\n",
    "        print(sl.queue_time)\n",
    "        sl.plot()\n"
   ]
  },
  {
   "cell_type": "code",
   "execution_count": null,
   "id": "a860bd34-de9d-4e01-ac89-ce93eab13857",
   "metadata": {},
   "outputs": [],
   "source": [
    "3%3"
   ]
  },
  {
   "cell_type": "code",
   "execution_count": null,
   "id": "286e8b7e-f11a-428a-8889-315289948421",
   "metadata": {},
   "outputs": [],
   "source": []
  }
 ],
 "metadata": {
  "kernelspec": {
   "display_name": "Python 3 (ipykernel)",
   "language": "python",
   "name": "python3"
  },
  "language_info": {
   "codemirror_mode": {
    "name": "ipython",
    "version": 3
   },
   "file_extension": ".py",
   "mimetype": "text/x-python",
   "name": "python",
   "nbconvert_exporter": "python",
   "pygments_lexer": "ipython3",
   "version": "3.9.12"
  }
 },
 "nbformat": 4,
 "nbformat_minor": 5
}
