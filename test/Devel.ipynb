{
 "cells": [
  {
   "cell_type": "code",
   "execution_count": 2,
   "id": "12591d77-4fea-45eb-9e8f-029b6100a43f",
   "metadata": {},
   "outputs": [
    {
     "data": {
      "text/plain": [
       "11520"
      ]
     },
     "execution_count": 2,
     "metadata": {},
     "output_type": "execute_result"
    }
   ],
   "source": [
    "%reload_ext autoreload\n",
    "%autoreload 2\n",
    "%run startup.py\n",
    "\n",
    "ag_ha = attrgetter(*'t v_0 v_c v_1 a_max'.split())\n",
    "ag = attrgetter(*'x t v_0 v_c v_1 v_max a_max'.split())\n",
    "\n",
    "def ch(v):\n",
    "    for e in chain(*v):\n",
    "        if e is not None:\n",
    "            yield e\n",
    "\n",
    "j = Joint(5_000, 50_000)\n",
    "       \n",
    "len(limits())\n",
    "    "
   ]
  },
  {
   "cell_type": "code",
   "execution_count": 71,
   "id": "0a95d428-2a1c-4e7b-b9b0-78bd5600aefd",
   "metadata": {},
   "outputs": [
    {
     "data": {
      "text/plain": [
       "<AxesSubplot:>"
      ]
     },
     "execution_count": 71,
     "metadata": {},
     "output_type": "execute_result"
    },
    {
     "data": {
      "image/png": "[encoded data removed]",
      "text/plain": [
       "<Figure size 432x288 with 1 Axes>"
      ]
     },
     "metadata": {
      "needs_background": "light"
     },
     "output_type": "display_data"
    }
   ],
   "source": [
    "import numpy as np\n",
    "b = j.new_block(500, 1000,1000).init()\n",
    "\n",
    "rows = []\n",
    "for v_c in range(0, j.v_max):\n",
    "    \n",
    "    try:\n",
    "        #a = b.replace(v_c=v_c).area\n",
    "        x, t_ad = accel_acd(b.v_0, v_c, b.v_1, b.joint.a_max)\n",
    "    except:\n",
    "        x = -1\n",
    "        \n",
    "    v_c_c = sqrt(4*a_max*x + 2*v_0**2 + 2*v_1**2)/2\n",
    "        \n",
    "    rows.append({'v_c':v_c,'v_c_c':v_c_c, 'x':x})\n",
    "    \n",
    "dfe = pd.DataFrame(rows)\n",
    "dfe.v_c_c.plot()"
   ]
  },
  {
   "cell_type": "code",
   "execution_count": 93,
   "id": "0adf6cbe-b9e1-4719-8a1e-ec55cb8eada9",
   "metadata": {},
   "outputs": [
    {
     "data": {
      "text/plain": [
       "('S', 250.0, 3535.5339059327375, 3535.5339059327375)"
      ]
     },
     "execution_count": 93,
     "metadata": {},
     "output_type": "execute_result"
    }
   ],
   "source": [
    "\n",
    "v_max = b.joint.v_max\n",
    "a_max = b.joint.a_max\n",
    "\n",
    "ag = attrgetter(*'x t v_0 v_c v_1'.split())\n",
    "x,t,v_0,v_c,v_1 = ag(b)\n",
    "\n",
    "x_ad, t_ad = accel_acd(b.v_0, b.v_c, b.v_1, b.joint.a_max)\n",
    "v_c = sqrt(4*a_max*b.x + 2*b.v_0**2 + 2*b.v_1**2)/2\n",
    "\n",
    "b.flag, x_ad, b.v_c, v_c"
   ]
  },
  {
   "cell_type": "code",
   "execution_count": 33,
   "id": "00264c1c-4677-47ed-a8b7-70166678fc14",
   "metadata": {},
   "outputs": [
    {
     "data": {
      "text/plain": [
       "(4690, (0.0738, 0.0338, 0.1076), (209.961, 129.96099999999998, 339.922))"
      ]
     },
     "execution_count": 33,
     "metadata": {},
     "output_type": "execute_result"
    }
   ],
   "source": [
    "%reload_ext autoreload\n",
    "%autoreload 2\n",
    "%run startup.py\n",
    "j = Joint(5_000, 50_000)\n",
    "\n",
    "b = j.new_block(340, 1000,3000).init()\n",
    "\n",
    "x_a, t_a = accel_xt(b.v_0, b.v_c, a_max)\n",
    "x_d, t_d = accel_xt(b.v_c, b.v_1, a_max)\n",
    "\n",
    "ag = attrgetter(*'x t v_0 v_c v_1'.split())\n",
    "x,t,v_0,v_c,v_1 = ag(b)\n",
    "\n",
    "b.v_c, (t_a, t_d, t_a+t_d), (x_a, x_d, x_a+x_d)"
   ]
  },
  {
   "cell_type": "code",
   "execution_count": 35,
   "id": "14419091-dc56-4553-bc3a-cbee87030476",
   "metadata": {},
   "outputs": [
    {
     "data": {
      "text/plain": [
       "(4690, (0.02, 0.06, 0.08), (10.0, 90.0, 100.0))"
      ]
     },
     "execution_count": 35,
     "metadata": {},
     "output_type": "execute_result"
    }
   ],
   "source": [
    "x_a, t_a = accel_xt(b.v_0, 0, a_max)\n",
    "x_d, t_d = accel_xt(0, b.v_1, a_max)\n",
    "\n",
    "ag = attrgetter(*'x t v_0 v_c v_1'.split())\n",
    "x,t,v_0,v_c,v_1 = ag(b)\n",
    "\n",
    "b.v_c, (t_a, t_d, t_a+t_d), (x_a, x_d, x_a+x_d)"
   ]
  },
  {
   "cell_type": "code",
   "execution_count": 93,
   "id": "21fe31e1-410f-44f6-bf59-79a150412579",
   "metadata": {},
   "outputs": [
    {
     "name": "stdout",
     "output_type": "stream",
     "text": [
      "200 3000 3000\n",
      "3000 50000 0.0\n",
      "3000 -50000 0.0\n"
     ]
    },
    {
     "data": {
      "text/plain": [
       "ULInfo(t=0, x=0, t_i=0.0, t_a=0, t_c=0, t_d=0, v_c=3000.0, x_a=0, x_c=0, x_d=0, x_ad=0.0, t_ad=0.0, hit_limit=False)"
      ]
     },
     "execution_count": 93,
     "metadata": {},
     "output_type": "execute_result"
    }
   ],
   "source": [
    "from trajectory.params import Info\n",
    "b = j.new_block(200, 3000,3000)\n",
    "print(b.x,b.v_0, b.v_1)\n",
    "Info.for_t(b).u"
   ]
  },
  {
   "cell_type": "code",
   "execution_count": 90,
   "id": "9f7f8440-4f4d-4479-a816-2943098dd73b",
   "metadata": {},
   "outputs": [
    {
     "name": "stdout",
     "output_type": "stream",
     "text": [
      "5000 50000 0.0\n",
      "5000 -50000 0.0\n"
     ]
    },
    {
     "data": {
      "text/plain": [
       "ULInfo(t=0, x=0, t_i=0.0, t_a=0, t_c=0, t_d=0, v_c=5000.0, x_a=0, x_c=0, x_d=0, x_ad=0.0, t_ad=0.0, hit_limit=False)"
      ]
     },
     "execution_count": 90,
     "metadata": {},
     "output_type": "execute_result"
    }
   ],
   "source": [
    "Info.for_t(b).l"
   ]
  },
  {
   "cell_type": "code",
   "execution_count": null,
   "id": "9697839a-2f4e-48dc-8c25-6668f797f094",
   "metadata": {},
   "outputs": [],
   "source": []
  },
  {
   "cell_type": "code",
   "execution_count": null,
   "id": "6ab66007-0c90-4488-aabc-345241d356ed",
   "metadata": {},
   "outputs": [],
   "source": []
  }
 ],
 "metadata": {
  "kernelspec": {
   "display_name": "Python 3 (ipykernel)",
   "language": "python",
   "name": "python3"
  },
  "language_info": {
   "codemirror_mode": {
    "name": "ipython",
    "version": 3
   },
   "file_extension": ".py",
   "mimetype": "text/x-python",
   "name": "python",
   "nbconvert_exporter": "python",
   "pygments_lexer": "ipython3",
   "version": "3.9.12"
  }
 },
 "nbformat": 4,
 "nbformat_minor": 5
}
