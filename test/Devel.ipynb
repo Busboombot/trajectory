{
 "cells": [
  {
   "cell_type": "code",
   "execution_count": 2,
   "id": "12591d77-4fea-45eb-9e8f-029b6100a43f",
   "metadata": {},
   "outputs": [
    {
     "data": {
      "text/plain": [
       "11520"
      ]
     },
     "execution_count": 2,
     "metadata": {},
     "output_type": "execute_result"
    }
   ],
   "source": [
    "%reload_ext autoreload\n",
    "%autoreload 2\n",
    "%run startup.py\n",
    "\n",
    "ag_ha = attrgetter(*'t v_0 v_c v_1 a_max'.split())\n",
    "ag = attrgetter(*'x t v_0 v_c v_1 v_max a_max'.split())\n",
    "\n",
    "def ch(v):\n",
    "    for e in chain(*v):\n",
    "        if e is not None:\n",
    "            yield e\n",
    "\n",
    "j = Joint(5_000, 50_000)\n",
    "       \n",
    "len(limits())\n",
    "    "
   ]
  },
  {
   "cell_type": "code",
   "execution_count": 35,
   "id": "00264c1c-4677-47ed-a8b7-70166678fc14",
   "metadata": {},
   "outputs": [
    {
     "name": "stderr",
     "output_type": "stream",
     "text": [
      "100%|██████████| 11520/11520 [00:14<00:00, 791.13it/s]\n"
     ]
    }
   ],
   "source": [
    "%reload_ext autoreload\n",
    "%autoreload 2\n",
    "%run startup.py\n",
    "# Test:\n",
    "#  - Initial planning\n",
    "#  - Multiple updates to new time. \n",
    "from tqdm import tqdm\n",
    "\n",
    "j = Joint(5_000, 50_000)\n",
    "\n",
    "n = 0\n",
    "errors = []\n",
    "rows = []\n",
    "for i, (x, v_0, v_1) in tqdm(limits()): #choices(limits(),k=2_000):\n",
    "\n",
    "    for _ in range(10):\n",
    "        tf = random()*3+1.01 # Time factor, multiply with block time\n",
    "        try:\n",
    "            b = j.new_block(x, v_0, v_1).init()\n",
    "            v_c_1 = b.v_c\n",
    "            assert round(b.area) == b.x, (b, i, b.flag)\n",
    "            b.plan(b.t*tf)\n",
    "            assert round(b.area) == b.x, (b, i, b.flag)\n",
    "            assert round(b.v_c) <= b.joint.v_max, (i, b.v_c)\n",
    "            \n",
    "        except (Exception, AssertionError):\n",
    "            errors.append( (i, tf, b))\n",
    "            raise\n",
    "       \n",
    "        d = dict(i=i, x=x, t=b.t, v_0=b.v_0, v_1=b.v_1, v_c_1=v_c_1, v_c_2=b.v_c, rc=b.recalcs, qc=b.flag)\n",
    "        rows.append(d)\n",
    "        \n",
    "    \n",
    "df = pd.DataFrame(rows)  "
   ]
  },
  {
   "cell_type": "code",
   "execution_count": 33,
   "id": "f6a9817b-73b3-459d-bb88-dc953dca19b0",
   "metadata": {},
   "outputs": [
    {
     "name": "stdout",
     "output_type": "stream",
     "text": [
      "0.00012152777777777777\n"
     ]
    },
    {
     "data": {
      "text/plain": [
       "O     108939\n",
       "Z       5760\n",
       "T0       451\n",
       "T         50\n",
       "Name: qc, dtype: int64"
      ]
     },
     "execution_count": 33,
     "metadata": {},
     "output_type": "execute_result"
    }
   ],
   "source": [
    "print(14/len(df))\n",
    "df.qc.value_counts()"
   ]
  },
  {
   "cell_type": "code",
   "execution_count": 2,
   "id": "73c5e995-4a13-46fc-9d7a-62ce5c9be1c4",
   "metadata": {},
   "outputs": [
    {
     "ename": "NameError",
     "evalue": "name 'j' is not defined",
     "output_type": "error",
     "traceback": [
      "\u001b[0;31m---------------------------------------------------------------------------\u001b[0m",
      "\u001b[0;31mNameError\u001b[0m                                 Traceback (most recent call last)",
      "Input \u001b[0;32mIn [2]\u001b[0m, in \u001b[0;36m<cell line: 8>\u001b[0;34m()\u001b[0m\n\u001b[1;32m      5\u001b[0m i \u001b[38;5;241m=\u001b[39m \u001b[38;5;241m8730\u001b[39m \n\u001b[1;32m      6\u001b[0m i, (x, v_0, v_1) \u001b[38;5;241m=\u001b[39m limits()[i]\n\u001b[0;32m----> 8\u001b[0m b \u001b[38;5;241m=\u001b[39m \u001b[43mj\u001b[49m\u001b[38;5;241m.\u001b[39mnew_block(x, v_0, v_1)\u001b[38;5;241m.\u001b[39minit()\n\u001b[1;32m      9\u001b[0m \u001b[38;5;28mprint\u001b[39m(b\u001b[38;5;241m.\u001b[39mv_c, b\u001b[38;5;241m.\u001b[39mt)\n\u001b[1;32m     10\u001b[0m \u001b[38;5;28mself\u001b[39m \u001b[38;5;241m=\u001b[39m b\n",
      "\u001b[0;31mNameError\u001b[0m: name 'j' is not defined"
     ]
    }
   ],
   "source": [
    "%reload_ext autoreload\n",
    "%autoreload 2\n",
    "%run startup.py\n"
   ]
  },
  {
   "cell_type": "code",
   "execution_count": null,
   "id": "3d7e5527-af3a-4f7a-9720-92f74878a0af",
   "metadata": {},
   "outputs": [],
   "source": [
    "from trajectory.params import make_area_error_func \n",
    "i, (x, v_0, v_1) = limits()[i]\n",
    "b = j.new_block(x, v_0, v_1).init()\n",
    "print(x, v_0, v_1)\n",
    "#v_0 = v_1 = 4000\n",
    "x = 500\n",
    "f = make_area_error_func(b)\n",
    "\n",
    "rows = []\n",
    "for v_c in range(0,v_max):\n",
    "    a = abs(b.x - b.replace(v_c=v_c).arear)\n",
    "    rows.append(dict(v_c=v_c, e=f(v_c), a=a))\n",
    "\n",
    "t = pd.DataFrame(rows).set_index('v_c')\n",
    "t.plot()\n"
   ]
  },
  {
   "cell_type": "code",
   "execution_count": 2,
   "id": "aab1bb39-24c7-49ba-840e-a4253ec86400",
   "metadata": {},
   "outputs": [
    {
     "name": "stdout",
     "output_type": "stream",
     "text": [
      "0.02\n",
      "400 5000 5000\n"
     ]
    },
    {
     "ename": "AssertionError",
     "evalue": "(12.701665378580783, 100)",
     "output_type": "error",
     "traceback": [
      "\u001b[0;31m---------------------------------------------------------------------------\u001b[0m",
      "\u001b[0;31mAssertionError\u001b[0m                            Traceback (most recent call last)",
      "Input \u001b[0;32mIn [2]\u001b[0m, in \u001b[0;36m<cell line: 10>\u001b[0;34m()\u001b[0m\n\u001b[1;32m      8\u001b[0m plot_params(b)\n\u001b[1;32m      9\u001b[0m \u001b[38;5;28mprint\u001b[39m(b\u001b[38;5;241m.\u001b[39mt)\n\u001b[0;32m---> 10\u001b[0m \u001b[43mb\u001b[49m\u001b[38;5;241;43m.\u001b[39;49m\u001b[43mplan\u001b[49m\u001b[43m(\u001b[49m\u001b[38;5;241;43m.1\u001b[39;49m\u001b[43m)\u001b[49m\n\u001b[1;32m     11\u001b[0m plot_params(b)\n",
      "File \u001b[0;32m~/Documents/proj/trajectory/trajectory/params.py:385\u001b[0m, in \u001b[0;36mBlock.plan\u001b[0;34m(self, t)\u001b[0m\n\u001b[1;32m    382\u001b[0m     \u001b[38;5;28mself\u001b[39m\u001b[38;5;241m.\u001b[39mx_a, \u001b[38;5;28mself\u001b[39m\u001b[38;5;241m.\u001b[39mt_a \u001b[38;5;241m=\u001b[39m accel_xt(\u001b[38;5;28mself\u001b[39m\u001b[38;5;241m.\u001b[39mv_0, \u001b[38;5;28mself\u001b[39m\u001b[38;5;241m.\u001b[39mv_c, a_max)\n\u001b[1;32m    383\u001b[0m     \u001b[38;5;28mself\u001b[39m\u001b[38;5;241m.\u001b[39mx_d, \u001b[38;5;28mself\u001b[39m\u001b[38;5;241m.\u001b[39mt_d \u001b[38;5;241m=\u001b[39m accel_xt(\u001b[38;5;28mself\u001b[39m\u001b[38;5;241m.\u001b[39mv_c, \u001b[38;5;28mself\u001b[39m\u001b[38;5;241m.\u001b[39mv_1, a_max)\n\u001b[0;32m--> 385\u001b[0m     \u001b[38;5;28;01massert\u001b[39;00m \u001b[38;5;28mround\u001b[39m(\u001b[38;5;28mself\u001b[39m\u001b[38;5;241m.\u001b[39mx_a \u001b[38;5;241m+\u001b[39m \u001b[38;5;28mself\u001b[39m\u001b[38;5;241m.\u001b[39mx_d) \u001b[38;5;241m==\u001b[39m \u001b[38;5;28mself\u001b[39m\u001b[38;5;241m.\u001b[39mx\n\u001b[1;32m    387\u001b[0m     \u001b[38;5;28mself\u001b[39m\u001b[38;5;241m.\u001b[39mflag \u001b[38;5;241m=\u001b[39m \u001b[38;5;124m'\u001b[39m\u001b[38;5;124mBV\u001b[39m\u001b[38;5;124m'\u001b[39m\n\u001b[1;32m    390\u001b[0m \u001b[38;5;28;01mif\u001b[39;00m \u001b[38;5;28mself\u001b[39m\u001b[38;5;241m.\u001b[39mt_a\u001b[38;5;241m+\u001b[39m\u001b[38;5;28mself\u001b[39m\u001b[38;5;241m.\u001b[39mt_d \u001b[38;5;241m>\u001b[39m \u001b[38;5;28mself\u001b[39m\u001b[38;5;241m.\u001b[39mt:\n\u001b[1;32m    391\u001b[0m     \u001b[38;5;66;03m# planning resulted in a block that is longer than the commanded time\u001b[39;00m\n",
      "\u001b[0;31mAssertionError\u001b[0m: (12.701665378580783, 100)"
     ]
    },
    {
     "data": {
      "image/png": "[encoded data removed]",
      "text/plain": [
       "<Figure size 1440x216 with 1 Axes>"
      ]
     },
     "metadata": {
      "needs_background": "light"
     },
     "output_type": "display_data"
    }
   ],
   "source": [
    "%reload_ext autoreload\n",
    "%autoreload 2\n",
    "%run startup.py\n",
    "j = Joint(5_000, 50_000)\n",
    "\n",
    "b = j.new_block(100, 5_000, 5_000).init()\n",
    "#b.plan(b.t+.1)\n",
    "plot_params(b)\n",
    "print(b.t)\n",
    "b.plan(.1)\n",
    "plot_params(b)"
   ]
  },
  {
   "cell_type": "code",
   "execution_count": 10,
   "id": "603a95da-7dc2-40a4-bed6-6b084b0b7f7c",
   "metadata": {},
   "outputs": [
    {
     "name": "stdout",
     "output_type": "stream",
     "text": [
      "5000 0.0152587890625 0\n",
      "1127.0166537625246 0.0152587890625 0\n"
     ]
    },
    {
     "data": {
      "text/plain": [
       "(12.701665376252476, 2.3283064365386963e-09, 3162.2776601683795, 500.0)"
      ]
     },
     "execution_count": 10,
     "metadata": {},
     "output_type": "execute_result"
    }
   ],
   "source": [
    "b = Block(x=100, t=0.1, t_a=0.09999969482421875, t_c=0.02, t_d=0.09999969482421875, x_a=249.9999999976717, x_c=100, \n",
    "          x_d=249.9999999976717, v_0=5000, v_c=0.0152587890625, v_1=0, v_0_max=None, v_0_min=0, v_1_max=None, v_1_min=0, t_min=0, d=1, \n",
    "          joint=Joint(v_max=5000, a_max=50000, small_x=500.0), flag='O', recalcs=0, jsclass=None, next=None, prior=None)\n",
    "self = b\n",
    "print(b.v_0, self.v_c, b.v_1)\n",
    "set_bv(b)\n",
    "print(b.v_0, self.v_c, b.v_1)\n",
    "\n",
    "x_a, t_a = accel_xt(self.v_0, self.v_c, a_max)\n",
    "x_d, t_d = accel_xt(self.v_c, self.v_1, a_max)\n",
    "\n",
    "x_a, x_d, sqrt(2*b.x*b.joint.a_max), b.joint.small_x\n"
   ]
  },
  {
   "cell_type": "code",
   "execution_count": 66,
   "id": "3a2a8fc2-2bfc-4789-b112-a9582abd8b7c",
   "metadata": {},
   "outputs": [
    {
     "data": {
      "image/png": "[encoded data removed]",
      "text/plain": [
       "<Figure size 1440x360 with 1 Axes>"
      ]
     },
     "metadata": {
      "needs_background": "light"
     },
     "output_type": "display_data"
    }
   ],
   "source": [
    "j = Joint(5_000, 50_000)\n",
    "\n",
    "b = j.new_block(100, 0, 0).init()\n",
    "\n",
    "fig, ax = plt.subplots(1, figsize = (20, 5))\n",
    "\n",
    "for t in np.linspace(b.t, 1, num=10):\n",
    "    b.plan_ramp(t)\n",
    "    plot_params(b, ax=ax)\n",
    "\n"
   ]
  },
  {
   "cell_type": "code",
   "execution_count": 46,
   "id": "169543d1-d9f0-4994-b9f8-501f7c5a3950",
   "metadata": {},
   "outputs": [
    {
     "name": "stdout",
     "output_type": "stream",
     "text": [
      "100.03128000000001\n"
     ]
    },
    {
     "data": {
      "text/plain": [
       "<AxesSubplot:xlabel='v_c'>"
      ]
     },
     "execution_count": 46,
     "metadata": {},
     "output_type": "execute_result"
    },
    {
     "data": {
      "image/png": "[encoded data removed]",
      "text/plain": [
       "<Figure size 432x288 with 1 Axes>"
      ]
     },
     "metadata": {
      "needs_background": "light"
     },
     "output_type": "display_data"
    }
   ],
   "source": [
    "self = b = j.new_block(100, 100, 200).init()\n",
    "\n",
    "def err(v_c):\n",
    "    \"\"\"Robust area calculation. May return wrong results for bad parameters, but\n",
    "    will not throw exceptions\"\"\"\n",
    "\n",
    "    x_a, t_a = accel_xt(self.v_0, self.v_c, a_max)\n",
    "\n",
    "    t_c = max(self.t - t_a, 0)\n",
    "    x_c = max(v_c, 0) * t_c\n",
    "\n",
    "    return self.x-(x_a + x_c)\n",
    "\n",
    "rows = [ dict(v_c=v_c, e=err(v_c)) for v_c in range(v_max) ]\n",
    "\n",
    "df = pd.DataFrame(rows).set_index('v_c')\n",
    "df.plot()\n",
    "             \n",
    "    \n",
    "    "
   ]
  },
  {
   "cell_type": "code",
   "execution_count": 39,
   "id": "ade5e32d-eb00-4852-89df-2e394660d005",
   "metadata": {},
   "outputs": [
    {
     "data": {
      "text/plain": [
       "(250.0, 0.1)"
      ]
     },
     "execution_count": 39,
     "metadata": {},
     "output_type": "execute_result"
    }
   ],
   "source": [
    "accel_xt(0, self.joint.v_max, self.joint.a_max)"
   ]
  },
  {
   "cell_type": "code",
   "execution_count": 40,
   "id": "ed8e25a5-972c-4890-9f96-934dac263a69",
   "metadata": {},
   "outputs": [
    {
     "data": {
      "text/plain": [
       "250.0"
      ]
     },
     "execution_count": 40,
     "metadata": {},
     "output_type": "execute_result"
    }
   ],
   "source": [
    "self.joint.small_x/2"
   ]
  },
  {
   "cell_type": "code",
   "execution_count": null,
   "id": "f0860c6e-7ab7-4006-bdb2-8d907b06e57e",
   "metadata": {},
   "outputs": [],
   "source": []
  }
 ],
 "metadata": {
  "kernelspec": {
   "display_name": "Python 3 (ipykernel)",
   "language": "python",
   "name": "python3"
  },
  "language_info": {
   "codemirror_mode": {
    "name": "ipython",
    "version": 3
   },
   "file_extension": ".py",
   "mimetype": "text/x-python",
   "name": "python",
   "nbconvert_exporter": "python",
   "pygments_lexer": "ipython3",
   "version": "3.9.12"
  }
 },
 "nbformat": 4,
 "nbformat_minor": 5
}
