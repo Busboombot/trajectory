{
 "cells": [
  {
   "cell_type": "code",
   "execution_count": 1,
   "id": "7ea6ab5e-6785-419d-9641-d4e98a233aa8",
   "metadata": {},
   "outputs": [],
   "source": [
    "%reload_ext autoreload\n",
    "%autoreload 2\n",
    "%run startup.py\n",
    "from tqdm.auto import tqdm\n",
    "\n",
    "\n",
    "def grouper(n, iterable):\n",
    "    it = iter(iterable)\n",
    "    while True:\n",
    "        chunk = tuple(islice(it, n))\n",
    "        if not chunk:\n",
    "            return\n",
    "        yield chunk"
   ]
  },
  {
   "cell_type": "code",
   "execution_count": 2,
   "id": "3895a214-5e91-4a76-81b5-95005d7566f0",
   "metadata": {},
   "outputs": [
    {
     "data": {
      "application/vnd.jupyter.widget-view+json": {
       "model_id": "3527123ff4dc4124b3d8c4ee369582d1",
       "version_major": 2,
       "version_minor": 0
      },
      "text/plain": [
       "  0%|          | 0/13824 [00:00<?, ?it/s]"
      ]
     },
     "metadata": {},
     "output_type": "display_data"
    },
    {
     "data": {
      "text/html": [
       "<div>\n",
       "<style scoped>\n",
       "    .dataframe tbody tr th:only-of-type {\n",
       "        vertical-align: middle;\n",
       "    }\n",
       "\n",
       "    .dataframe tbody tr th {\n",
       "        vertical-align: top;\n",
       "    }\n",
       "\n",
       "    .dataframe thead th {\n",
       "        text-align: right;\n",
       "    }\n",
       "</style>\n",
       "<table border=\"1\" class=\"dataframe\">\n",
       "  <thead>\n",
       "    <tr style=\"text-align: right;\">\n",
       "      <th></th>\n",
       "      <th>x</th>\n",
       "      <th>t</th>\n",
       "    </tr>\n",
       "  </thead>\n",
       "  <tbody>\n",
       "    <tr>\n",
       "      <th>count</th>\n",
       "      <td>1.382400e+04</td>\n",
       "      <td>1.382400e+04</td>\n",
       "    </tr>\n",
       "    <tr>\n",
       "      <th>mean</th>\n",
       "      <td>-4.584248e-16</td>\n",
       "      <td>-5.398423e-19</td>\n",
       "    </tr>\n",
       "    <tr>\n",
       "      <th>std</th>\n",
       "      <td>1.117347e-14</td>\n",
       "      <td>6.388327e-18</td>\n",
       "    </tr>\n",
       "    <tr>\n",
       "      <th>min</th>\n",
       "      <td>-5.684342e-14</td>\n",
       "      <td>-2.775558e-17</td>\n",
       "    </tr>\n",
       "    <tr>\n",
       "      <th>25%</th>\n",
       "      <td>0.000000e+00</td>\n",
       "      <td>0.000000e+00</td>\n",
       "    </tr>\n",
       "    <tr>\n",
       "      <th>50%</th>\n",
       "      <td>0.000000e+00</td>\n",
       "      <td>0.000000e+00</td>\n",
       "    </tr>\n",
       "    <tr>\n",
       "      <th>75%</th>\n",
       "      <td>0.000000e+00</td>\n",
       "      <td>0.000000e+00</td>\n",
       "    </tr>\n",
       "    <tr>\n",
       "      <th>max</th>\n",
       "      <td>1.136868e-13</td>\n",
       "      <td>2.775558e-17</td>\n",
       "    </tr>\n",
       "  </tbody>\n",
       "</table>\n",
       "</div>"
      ],
      "text/plain": [
       "                  x             t\n",
       "count  1.382400e+04  1.382400e+04\n",
       "mean  -4.584248e-16 -5.398423e-19\n",
       "std    1.117347e-14  6.388327e-18\n",
       "min   -5.684342e-14 -2.775558e-17\n",
       "25%    0.000000e+00  0.000000e+00\n",
       "50%    0.000000e+00  0.000000e+00\n",
       "75%    0.000000e+00  0.000000e+00\n",
       "max    1.136868e-13  2.775558e-17"
      ]
     },
     "execution_count": 2,
     "metadata": {},
     "output_type": "execute_result"
    }
   ],
   "source": [
    "# Check differences between two was of calculating values. \n",
    "from trajectory.gsolver import accel_acd, accel_xt\n",
    "\n",
    "rows = []\n",
    "for v_0, v_c, v_1 in tqdm(list(product(velocities,velocities, velocities))):\n",
    "    x_ad, t_ad = accel_acd(v_0, v_c, v_1, a_max)\n",
    "    \n",
    "    x_a, t_a = accel_xt(v_0, v_c, a_max)\n",
    "    x_d, t_d = accel_xt(v_c, v_1, a_max)\n",
    "    \n",
    "    rows.append( dict(x = x_ad - (x_a+x_d), t = t_ad -(t_a+t_d) ))\n",
    "    \n",
    "df = pd.DataFrame(rows)\n",
    "                \n",
    "df.describe()\n",
    "    "
   ]
  },
  {
   "cell_type": "code",
   "execution_count": 3,
   "id": "dac18085-f2be-4978-8964-b7e69545c45d",
   "metadata": {},
   "outputs": [
    {
     "data": {
      "text/plain": [
       "<AxesSubplot:xlabel='x'>"
      ]
     },
     "execution_count": 3,
     "metadata": {},
     "output_type": "execute_result"
    },
    {
     "data": {
      "image/png": "[encoded data removed]",
      "text/plain": [
       "<Figure size 432x288 with 1 Axes>"
      ]
     },
     "metadata": {
      "needs_background": "light"
     },
     "output_type": "display_data"
    }
   ],
   "source": [
    "# Boundary Value reduction\n",
    "from trajectory.gsolver import set_bv\n",
    "j = Joint(5_000, 50_000)\n",
    "rows = []\n",
    "for x in range(500):\n",
    "    v_0, v_1 = set_bv(x, v_max, v_max, a_max)\n",
    "    rows.append(dict(x=x,v_0=v_0, v_1=v_1, v_m=(v_0+v_1)/2))\n",
    "\n",
    "df = pd.DataFrame(rows)\n",
    "df.set_index('x').plot()"
   ]
  },
  {
   "cell_type": "code",
   "execution_count": 4,
   "id": "05603e66-446b-43a4-aeed-dbf2901f24a0",
   "metadata": {},
   "outputs": [],
   "source": [
    "# Test that values get passed through the Block sontructors. \n",
    "from trajectory.planner import  Joint\n",
    "\n",
    "j = Joint(5_000, 50_000)\n",
    "self = j.new_block(100,123,456)\n",
    "\n",
    "assert self.x == 100, self.x\n",
    "assert self.v_0 == 123\n",
    "assert self.joint.v_max == 5_000\n",
    "\n",
    "self = j.new_block(100,123,456)\n",
    "\n",
    "assert self.x == 100\n",
    "assert self.v_0 == 123\n",
    "assert self.joint.v_max == 5_000\n"
   ]
  },
  {
   "cell_type": "code",
   "execution_count": 5,
   "id": "24901f47-174a-4731-9ced-20ca54d3a603",
   "metadata": {},
   "outputs": [
    {
     "data": {
      "application/vnd.jupyter.widget-view+json": {
       "model_id": "f6ee75a619514b9080b282f03955f96b",
       "version_major": 2,
       "version_minor": 0
      },
      "text/plain": [
       "  0%|          | 0/11520 [00:00<?, ?it/s]"
      ]
     },
     "metadata": {},
     "output_type": "display_data"
    },
    {
     "name": "stdout",
     "output_type": "stream",
     "text": [
      "# rows = 115200\n"
     ]
    },
    {
     "data": {
      "text/plain": [
       "O     0.753003\n",
       "NT    0.196997\n",
       "Z     0.050000\n",
       "Name: qc, dtype: float64"
      ]
     },
     "execution_count": 5,
     "metadata": {},
     "output_type": "execute_result"
    }
   ],
   "source": [
    "%reload_ext autoreload\n",
    "%autoreload 2\n",
    "%run startup.py\n",
    "\n",
    "from trajectory.planner import Joint, SegmentList\n",
    "from trajectory.gsolver import consistantize\n",
    "\n",
    "# Basic init and plan testing\n",
    "#  - Initial planning\n",
    "#  - Multiple updates to new time. \n",
    "\n",
    "j = Joint(5_000, 50_000)\n",
    "\n",
    "n = 0\n",
    "errors = []\n",
    "rows = []\n",
    "for i, (x, v_0, v_1) in tqdm(limits()): #choices(limits(),k=2_000):\n",
    "\n",
    "    for _ in range(10):\n",
    "        tf = random()*3+1.01 # Time factor, multiply with block time\n",
    "        try:\n",
    "            self = j.new_block(x, v_0, v_1).init()\n",
    "            assert abs(self.area-self.x) < 1, (self, i)\n",
    "            t = self.t*tf\n",
    "            self.plan(t)\n",
    "            assert abs(self.area - self.x)<3, (self.area, self, i, self.flag)\n",
    "            if self.t != t:\n",
    "                ot = self.t\n",
    "                self.plan(ot)\n",
    "                #assert round(self.t, 6) == round(ot, 6), (self.t, t)\n",
    "                \n",
    "            x_c, x_e = consistantize(self, True)\n",
    "            a = self.area\n",
    "        except:\n",
    "            errors.append( (i, tf, self))\n",
    "            raise\n",
    "        d = dict(i=i, x=x, t=self.t, v_0=self.v_0, v_1=self.v_1, v_c=self.v_c, x_e = x_e, a=a, qc=self.flag)\n",
    "        rows.append(d)\n",
    "        \n",
    "df = pd.DataFrame(rows)  \n",
    "print('# rows =', len(df))\n",
    "df.qc.value_counts(normalize=True)"
   ]
  },
  {
   "cell_type": "code",
   "execution_count": 6,
   "id": "41aa77f9-746c-4549-8f31-b3761e762955",
   "metadata": {},
   "outputs": [
    {
     "data": {
      "application/vnd.jupyter.widget-view+json": {
       "model_id": "25aea50577ba4a948ee23fab186b0979",
       "version_major": 2,
       "version_minor": 0
      },
      "text/plain": [
       "  0%|          | 0/10000 [00:00<?, ?it/s]"
      ]
     },
     "metadata": {},
     "output_type": "display_data"
    },
    {
     "name": "stdout",
     "output_type": "stream",
     "text": [
      "# rows = 100000 # errors =  0\n"
     ]
    },
    {
     "data": {
      "text/plain": [
       "O     0.7817\n",
       "NT    0.1141\n",
       "Z     0.1042\n",
       "Name: qc, dtype: float64"
      ]
     },
     "execution_count": 6,
     "metadata": {},
     "output_type": "execute_result"
    }
   ],
   "source": [
    "%reload_ext autoreload\n",
    "%autoreload 2\n",
    "%run startup.py\n",
    "\n",
    "from trajectory.planner import Joint, SegmentList\n",
    "from trajectory.gsolver import consistantize\n",
    "\n",
    "# Basic init and plan testing\n",
    "#  - Initial planning\n",
    "#  - Multiple updates to new time. \n",
    "\n",
    "j = Joint(5_000, 50_000)\n",
    "\n",
    "n = 0\n",
    "errors = []\n",
    "rows = []\n",
    "for i in tqdm(list(range(10_000))):\n",
    "\n",
    "  \n",
    "    x =   int(random() < .90)*randint(-10000,10000)\n",
    "    v_0 = int(random() < .90)*randint(0, j.v_max)\n",
    "    v_1 = int(random() < .90)*randint(0,j.v_max)\n",
    "                \n",
    "    for _ in range(10):\n",
    "        tf = random()*3+1.01 # Time factor, multiply with block time\n",
    "        a = x_e = None\n",
    "        try:\n",
    "            self = j.new_block(x, v_0, v_1).init()\n",
    "            assert abs(self.area-self.x) < 1, (self, i)\n",
    "            t = self.t*tf\n",
    "            self.plan(t)\n",
    "            assert abs(self.area - self.x)<3, (self.area, self, i, self.flag)\n",
    "            if self.t != t:\n",
    "                ot = self.t\n",
    "                self.plan(ot)\n",
    "                #assert round(self.t, 6) == round(ot, 6), (self.t, t)\n",
    "                \n",
    "            x_c, x_e = consistantize(self, True)\n",
    "            a = self.area\n",
    "        except:\n",
    "            errors.append( (i, x, v_0, v_1, tf))\n",
    "            raise\n",
    "        \n",
    "        d = dict(i=i, x=x, t=self.t, v_0=self.v_0, v_1=self.v_1, v_c=self.v_c, x_e = x_e, a=a, qc=self.flag)\n",
    "        rows.append(d)\n",
    "        \n",
    "df = pd.DataFrame(rows)  \n",
    "print('# rows =', len(df), \"# errors = \", len(errors) )\n",
    "df.qc.value_counts(normalize=True)"
   ]
  },
  {
   "cell_type": "code",
   "execution_count": 7,
   "id": "94950318-d13b-45cc-8e1d-3011f6e058dc",
   "metadata": {},
   "outputs": [],
   "source": [
    "if errors:\n",
    "    (i, x, v_0, v_1, tf)  = errors[0]\n",
    "    print(i, x, v_0, v_1)\n",
    "    self = j.new_block(x, v_0, v_1).init()\n",
    "    t = self.t*tf\n",
    "    try:\n",
    "        self.plan(t)\n",
    "    except:\n",
    "        print(t, self.x, self.t, self.v_0, self.v_1, tf)"
   ]
  },
  {
   "cell_type": "code",
   "execution_count": 8,
   "id": "f865dd98-abb2-45e3-b98f-8f6451c9fd4b",
   "metadata": {},
   "outputs": [
    {
     "data": {
      "application/vnd.jupyter.widget-view+json": {
       "model_id": "74104b5aca084c239a2aebe284749fe2",
       "version_major": 2,
       "version_minor": 0
      },
      "text/plain": [
       "  0%|          | 0/11520 [00:00<?, ?it/s]"
      ]
     },
     "metadata": {},
     "output_type": "display_data"
    }
   ],
   "source": [
    "%reload_ext autoreload\n",
    "%autoreload 2\n",
    "%run startup.py\n",
    "# Basic init and plan testing\n",
    "#  - Initial planning\n",
    "#  - Multiple updates to new time. \n",
    "from tqdm.auto import tqdm\n",
    "from trajectory.planner import Joint, SegmentList\n",
    "from trajectory.gsolver import consistantize\n",
    "\n",
    "j = Joint(5_000, 50_000)\n",
    "\n",
    "n = 0\n",
    "errors = []\n",
    "rows = []\n",
    "for i, (x, v_0, v_1) in tqdm(limits()): #choices(limits(),k=2_000):\n",
    "\n",
    "    try:\n",
    "        self = j.new_block(x, v_0, v_1).init()\n",
    "        t = self.t\n",
    "    \n",
    "        for tf in np.linspace(1.01, 3, num=10):\n",
    "            self.plan(t * tf)\n",
    "            self.plan_ramp(t*tf)\n",
    "    except:\n",
    "        errors.append( (i,  (x, v_0, v_1), tf) )\n",
    "        raise\n",
    "        "
   ]
  },
  {
   "cell_type": "code",
   "execution_count": 9,
   "id": "9755bbf8-ba3e-4b02-85b3-71b7ad8296f4",
   "metadata": {},
   "outputs": [],
   "source": [
    "if errors:\n",
    "    (i,  (x, v_0, v_1), tf) = errors[0]\n",
    "    print(x, v_0, v_1, tf)\n",
    "    \n",
    "    #(x, v_0, v_1, tf) =  10,250,750,1.231111111111111\n",
    "\n",
    "\n",
    "    self = j.new_block(x, v_0, v_1).init()\n",
    "    t = self.t\n",
    "\n",
    "    self.plan(t * tf)\n",
    "    self.plan_ramp(t*tf)\n",
    "    \n",
    "           \n",
    "    self.plan(t * tf)\n",
    "    self.plan_ramp(t*tf)\n",
    "    \n",
    "    print(self)"
   ]
  },
  {
   "cell_type": "code",
   "execution_count": 10,
   "id": "dbbb2478-2add-4fba-bd38-7c40fdda0bd7",
   "metadata": {},
   "outputs": [
    {
     "name": "stdout",
     "output_type": "stream",
     "text": [
      "0\n"
     ]
    },
    {
     "data": {
      "image/png": "[encoded data removed]",
      "text/plain": [
       "<Figure size 1296x216 with 1 Axes>"
      ]
     },
     "metadata": {
      "needs_background": "light"
     },
     "output_type": "display_data"
    }
   ],
   "source": [
    "%reload_ext autoreload\n",
    "%autoreload 2\n",
    "%run startup.py\n",
    "from trajectory.planner import Joint, SegmentList\n",
    "\n",
    "j = Joint(5_000, 50_000)\n",
    "joints = [j]*2\n",
    "\n",
    "sl = SegmentList(joints)   \n",
    "s = sl.move([1000,1])\n",
    "s = sl.move([1,1000])\n",
    "s = sl.move([1000,1])\n",
    "s = sl.move([1,1000])\n",
    "s = sl.move([1000,1])\n",
    "s = sl.move([1,1000])\n",
    "\n",
    "print(len(list(sl.discontinuities())))\n",
    "\n",
    "sl.plot()\n"
   ]
  },
  {
   "cell_type": "code",
   "execution_count": 12,
   "id": "44d5f00f-c2e2-491b-a0c6-1cc016cfab7f",
   "metadata": {},
   "outputs": [
    {
     "data": {
      "image/png": "[encoded data removed]",
      "text/plain": [
       "<Figure size 1296x216 with 1 Axes>"
      ]
     },
     "metadata": {
      "needs_background": "light"
     },
     "output_type": "display_data"
    }
   ],
   "source": [
    "%reload_ext autoreload\n",
    "%autoreload 2\n",
    "%run startup.py\n",
    "\n",
    "from trajectory.planner import Joint, SegmentList\n",
    "\n",
    "j = Joint(5_000, 50_000)\n",
    "joints = [j]*1\n",
    "\n",
    "sl = SegmentList(joints)   \n",
    "s = sl.move([1000])\n",
    "s = sl.move([-500])\n",
    "s = sl.move([1000])\n",
    "s = sl.move([500])\n",
    "\n",
    "sl.plot()"
   ]
  },
  {
   "cell_type": "code",
   "execution_count": 8,
   "id": "3c3f5797-a67e-47c4-ba7f-5c3aa541dcef",
   "metadata": {},
   "outputs": [
    {
     "data": {
      "image/png": "[encoded data removed]",
      "text/plain": [
       "<Figure size 1296x216 with 1 Axes>"
      ]
     },
     "metadata": {
      "needs_background": "light"
     },
     "output_type": "display_data"
    }
   ],
   "source": [
    "%reload_ext autoreload\n",
    "%autoreload 2\n",
    "\n",
    "# Serious discontinuities. \n",
    "from trajectory import * \n",
    "\n",
    "j = Joint(5_000, 50_000)\n",
    "joints = [j]*4\n",
    "sl = SegmentList(joints)   \n",
    "sl.move([160, 669, 991, 0])\n",
    "sl.move([163, 529, 414, 369])\n",
    "sl.move([-494, 733, 914, 0])\n",
    "sl.move([-133, 0, 0, -596])\n",
    "sl.move([-383, 606, 35, -955])\n",
    "sl.move([-528, 583, 0, -868])\n",
    "sl.move([-11, 0, 710, -524])\n",
    "sl.move([-924, 658, 957, -940])\n",
    "sl.move([-379, 110, 771, -275])\n",
    "\n",
    "sl.plot()"
   ]
  },
  {
   "cell_type": "code",
   "execution_count": 29,
   "id": "8718f6da-1daa-4932-8c04-ea127f2d47e2",
   "metadata": {},
   "outputs": [
    {
     "data": {
      "application/vnd.jupyter.widget-view+json": {
       "model_id": "f334b8a2fa3b44969cce316806ed524e",
       "version_major": 2,
       "version_minor": 0
      },
      "text/plain": [
       "  0%|          | 0/1000 [00:00<?, ?it/s]"
      ]
     },
     "metadata": {},
     "output_type": "display_data"
    },
    {
     "name": "stderr",
     "output_type": "stream",
     "text": [
      "/Users/eric/Documents/proj/trajectory/trajectory/planner.py:112: UserWarning: Failed to converge sid=0 with err > 0.001, but < 0.003\n",
      "  mt = max(self.times)\n",
      "/Users/eric/Documents/proj/trajectory/trajectory/planner.py:112: UserWarning: Failed to converge sid=11 with err > 0.001, but < 0.003\n",
      "  mt = max(self.times)\n",
      "/Users/eric/Documents/proj/trajectory/trajectory/planner.py:112: UserWarning: Failed to converge sid=28 with err > 0.001, but < 0.003\n",
      "  mt = max(self.times)\n",
      "/Users/eric/Documents/proj/trajectory/trajectory/planner.py:112: UserWarning: Failed to converge sid=80 with err > 0.001, but < 0.003\n",
      "  mt = max(self.times)\n",
      "/Users/eric/Documents/proj/trajectory/trajectory/planner.py:112: UserWarning: Failed to converge sid=156 with err > 0.001, but < 0.003\n",
      "  mt = max(self.times)\n",
      "/Users/eric/Documents/proj/trajectory/trajectory/planner.py:112: UserWarning: Failed to converge sid=174 with err > 0.001, but < 0.003\n",
      "  mt = max(self.times)\n",
      "/Users/eric/Documents/proj/trajectory/trajectory/planner.py:112: UserWarning: Failed to converge sid=203 with err > 0.001, but < 0.003\n",
      "  mt = max(self.times)\n",
      "/Users/eric/Documents/proj/trajectory/trajectory/planner.py:112: UserWarning: Failed to converge sid=209 with err > 0.001, but < 0.003\n",
      "  mt = max(self.times)\n",
      "/Users/eric/Documents/proj/trajectory/trajectory/planner.py:112: UserWarning: Failed to converge sid=302 with err > 0.001, but < 0.003\n",
      "  mt = max(self.times)\n",
      "/Users/eric/Documents/proj/trajectory/trajectory/planner.py:112: UserWarning: Failed to converge sid=360 with err > 0.001, but < 0.003\n",
      "  mt = max(self.times)\n",
      "/Users/eric/Documents/proj/trajectory/trajectory/planner.py:112: UserWarning: Failed to converge sid=527 with err > 0.001, but < 0.003\n",
      "  mt = max(self.times)\n",
      "/Users/eric/Documents/proj/trajectory/trajectory/planner.py:112: UserWarning: Failed to converge sid=533 with err > 0.001, but < 0.003\n",
      "  mt = max(self.times)\n",
      "/Users/eric/Documents/proj/trajectory/trajectory/planner.py:112: UserWarning: Failed to converge sid=559 with err > 0.001, but < 0.003\n",
      "  mt = max(self.times)\n",
      "/Users/eric/Documents/proj/trajectory/trajectory/planner.py:112: UserWarning: Failed to converge sid=626 with err > 0.001, but < 0.003\n",
      "  mt = max(self.times)\n",
      "/Users/eric/Documents/proj/trajectory/trajectory/planner.py:112: UserWarning: Failed to converge sid=709 with err > 0.001, but < 0.003\n",
      "  mt = max(self.times)\n",
      "/Users/eric/Documents/proj/trajectory/trajectory/planner.py:112: UserWarning: Failed to converge sid=719 with err > 0.001, but < 0.003\n",
      "  mt = max(self.times)\n"
     ]
    },
    {
     "name": "stdout",
     "output_type": "stream",
     "text": [
      "CPU times: user 1.47 s, sys: 19.2 ms, total: 1.49 s\n",
      "Wall time: 1.48 s\n"
     ]
    },
    {
     "name": "stderr",
     "output_type": "stream",
     "text": [
      "/Users/eric/Documents/proj/trajectory/trajectory/planner.py:112: UserWarning: Failed to converge sid=821 with err > 0.001, but < 0.003\n",
      "  mt = max(self.times)\n"
     ]
    }
   ],
   "source": [
    "%%time \n",
    "from trajectory.planner import Joint, SegmentList\n",
    "from trajectory.plot import *\n",
    "from random import random, randint\n",
    "from tqdm.auto import tqdm\n",
    "j = Joint(5_000, 50_000)\n",
    "n = 4\n",
    "joints = [j]*n\n",
    "signs = [1]*n\n",
    "\n",
    "sl = SegmentList(joints)   \n",
    "\n",
    "\n",
    "def rand_move(axis):\n",
    "\n",
    "    z = int(random() < .9) # Make 10% of the moves zero\n",
    "    if random() < .1: # change direction 10% of the time\n",
    "        signs[axis] = -signs[axis]\n",
    "\n",
    "    return z * signs[axis] * randint(240,5000)\n",
    " \n",
    "move_sets = [ [ rand_move(axis) for axis in range(len(joints))] for _ in range(1000) ]\n",
    "\n",
    "for move_n, moves in tqdm(list(enumerate(move_sets))):\n",
    "    try:\n",
    "        sl.move(moves)\n",
    "    except:\n",
    "        print(\"Move=\", move_n, move_sets[move_n])\n",
    "        raise\n",
    " \n",
    "ds = list(sl.discontinuities())\n",
    "if len(ds):\n",
    "    print(f\"Got {len(ds)} discontinuities\") \n",
    "    for a, self in sl.discontinuities():\n",
    "        print(a.id, 'diff=',abs(a.v_1-self.v_0), a.v_1,'!=',self.v_0 )\n",
    "\n",
    "#df = sl.dataframe\n",
    "#df = df[df.axis==0]\n",
    "#sl.plot()"
   ]
  },
  {
   "cell_type": "code",
   "execution_count": 28,
   "id": "1464a1f9-f64a-4a36-bc08-d95527ddb5bf",
   "metadata": {},
   "outputs": [
    {
     "data": {
      "text/plain": [
       "count    10000.000000\n",
       "mean         3.248300\n",
       "std          0.432742\n",
       "min          1.000000\n",
       "25%          3.000000\n",
       "50%          3.000000\n",
       "75%          3.000000\n",
       "max          4.000000\n",
       "dtype: float64"
      ]
     },
     "execution_count": 28,
     "metadata": {},
     "output_type": "execute_result"
    }
   ],
   "source": [
    "pd.Series([ s.replans for s in sl.segments]).describe()"
   ]
  },
  {
   "cell_type": "code",
   "execution_count": 32,
   "id": "0f811712-f1e2-48d0-ada6-e85c7596a940",
   "metadata": {},
   "outputs": [
    {
     "data": {
      "application/vnd.jupyter.widget-view+json": {
       "model_id": "340677840e994c5fb2c76effe4c29ffd",
       "version_major": 2,
       "version_minor": 0
      },
      "text/plain": [
       "  0%|          | 0/100 [00:00<?, ?it/s]"
      ]
     },
     "metadata": {},
     "output_type": "display_data"
    },
    {
     "name": "stdout",
     "output_type": "stream",
     "text": [
      "Got Nothing\n",
      "None\n"
     ]
    }
   ],
   "source": [
    "# Search for discontinuities\n",
    "from trajectory.planner import Joint, SegmentList\n",
    "from trajectory.plot import *\n",
    "from random import random, randint\n",
    "from tqdm.auto import tqdm\n",
    "\n",
    "j = Joint(5_000, 50_000)\n",
    "n = 4\n",
    "joints = [j]*n\n",
    "signs = [1]*n\n",
    "\n",
    "def f():\n",
    "    for i in tqdm(list(range(100))):\n",
    "        sl = SegmentList(joints)  \n",
    "        move_sets = [ [ rand_move(axis) for axis in range(len(joints))] for _ in range(5) ]\n",
    "\n",
    "\n",
    "        for move_n, moves in enumerate(move_sets):\n",
    "            try:\n",
    "                sl.move(moves)\n",
    "            except:\n",
    "                print(\"Move=\", move_n, move_sets[move_n])\n",
    "                return move_sets\n",
    "\n",
    "        if len(list(sl.discontinuities())):\n",
    "            ds = list(sl.discontinuities())\n",
    "            print(len(ds), move_sets)   \n",
    "            sl.plot()\n",
    "            return move_sets\n",
    "    else:\n",
    "        print(\"Got Nothing\")\n",
    "\n",
    "move_sets = f()\n",
    "print(move_sets)"
   ]
  },
  {
   "cell_type": "code",
   "execution_count": null,
   "id": "da5da084-47b2-408c-8d0d-5914d396002b",
   "metadata": {},
   "outputs": [],
   "source": []
  },
  {
   "cell_type": "code",
   "execution_count": null,
   "id": "9fe675fe-b096-446b-b445-26b2e577b19a",
   "metadata": {},
   "outputs": [],
   "source": []
  }
 ],
 "metadata": {
  "kernelspec": {
   "display_name": "Python 3 (ipykernel)",
   "language": "python",
   "name": "python3"
  },
  "language_info": {
   "codemirror_mode": {
    "name": "ipython",
    "version": 3
   },
   "file_extension": ".py",
   "mimetype": "text/x-python",
   "name": "python",
   "nbconvert_exporter": "python",
   "pygments_lexer": "ipython3",
   "version": "3.9.12"
  }
 },
 "nbformat": 4,
 "nbformat_minor": 5
}
