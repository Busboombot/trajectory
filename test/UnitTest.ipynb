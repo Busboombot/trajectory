{
 "cells": [
  {
   "cell_type": "code",
   "execution_count": 1,
   "id": "7ea6ab5e-6785-419d-9641-d4e98a233aa8",
   "metadata": {},
   "outputs": [],
   "source": [
    "%reload_ext autoreload\n",
    "%autoreload 2\n",
    "%run startup.py\n",
    "from tqdm.auto import tqdm\n",
    "\n",
    "\n",
    "def grouper(n, iterable):\n",
    "    it = iter(iterable)\n",
    "    while True:\n",
    "        chunk = tuple(islice(it, n))\n",
    "        if not chunk:\n",
    "            return\n",
    "        yield chunk"
   ]
  },
  {
   "cell_type": "code",
   "execution_count": 2,
   "id": "3895a214-5e91-4a76-81b5-95005d7566f0",
   "metadata": {},
   "outputs": [
    {
     "data": {
      "application/vnd.jupyter.widget-view+json": {
       "model_id": "b476f4246d0a443fb867f98c6b933057",
       "version_major": 2,
       "version_minor": 0
      },
      "text/plain": [
       "  0%|          | 0/13824 [00:00<?, ?it/s]"
      ]
     },
     "metadata": {},
     "output_type": "display_data"
    },
    {
     "data": {
      "text/html": [
       "<div>\n",
       "<style scoped>\n",
       "    .dataframe tbody tr th:only-of-type {\n",
       "        vertical-align: middle;\n",
       "    }\n",
       "\n",
       "    .dataframe tbody tr th {\n",
       "        vertical-align: top;\n",
       "    }\n",
       "\n",
       "    .dataframe thead th {\n",
       "        text-align: right;\n",
       "    }\n",
       "</style>\n",
       "<table border=\"1\" class=\"dataframe\">\n",
       "  <thead>\n",
       "    <tr style=\"text-align: right;\">\n",
       "      <th></th>\n",
       "      <th>x</th>\n",
       "      <th>t</th>\n",
       "    </tr>\n",
       "  </thead>\n",
       "  <tbody>\n",
       "    <tr>\n",
       "      <th>count</th>\n",
       "      <td>1.382400e+04</td>\n",
       "      <td>1.382400e+04</td>\n",
       "    </tr>\n",
       "    <tr>\n",
       "      <th>mean</th>\n",
       "      <td>-4.584248e-16</td>\n",
       "      <td>-5.398423e-19</td>\n",
       "    </tr>\n",
       "    <tr>\n",
       "      <th>std</th>\n",
       "      <td>1.117347e-14</td>\n",
       "      <td>6.388327e-18</td>\n",
       "    </tr>\n",
       "    <tr>\n",
       "      <th>min</th>\n",
       "      <td>-5.684342e-14</td>\n",
       "      <td>-2.775558e-17</td>\n",
       "    </tr>\n",
       "    <tr>\n",
       "      <th>25%</th>\n",
       "      <td>0.000000e+00</td>\n",
       "      <td>0.000000e+00</td>\n",
       "    </tr>\n",
       "    <tr>\n",
       "      <th>50%</th>\n",
       "      <td>0.000000e+00</td>\n",
       "      <td>0.000000e+00</td>\n",
       "    </tr>\n",
       "    <tr>\n",
       "      <th>75%</th>\n",
       "      <td>0.000000e+00</td>\n",
       "      <td>0.000000e+00</td>\n",
       "    </tr>\n",
       "    <tr>\n",
       "      <th>max</th>\n",
       "      <td>1.136868e-13</td>\n",
       "      <td>2.775558e-17</td>\n",
       "    </tr>\n",
       "  </tbody>\n",
       "</table>\n",
       "</div>"
      ],
      "text/plain": [
       "                  x             t\n",
       "count  1.382400e+04  1.382400e+04\n",
       "mean  -4.584248e-16 -5.398423e-19\n",
       "std    1.117347e-14  6.388327e-18\n",
       "min   -5.684342e-14 -2.775558e-17\n",
       "25%    0.000000e+00  0.000000e+00\n",
       "50%    0.000000e+00  0.000000e+00\n",
       "75%    0.000000e+00  0.000000e+00\n",
       "max    1.136868e-13  2.775558e-17"
      ]
     },
     "execution_count": 2,
     "metadata": {},
     "output_type": "execute_result"
    }
   ],
   "source": [
    "# Check differences between two was of calculating values. \n",
    "from trajectory.gsolver import accel_acd, accel_xt\n",
    "\n",
    "rows = []\n",
    "for v_0, v_c, v_1 in tqdm(list(product(velocities,velocities, velocities))):\n",
    "    x_ad, t_ad = accel_acd(v_0, v_c, v_1, a_max)\n",
    "    \n",
    "    x_a, t_a = accel_xt(v_0, v_c, a_max)\n",
    "    x_d, t_d = accel_xt(v_c, v_1, a_max)\n",
    "    \n",
    "    rows.append( dict(x = x_ad - (x_a+x_d), t = t_ad -(t_a+t_d) ))\n",
    "    \n",
    "df = pd.DataFrame(rows)\n",
    "                \n",
    "df.describe()\n",
    "    "
   ]
  },
  {
   "cell_type": "code",
   "execution_count": 3,
   "id": "05603e66-446b-43a4-aeed-dbf2901f24a0",
   "metadata": {},
   "outputs": [],
   "source": [
    "# Test that values get passed through the Block sontructors. \n",
    "from trajectory.planner import  Joint\n",
    "\n",
    "j = Joint(5_000, 50_000)\n",
    "self = j.new_block(100,123,456)\n",
    "\n",
    "assert self.x == 100, self.x\n",
    "assert self.v_0 == 123\n",
    "assert self.joint.v_max == 5_000\n",
    "\n",
    "self = j.new_block(100,123,456)\n",
    "\n",
    "assert self.x == 100\n",
    "assert self.v_0 == 123\n",
    "assert self.joint.v_max == 5_000\n"
   ]
  },
  {
   "cell_type": "code",
   "execution_count": 5,
   "id": "24901f47-174a-4731-9ced-20ca54d3a603",
   "metadata": {},
   "outputs": [
    {
     "data": {
      "application/vnd.jupyter.widget-view+json": {
       "model_id": "f86e46beb8134eeca695cf1382eade52",
       "version_major": 2,
       "version_minor": 0
      },
      "text/plain": [
       "  0%|          | 0/11520 [00:00<?, ?it/s]"
      ]
     },
     "metadata": {},
     "output_type": "display_data"
    },
    {
     "name": "stdout",
     "output_type": "stream",
     "text": [
      "0\n",
      "# rows = 115200\n"
     ]
    }
   ],
   "source": [
    "%reload_ext autoreload\n",
    "%autoreload 2\n",
    "%run startup.py\n",
    "\n",
    "from trajectory.planner import Joint, SegmentList\n",
    "\n",
    "# Basic init and plan testing\n",
    "#  - Initial planning\n",
    "#  - Multiple updates to new time. \n",
    "\n",
    "j = Joint(5_000, 50_000)\n",
    "\n",
    "n = 0\n",
    "errors = []\n",
    "rows = []\n",
    "for i, (x, v_0, v_1) in tqdm(limits()): #choices(limits(),k=2_000):\n",
    "\n",
    "    for _ in range(10):\n",
    "        tf = random()*3+1.01 # Time factor, multiply with block time\n",
    "        try:\n",
    "            b = j.new_block(x, v_0, v_1)\n",
    "            b.min_time()\n",
    "            t = b.t*tf\n",
    "            b.plan(t)\n",
    "            assert abs(b.area-b.x) < 1, (b, i)\n",
    "            assert abs(b.area - b.x)<3, (b.area, b, i, b.flag)\n",
    "            if b.t != t:\n",
    "                ot = b.t\n",
    "                b.plan(ot)\n",
    "                #assert round(self.t, 6) == round(ot, 6), (self.t, t)\n",
    "                \n",
    "            a = b.area\n",
    "        except:\n",
    "            errors.append( (i, tf, b))\n",
    "            raise\n",
    "        d = dict(i=i, x=x, t=self.t, v_0=b.v_0, v_1=b.v_1, v_c=b.v_c, a=a)\n",
    "        rows.append(d)\n",
    "        \n",
    "print(len(errors))\n",
    "df = pd.DataFrame(rows)  \n",
    "print('# rows =', len(df))"
   ]
  },
  {
   "cell_type": "code",
   "execution_count": 6,
   "id": "41aa77f9-746c-4549-8f31-b3761e762955",
   "metadata": {},
   "outputs": [
    {
     "data": {
      "application/vnd.jupyter.widget-view+json": {
       "model_id": "c0c38ccb188542fe83ce6be667cda3aa",
       "version_major": 2,
       "version_minor": 0
      },
      "text/plain": [
       "  0%|          | 0/2000 [00:00<?, ?it/s]"
      ]
     },
     "metadata": {},
     "output_type": "display_data"
    },
    {
     "name": "stdout",
     "output_type": "stream",
     "text": [
      "# rows = 20000 # errors =  0\n"
     ]
    }
   ],
   "source": [
    "%reload_ext autoreload\n",
    "%autoreload 2\n",
    "%run startup.py\n",
    "\n",
    "from trajectory.planner import Joint, SegmentList\n",
    "\n",
    "\n",
    "# Basic init and plan testing\n",
    "#  - Initial planning\n",
    "#  - Multiple updates to new time. \n",
    "\n",
    "j = Joint(5_000, 50_000)\n",
    "\n",
    "n = 0\n",
    "errors = []\n",
    "rows = []\n",
    "for i in tqdm(list(range(2_000))):\n",
    "\n",
    "  \n",
    "    x =   int(random() < .90)*randint(-10000,10000)\n",
    "    v_0 = int(random() < .90)*randint(0, j.v_max)\n",
    "    v_1 = int(random() < .90)*randint(0,j.v_max)\n",
    "                \n",
    "    for _ in range(10):\n",
    "        tf = random()*3+1.01 # Time factor, multiply with block time\n",
    "        a = x_e = None\n",
    "        try:\n",
    "            b = j.new_block(x, v_0, v_1)\n",
    "            b.min_time()\n",
    "            t = b.t*tf\n",
    "            b.plan(t)\n",
    "            assert abs(b.area - b.x)<3, (b.area, self, i)\n",
    "            if b.t != t:\n",
    "                ot = b.t\n",
    "                b.plan(ot)\n",
    "               \n",
    "            a = b.area\n",
    "        except:\n",
    "            errors.append( (i, x, v_0, v_1, tf))\n",
    "            raise\n",
    "        \n",
    "        d = dict(i=i, x=x, t=self.t, v_0=b.v_0, v_1=b.v_1)\n",
    "        rows.append(d)\n",
    "        \n",
    "df = pd.DataFrame(rows)  \n",
    "print('# rows =', len(df), \"# errors = \", len(errors) )\n",
    "#df.qc.value_counts(normalize=True)"
   ]
  },
  {
   "cell_type": "code",
   "execution_count": null,
   "id": "94950318-d13b-45cc-8e1d-3011f6e058dc",
   "metadata": {},
   "outputs": [],
   "source": [
    "if errors:\n",
    "    (i, x, v_0, v_1, tf)  = errors[0]\n",
    "    print(i, x, v_0, v_1)\n",
    "    self = j.new_block(x, v_0, v_1).init()\n",
    "    t = self.t*tf\n",
    "    try:\n",
    "        self.plan(t)\n",
    "    except:\n",
    "        print(t, self.x, self.t, self.v_0, self.v_1, tf)\n",
    "        \n",
    "if errors:\n",
    "    (i,  (x, v_0, v_1), tf) = errors[0]\n",
    "    print(x, v_0, v_1, tf)\n",
    "    \n",
    "    #(x, v_0, v_1, tf) =  10,250,750,1.231111111111111\n",
    "\n",
    "\n",
    "    self = j.new_block(x, v_0, v_1).init()\n",
    "    t = self.t\n",
    "\n",
    "    self.plan(t * tf)\n",
    "    self.plan_ramp(t*tf)\n",
    "    \n",
    "           \n",
    "    self.plan(t * tf)\n",
    "    self.plan_ramp(t*tf)\n",
    "    \n",
    "    print(self)\n",
    "        "
   ]
  },
  {
   "cell_type": "code",
   "execution_count": 7,
   "id": "8718f6da-1daa-4932-8c04-ea127f2d47e2",
   "metadata": {},
   "outputs": [
    {
     "data": {
      "application/vnd.jupyter.widget-view+json": {
       "model_id": "7116fcd8ff8f453d90f19b1304d31239",
       "version_major": 2,
       "version_minor": 0
      },
      "text/plain": [
       "  0%|          | 0/1000 [00:00<?, ?it/s]"
      ]
     },
     "metadata": {},
     "output_type": "display_data"
    },
    {
     "data": {
      "text/html": [
       "\n",
       "    <table>\n",
       "    <tr><td>N Discont</td>  <td>0</td></tr>\n",
       "    <tr><td>Replans</td>    <td>[(2, 525), (4, 339), (6, 132), (8, 2), (1, 1)]</td></tr>\n",
       "    <tr><td>N Replans</td>  <td>142452</td></tr>\n",
       "    <tr><td>Errors</td>     <td>[]</td></tr>\n",
       "    <tr><td>Reductions</td> <td>[]</td></tr>\n",
       "    </table>"
      ],
      "text/plain": [
       "<IPython.core.display.HTML object>"
      ]
     },
     "metadata": {},
     "output_type": "display_data"
    },
    {
     "name": "stdout",
     "output_type": "stream",
     "text": [
      "CPU times: user 5.33 s, sys: 76.6 ms, total: 5.4 s\n",
      "Wall time: 5.38 s\n"
     ]
    }
   ],
   "source": [
    "%%time \n",
    "%reload_ext autoreload\n",
    "%autoreload 2\n",
    "%run startup.py\n",
    "\n",
    "from trajectory.planner import Joint, SegmentList\n",
    "from trajectory.plot import *\n",
    "from random import random, randint\n",
    "from tqdm.auto import tqdm\n",
    "\n",
    "j = Joint(20_000, 500_000)\n",
    "n = 6\n",
    "joints = [j]*n\n",
    "signs = [1]*n\n",
    "\n",
    "sl = SegmentList(joints)   \n",
    "\n",
    "\n",
    "def rand_move(axis):\n",
    "\n",
    "    z = int(random() < .9) # Make 10% of the moves zero    \n",
    "    signs[axis] = -signs[axis] if random() < .1 else signs[axis] # change direction 10% of the time\n",
    "\n",
    "    return z * signs[axis] * randint(0,10000)\n",
    " \n",
    "move_sets = [ [ rand_move(axis) for axis in range(len(joints))] for _ in range(1000) ]\n",
    "\n",
    "for move_n, moves in tqdm(list(enumerate(move_sets))):\n",
    "    try:\n",
    "        sl.move(moves)\n",
    "    except:\n",
    "        print(\"Move=\", move_n, move_sets[move_n])\n",
    "        raise\n",
    "\n",
    "def report_dis():\n",
    "    ds = list(sl.discontinuities())\n",
    "    if len(ds):\n",
    "        print(f\"Got {len(ds)} discontinuities\") \n",
    "        for a, b in sl.discontinuities():\n",
    "            be = sl.boundary_error(a.segment, b.segment)\n",
    "            print(a.id, 'diff=',abs(a.v_1-b.v_0), a.v_1,'!=',b.v_0, \"be=\", be )\n",
    "\n",
    "report_dis()\n",
    "            \n",
    "\n",
    "report(sl)"
   ]
  },
  {
   "cell_type": "code",
   "execution_count": null,
   "id": "0f811712-f1e2-48d0-ada6-e85c7596a940",
   "metadata": {},
   "outputs": [],
   "source": [
    "# Search for discontinuities\n",
    "from trajectory.planner import Joint, SegmentList\n",
    "from trajectory.plot import *\n",
    "from random import random, randint\n",
    "from tqdm.auto import tqdm\n",
    "\n",
    "j = Joint(5_000, 50_000)\n",
    "n = 4\n",
    "joints = [j]*n\n",
    "signs = [1]*n\n",
    "\n",
    "def f():\n",
    "    for i in tqdm(list(range(100))):\n",
    "        sl = SegmentList(joints)  \n",
    "        move_sets = [ [ rand_move(axis) for axis in range(len(joints))] for _ in range(5) ]\n",
    "\n",
    "\n",
    "        for move_n, moves in enumerate(move_sets):\n",
    "            try:\n",
    "                sl.move(moves)\n",
    "            except:\n",
    "                print(\"Move=\", move_n, move_sets[move_n])\n",
    "                return move_sets\n",
    "\n",
    "        if i > 5 and len(list(sl.discontinuities())):\n",
    "            ds = list(sl.discontinuities())\n",
    "            print(len(ds), move_sets)   \n",
    "            sl.plot()\n",
    "            return move_sets\n",
    "    else:\n",
    "        print(\"Got Nothing\")\n",
    "\n",
    "move_sets = f()\n",
    "print(move_sets)"
   ]
  },
  {
   "cell_type": "code",
   "execution_count": null,
   "id": "da5da084-47b2-408c-8d0d-5914d396002b",
   "metadata": {},
   "outputs": [],
   "source": []
  },
  {
   "cell_type": "code",
   "execution_count": 8,
   "id": "9fe675fe-b096-446b-b445-26b2e577b19a",
   "metadata": {},
   "outputs": [
    {
     "data": {
      "application/vnd.jupyter.widget-view+json": {
       "model_id": "174d782810644d56b03238c2c697a368",
       "version_major": 2,
       "version_minor": 0
      },
      "text/plain": [
       "  0%|          | 0/100000000 [00:00<?, ?it/s]"
      ]
     },
     "metadata": {},
     "output_type": "display_data"
    },
    {
     "ename": "KeyboardInterrupt",
     "evalue": "",
     "output_type": "error",
     "traceback": [
      "\u001b[0;31m---------------------------------------------------------------------------\u001b[0m",
      "\u001b[0;31mKeyboardInterrupt\u001b[0m                         Traceback (most recent call last)",
      "File \u001b[0;32m<timed exec>:21\u001b[0m, in \u001b[0;36m<module>\u001b[0;34m\u001b[0m\n",
      "File \u001b[0;32m<timed exec>:15\u001b[0m, in \u001b[0;36mrun_trial\u001b[0;34m()\u001b[0m\n",
      "File \u001b[0;32m~/opt/anaconda3/envs/robot/lib/python3.9/random.py:362\u001b[0m, in \u001b[0;36mRandom.shuffle\u001b[0;34m(self, x, random)\u001b[0m\n\u001b[1;32m    359\u001b[0m     \u001b[38;5;28;01mfor\u001b[39;00m i \u001b[38;5;129;01min\u001b[39;00m \u001b[38;5;28mreversed\u001b[39m(\u001b[38;5;28mrange\u001b[39m(\u001b[38;5;241m1\u001b[39m, \u001b[38;5;28mlen\u001b[39m(x))):\n\u001b[1;32m    360\u001b[0m         \u001b[38;5;66;03m# pick an element in x[:i+1] with which to exchange x[i]\u001b[39;00m\n\u001b[1;32m    361\u001b[0m         j \u001b[38;5;241m=\u001b[39m randbelow(i \u001b[38;5;241m+\u001b[39m \u001b[38;5;241m1\u001b[39m)\n\u001b[0;32m--> 362\u001b[0m         x[i], x[j] \u001b[38;5;241m=\u001b[39m x[j], x[i]\n\u001b[1;32m    363\u001b[0m \u001b[38;5;28;01melse\u001b[39;00m:\n\u001b[1;32m    364\u001b[0m     _warn(\u001b[38;5;124m'\u001b[39m\u001b[38;5;124mThe *random* parameter to shuffle() has been deprecated\u001b[39m\u001b[38;5;130;01m\\n\u001b[39;00m\u001b[38;5;124m'\u001b[39m\n\u001b[1;32m    365\u001b[0m           \u001b[38;5;124m'\u001b[39m\u001b[38;5;124msince Python 3.9 and will be removed in a subsequent \u001b[39m\u001b[38;5;124m'\u001b[39m\n\u001b[1;32m    366\u001b[0m           \u001b[38;5;124m'\u001b[39m\u001b[38;5;124mversion.\u001b[39m\u001b[38;5;124m'\u001b[39m,\n\u001b[1;32m    367\u001b[0m           \u001b[38;5;167;01mDeprecationWarning\u001b[39;00m, \u001b[38;5;241m2\u001b[39m)\n",
      "\u001b[0;31mKeyboardInterrupt\u001b[0m: "
     ]
    }
   ],
   "source": [
    "%%time \n",
    "from random import shuffle, choices\n",
    "from tqdm.auto import tqdm\n",
    "\n",
    "def find_number(l, pn):\n",
    "    nn = pn\n",
    "    for i in range(50):        \n",
    "        if l[nn] == pn:\n",
    "            return True\n",
    "        else:\n",
    "            nn = l[nn]\n",
    "    return False\n",
    "\n",
    "def run_trial():\n",
    "    l = list(range(100))\n",
    "    shuffle(l)\n",
    "    return all([find_number(l,pn) for pn in range(100)])\n",
    "\n",
    "N = 100_000_000\n",
    "trials = []\n",
    "for _ in tqdm(range(N)):\n",
    "    trials.append(run_trial())\n",
    "    \n",
    "sum(trials)/N"
   ]
  },
  {
   "cell_type": "code",
   "execution_count": null,
   "id": "52f4e5a9-aae2-4c28-88f5-e5d7d6206a87",
   "metadata": {},
   "outputs": [],
   "source": []
  }
 ],
 "metadata": {
  "kernelspec": {
   "display_name": "Python 3 (ipykernel)",
   "language": "python",
   "name": "python3"
  },
  "language_info": {
   "codemirror_mode": {
    "name": "ipython",
    "version": 3
   },
   "file_extension": ".py",
   "mimetype": "text/x-python",
   "name": "python",
   "nbconvert_exporter": "python",
   "pygments_lexer": "ipython3",
   "version": "3.9.12"
  }
 },
 "nbformat": 4,
 "nbformat_minor": 5
}
