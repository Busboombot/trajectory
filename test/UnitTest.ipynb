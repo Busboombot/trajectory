{
 "cells": [
  {
   "cell_type": "code",
   "execution_count": 1,
   "id": "7ea6ab5e-6785-419d-9641-d4e98a233aa8",
   "metadata": {},
   "outputs": [],
   "source": [
    "%reload_ext autoreload\n",
    "%autoreload 2\n",
    "%run startup.py\n",
    "from tqdm.auto import tqdm\n",
    "\n",
    "\n",
    "def grouper(n, iterable):\n",
    "    it = iter(iterable)\n",
    "    while True:\n",
    "        chunk = tuple(islice(it, n))\n",
    "        if not chunk:\n",
    "            return\n",
    "        yield chunk"
   ]
  },
  {
   "cell_type": "code",
   "execution_count": 2,
   "id": "3895a214-5e91-4a76-81b5-95005d7566f0",
   "metadata": {},
   "outputs": [
    {
     "data": {
      "application/vnd.jupyter.widget-view+json": {
       "model_id": "71ec67795a4d46bc9c468461afe8555f",
       "version_major": 2,
       "version_minor": 0
      },
      "text/plain": [
       "  0%|          | 0/13824 [00:00<?, ?it/s]"
      ]
     },
     "metadata": {},
     "output_type": "display_data"
    },
    {
     "data": {
      "text/html": [
       "<div>\n",
       "<style scoped>\n",
       "    .dataframe tbody tr th:only-of-type {\n",
       "        vertical-align: middle;\n",
       "    }\n",
       "\n",
       "    .dataframe tbody tr th {\n",
       "        vertical-align: top;\n",
       "    }\n",
       "\n",
       "    .dataframe thead th {\n",
       "        text-align: right;\n",
       "    }\n",
       "</style>\n",
       "<table border=\"1\" class=\"dataframe\">\n",
       "  <thead>\n",
       "    <tr style=\"text-align: right;\">\n",
       "      <th></th>\n",
       "      <th>x</th>\n",
       "      <th>t</th>\n",
       "    </tr>\n",
       "  </thead>\n",
       "  <tbody>\n",
       "    <tr>\n",
       "      <th>count</th>\n",
       "      <td>1.382400e+04</td>\n",
       "      <td>1.382400e+04</td>\n",
       "    </tr>\n",
       "    <tr>\n",
       "      <th>mean</th>\n",
       "      <td>-4.584248e-16</td>\n",
       "      <td>-5.398423e-19</td>\n",
       "    </tr>\n",
       "    <tr>\n",
       "      <th>std</th>\n",
       "      <td>1.117347e-14</td>\n",
       "      <td>6.388327e-18</td>\n",
       "    </tr>\n",
       "    <tr>\n",
       "      <th>min</th>\n",
       "      <td>-5.684342e-14</td>\n",
       "      <td>-2.775558e-17</td>\n",
       "    </tr>\n",
       "    <tr>\n",
       "      <th>25%</th>\n",
       "      <td>0.000000e+00</td>\n",
       "      <td>0.000000e+00</td>\n",
       "    </tr>\n",
       "    <tr>\n",
       "      <th>50%</th>\n",
       "      <td>0.000000e+00</td>\n",
       "      <td>0.000000e+00</td>\n",
       "    </tr>\n",
       "    <tr>\n",
       "      <th>75%</th>\n",
       "      <td>0.000000e+00</td>\n",
       "      <td>0.000000e+00</td>\n",
       "    </tr>\n",
       "    <tr>\n",
       "      <th>max</th>\n",
       "      <td>1.136868e-13</td>\n",
       "      <td>2.775558e-17</td>\n",
       "    </tr>\n",
       "  </tbody>\n",
       "</table>\n",
       "</div>"
      ],
      "text/plain": [
       "                  x             t\n",
       "count  1.382400e+04  1.382400e+04\n",
       "mean  -4.584248e-16 -5.398423e-19\n",
       "std    1.117347e-14  6.388327e-18\n",
       "min   -5.684342e-14 -2.775558e-17\n",
       "25%    0.000000e+00  0.000000e+00\n",
       "50%    0.000000e+00  0.000000e+00\n",
       "75%    0.000000e+00  0.000000e+00\n",
       "max    1.136868e-13  2.775558e-17"
      ]
     },
     "execution_count": 2,
     "metadata": {},
     "output_type": "execute_result"
    }
   ],
   "source": [
    "# Check differences between two was of calculating values. \n",
    "from trajectory.gsolver import accel_acd, accel_xt\n",
    "\n",
    "rows = []\n",
    "for v_0, v_c, v_1 in tqdm(list(product(velocities,velocities, velocities))):\n",
    "    x_ad, t_ad = accel_acd(v_0, v_c, v_1, a_max)\n",
    "    \n",
    "    x_a, t_a = accel_xt(v_0, v_c, a_max)\n",
    "    x_d, t_d = accel_xt(v_c, v_1, a_max)\n",
    "    \n",
    "    rows.append( dict(x = x_ad - (x_a+x_d), t = t_ad -(t_a+t_d) ))\n",
    "    \n",
    "df = pd.DataFrame(rows)\n",
    "                \n",
    "df.describe()\n",
    "    "
   ]
  },
  {
   "cell_type": "code",
   "execution_count": 3,
   "id": "05603e66-446b-43a4-aeed-dbf2901f24a0",
   "metadata": {},
   "outputs": [],
   "source": [
    "# Test that values get passed through the Block sontructors. \n",
    "from trajectory.planner import  Joint\n",
    "\n",
    "j = Joint(5_000, 50_000)\n",
    "self = j.new_block(100,123,456)\n",
    "\n",
    "assert self.x == 100, self.x\n",
    "assert self.v_0 == 123\n",
    "assert self.joint.v_max == 5_000\n",
    "\n",
    "self = j.new_block(100,123,456)\n",
    "\n",
    "assert self.x == 100\n",
    "assert self.v_0 == 123\n",
    "assert self.joint.v_max == 5_000\n"
   ]
  },
  {
   "cell_type": "code",
   "execution_count": 4,
   "id": "24901f47-174a-4731-9ced-20ca54d3a603",
   "metadata": {},
   "outputs": [
    {
     "data": {
      "application/vnd.jupyter.widget-view+json": {
       "model_id": "a5ddfb22a7a04739995b5fa16c94103a",
       "version_major": 2,
       "version_minor": 0
      },
      "text/plain": [
       "  0%|          | 0/11520 [00:00<?, ?it/s]"
      ]
     },
     "metadata": {},
     "output_type": "display_data"
    },
    {
     "name": "stdout",
     "output_type": "stream",
     "text": [
      "# rows = 115200\n"
     ]
    }
   ],
   "source": [
    "%reload_ext autoreload\n",
    "%autoreload 2\n",
    "%run startup.py\n",
    "\n",
    "from trajectory.planner import Joint, SegmentList\n",
    "\n",
    "# Basic init and plan testing\n",
    "#  - Initial planning\n",
    "#  - Multiple updates to new time. \n",
    "\n",
    "j = Joint(5_000, 50_000)\n",
    "\n",
    "n = 0\n",
    "errors = []\n",
    "rows = []\n",
    "for i, (x, v_0, v_1) in tqdm(limits()): #choices(limits(),k=2_000):\n",
    "\n",
    "    for _ in range(10):\n",
    "        tf = random()*3+1.01 # Time factor, multiply with block time\n",
    "        try:\n",
    "            b = j.new_block(x, v_0, v_1).init()\n",
    "            assert abs(b.area-b.x) < 1, (b, i)\n",
    "            t = b.t*tf\n",
    "            b.plan(t)\n",
    "            assert abs(b.area - b.x)<3, (b.area, b, i, b.flag)\n",
    "            if b.t != t:\n",
    "                ot = b.t\n",
    "                b.plan(ot)\n",
    "                #assert round(self.t, 6) == round(ot, 6), (self.t, t)\n",
    "                \n",
    "            a = b.area\n",
    "        except:\n",
    "            errors.append( (i, tf, b))\n",
    "            raise\n",
    "        d = dict(i=i, x=x, t=self.t, v_0=b.v_0, v_1=b.v_1, v_c=b.v_c, a=a)\n",
    "        rows.append(d)\n",
    "        \n",
    "df = pd.DataFrame(rows)  \n",
    "print('# rows =', len(df))"
   ]
  },
  {
   "cell_type": "code",
   "execution_count": null,
   "id": "63b3f8b1-f284-456a-844f-92d3fe55ff11",
   "metadata": {},
   "outputs": [],
   "source": []
  },
  {
   "cell_type": "code",
   "execution_count": 5,
   "id": "41aa77f9-746c-4549-8f31-b3761e762955",
   "metadata": {},
   "outputs": [
    {
     "data": {
      "application/vnd.jupyter.widget-view+json": {
       "model_id": "83abcb10c8b04b978936f122ee047a16",
       "version_major": 2,
       "version_minor": 0
      },
      "text/plain": [
       "  0%|          | 0/2000 [00:00<?, ?it/s]"
      ]
     },
     "metadata": {},
     "output_type": "display_data"
    },
    {
     "name": "stdout",
     "output_type": "stream",
     "text": [
      "# rows = 20000 # errors =  0\n"
     ]
    }
   ],
   "source": [
    "%reload_ext autoreload\n",
    "%autoreload 2\n",
    "%run startup.py\n",
    "\n",
    "from trajectory.planner import Joint, SegmentList\n",
    "\n",
    "\n",
    "# Basic init and plan testing\n",
    "#  - Initial planning\n",
    "#  - Multiple updates to new time. \n",
    "\n",
    "j = Joint(5_000, 50_000)\n",
    "\n",
    "n = 0\n",
    "errors = []\n",
    "rows = []\n",
    "for i in tqdm(list(range(2_000))):\n",
    "\n",
    "  \n",
    "    x =   int(random() < .90)*randint(-10000,10000)\n",
    "    v_0 = int(random() < .90)*randint(0, j.v_max)\n",
    "    v_1 = int(random() < .90)*randint(0,j.v_max)\n",
    "                \n",
    "    for _ in range(10):\n",
    "        tf = random()*3+1.01 # Time factor, multiply with block time\n",
    "        a = x_e = None\n",
    "        try:\n",
    "            b = j.new_block(x, v_0, v_1).init()\n",
    "            assert abs(b.area-b.x) < 1, (b, i)\n",
    "            t = b.t*tf\n",
    "            b.plan(t)\n",
    "            assert abs(b.area - b.x)<3, (b.area, self, i)\n",
    "            if b.t != t:\n",
    "                ot = b.t\n",
    "                b.plan(ot)\n",
    "               \n",
    "            a = b.area\n",
    "        except:\n",
    "            errors.append( (i, x, v_0, v_1, tf))\n",
    "            raise\n",
    "        \n",
    "        d = dict(i=i, x=x, t=self.t, v_0=b.v_0, v_1=b.v_1)\n",
    "        rows.append(d)\n",
    "        \n",
    "df = pd.DataFrame(rows)  \n",
    "print('# rows =', len(df), \"# errors = \", len(errors) )\n",
    "#df.qc.value_counts(normalize=True)"
   ]
  },
  {
   "cell_type": "code",
   "execution_count": 6,
   "id": "94950318-d13b-45cc-8e1d-3011f6e058dc",
   "metadata": {},
   "outputs": [],
   "source": [
    "if errors:\n",
    "    (i, x, v_0, v_1, tf)  = errors[0]\n",
    "    print(i, x, v_0, v_1)\n",
    "    self = j.new_block(x, v_0, v_1).init()\n",
    "    t = self.t*tf\n",
    "    try:\n",
    "        self.plan(t)\n",
    "    except:\n",
    "        print(t, self.x, self.t, self.v_0, self.v_1, tf)"
   ]
  },
  {
   "cell_type": "code",
   "execution_count": 7,
   "id": "9755bbf8-ba3e-4b02-85b3-71b7ad8296f4",
   "metadata": {},
   "outputs": [],
   "source": [
    "if errors:\n",
    "    (i,  (x, v_0, v_1), tf) = errors[0]\n",
    "    print(x, v_0, v_1, tf)\n",
    "    \n",
    "    #(x, v_0, v_1, tf) =  10,250,750,1.231111111111111\n",
    "\n",
    "\n",
    "    self = j.new_block(x, v_0, v_1).init()\n",
    "    t = self.t\n",
    "\n",
    "    self.plan(t * tf)\n",
    "    self.plan_ramp(t*tf)\n",
    "    \n",
    "           \n",
    "    self.plan(t * tf)\n",
    "    self.plan_ramp(t*tf)\n",
    "    \n",
    "    print(self)"
   ]
  },
  {
   "cell_type": "code",
   "execution_count": 8,
   "id": "8718f6da-1daa-4932-8c04-ea127f2d47e2",
   "metadata": {},
   "outputs": [
    {
     "data": {
      "application/vnd.jupyter.widget-view+json": {
       "model_id": "2dfdb69de5654b8aa7c5a1256f6de6a0",
       "version_major": 2,
       "version_minor": 0
      },
      "text/plain": [
       "  0%|          | 0/1000 [00:00<?, ?it/s]"
      ]
     },
     "metadata": {},
     "output_type": "display_data"
    },
    {
     "name": "stdout",
     "output_type": "stream",
     "text": [
      "CPU times: user 4.54 s, sys: 72.4 ms, total: 4.61 s\n",
      "Wall time: 4.59 s\n"
     ]
    },
    {
     "data": {
      "text/plain": [
       "[(3, 889),\n",
       " (0, 599),\n",
       " (2, 267),\n",
       " (4, 107),\n",
       " (5, 46),\n",
       " (1, 38),\n",
       " (6, 27),\n",
       " (7, 14),\n",
       " (8, 4),\n",
       " (9, 2),\n",
       " (10, 2),\n",
       " (11, 2),\n",
       " (12, 1)]"
      ]
     },
     "execution_count": 8,
     "metadata": {},
     "output_type": "execute_result"
    }
   ],
   "source": [
    "%%time \n",
    "%reload_ext autoreload\n",
    "%autoreload 2\n",
    "%run startup.py\n",
    "\n",
    "from trajectory.planner import Joint, SegmentList\n",
    "from trajectory.plot import *\n",
    "from random import random, randint\n",
    "from tqdm.auto import tqdm\n",
    "\n",
    "j = Joint(20_000, 500_000)\n",
    "n = 6\n",
    "joints = [j]*n\n",
    "signs = [1]*n\n",
    "\n",
    "sl = SegmentList(joints)   \n",
    "\n",
    "\n",
    "def rand_move(axis):\n",
    "\n",
    "    z = int(random() < .9) # Make 10% of the moves zero    \n",
    "    signs[axis] = -signs[axis] if random() < .1 else signs[axis] # change direction 10% of the time\n",
    "\n",
    "    return z * signs[axis] * randint(0,5000)\n",
    " \n",
    "move_sets = [ [ rand_move(axis) for axis in range(len(joints))] for _ in range(1000) ]\n",
    "\n",
    "for move_n, moves in tqdm(list(enumerate(move_sets))):\n",
    "    try:\n",
    "        sl.move(moves)\n",
    "    except:\n",
    "        print(\"Move=\", move_n, move_sets[move_n])\n",
    "        raise\n",
    " \n",
    "\n",
    "\n",
    "def report_dis():\n",
    "    ds = list(sl.discontinuities())\n",
    "    if len(ds):\n",
    "        print(f\"Got {len(ds)} discontinuities\") \n",
    "        for a, b in sl.discontinuities():\n",
    "            be = sl.boundary_error(a.segment, b.segment)\n",
    "            print(a.id, 'diff=',abs(a.v_1-b.v_0), a.v_1,'!=',b.v_0, \"be=\", be )\n",
    "\n",
    "report_dis()\n",
    "            \n",
    "#df = sl.dataframe\n",
    "#df = df[df.axis==0]\n",
    "#sl.plot()\n",
    "from collections import Counter\n",
    "Counter(sl.replans).most_common(20)"
   ]
  },
  {
   "cell_type": "code",
   "execution_count": 9,
   "id": "a666c8e6-26b6-47a7-b505-a1777fd14da7",
   "metadata": {},
   "outputs": [
    {
     "name": "stdout",
     "output_type": "stream",
     "text": [
      "    t_a   t_d\n",
      "0  0.04  0.04\n"
     ]
    },
    {
     "data": {
      "text/html": [
       "<div>\n",
       "<style scoped>\n",
       "    .dataframe tbody tr th:only-of-type {\n",
       "        vertical-align: middle;\n",
       "    }\n",
       "\n",
       "    .dataframe tbody tr th {\n",
       "        vertical-align: top;\n",
       "    }\n",
       "\n",
       "    .dataframe thead th {\n",
       "        text-align: right;\n",
       "    }\n",
       "</style>\n",
       "<table border=\"1\" class=\"dataframe\">\n",
       "  <thead>\n",
       "    <tr style=\"text-align: right;\">\n",
       "      <th></th>\n",
       "      <th>t_a</th>\n",
       "      <th>t_d</th>\n",
       "    </tr>\n",
       "  </thead>\n",
       "  <tbody>\n",
       "    <tr>\n",
       "      <th>count</th>\n",
       "      <td>1000.000000</td>\n",
       "      <td>1000.000000</td>\n",
       "    </tr>\n",
       "    <tr>\n",
       "      <th>mean</th>\n",
       "      <td>0.036039</td>\n",
       "      <td>0.036778</td>\n",
       "    </tr>\n",
       "    <tr>\n",
       "      <th>std</th>\n",
       "      <td>0.006404</td>\n",
       "      <td>0.005903</td>\n",
       "    </tr>\n",
       "    <tr>\n",
       "      <th>min</th>\n",
       "      <td>0.011918</td>\n",
       "      <td>0.011918</td>\n",
       "    </tr>\n",
       "    <tr>\n",
       "      <th>25%</th>\n",
       "      <td>0.032635</td>\n",
       "      <td>0.034945</td>\n",
       "    </tr>\n",
       "    <tr>\n",
       "      <th>50%</th>\n",
       "      <td>0.040000</td>\n",
       "      <td>0.040000</td>\n",
       "    </tr>\n",
       "    <tr>\n",
       "      <th>75%</th>\n",
       "      <td>0.040000</td>\n",
       "      <td>0.040000</td>\n",
       "    </tr>\n",
       "    <tr>\n",
       "      <th>max</th>\n",
       "      <td>0.043861</td>\n",
       "      <td>0.044268</td>\n",
       "    </tr>\n",
       "  </tbody>\n",
       "</table>\n",
       "</div>"
      ],
      "text/plain": [
       "               t_a          t_d\n",
       "count  1000.000000  1000.000000\n",
       "mean      0.036039     0.036778\n",
       "std       0.006404     0.005903\n",
       "min       0.011918     0.011918\n",
       "25%       0.032635     0.034945\n",
       "50%       0.040000     0.040000\n",
       "75%       0.040000     0.040000\n",
       "max       0.043861     0.044268"
      ]
     },
     "execution_count": 9,
     "metadata": {},
     "output_type": "execute_result"
    }
   ],
   "source": [
    "def align(s):\n",
    "    \n",
    "    t_a_m = t_d_m = 0\n",
    "    \n",
    "    for b in s.blocks:\n",
    "        s.init()\n",
    "        t_a_m = max(t_a_m, b.t_a)\n",
    "        t_d_m = max(t_a_m, b.t_d)\n",
    "        \n",
    "    return t_a_m, t_d_m\n",
    "    \n",
    "t = pd.DataFrame( [align(s) for s in sl.segments], columns = ['t_a','t_d'])\n",
    "print(t.mode())\n",
    "t.describe()\n"
   ]
  },
  {
   "cell_type": "code",
   "execution_count": 10,
   "id": "5f96bdbb-50eb-4090-ad52-34e9ccf37c36",
   "metadata": {},
   "outputs": [
    {
     "data": {
      "text/plain": [
       "'D'"
      ]
     },
     "execution_count": 10,
     "metadata": {},
     "output_type": "execute_result"
    }
   ],
   "source": [
    "a=list('ABCD')\n",
    "i = len(a)-1\n",
    "a[i]"
   ]
  },
  {
   "cell_type": "code",
   "execution_count": 11,
   "id": "0f811712-f1e2-48d0-ada6-e85c7596a940",
   "metadata": {},
   "outputs": [
    {
     "data": {
      "application/vnd.jupyter.widget-view+json": {
       "model_id": "c705efb9f46a4dfe871a29a152b05fd6",
       "version_major": 2,
       "version_minor": 0
      },
      "text/plain": [
       "  0%|          | 0/100 [00:00<?, ?it/s]"
      ]
     },
     "metadata": {},
     "output_type": "display_data"
    },
    {
     "name": "stdout",
     "output_type": "stream",
     "text": [
      "Got Nothing\n",
      "None\n"
     ]
    }
   ],
   "source": [
    "# Search for discontinuities\n",
    "from trajectory.planner import Joint, SegmentList\n",
    "from trajectory.plot import *\n",
    "from random import random, randint\n",
    "from tqdm.auto import tqdm\n",
    "\n",
    "j = Joint(5_000, 50_000)\n",
    "n = 4\n",
    "joints = [j]*n\n",
    "signs = [1]*n\n",
    "\n",
    "def f():\n",
    "    for i in tqdm(list(range(100))):\n",
    "        sl = SegmentList(joints)  \n",
    "        move_sets = [ [ rand_move(axis) for axis in range(len(joints))] for _ in range(5) ]\n",
    "\n",
    "\n",
    "        for move_n, moves in enumerate(move_sets):\n",
    "            try:\n",
    "                sl.move(moves)\n",
    "            except:\n",
    "                print(\"Move=\", move_n, move_sets[move_n])\n",
    "                return move_sets\n",
    "\n",
    "        if i > 5 and len(list(sl.discontinuities())):\n",
    "            ds = list(sl.discontinuities())\n",
    "            print(len(ds), move_sets)   \n",
    "            sl.plot()\n",
    "            return move_sets\n",
    "    else:\n",
    "        print(\"Got Nothing\")\n",
    "\n",
    "move_sets = f()\n",
    "print(move_sets)"
   ]
  },
  {
   "cell_type": "code",
   "execution_count": null,
   "id": "da5da084-47b2-408c-8d0d-5914d396002b",
   "metadata": {},
   "outputs": [],
   "source": []
  },
  {
   "cell_type": "code",
   "execution_count": null,
   "id": "9fe675fe-b096-446b-b445-26b2e577b19a",
   "metadata": {},
   "outputs": [],
   "source": []
  }
 ],
 "metadata": {
  "kernelspec": {
   "display_name": "Python 3 (ipykernel)",
   "language": "python",
   "name": "python3"
  },
  "language_info": {
   "codemirror_mode": {
    "name": "ipython",
    "version": 3
   },
   "file_extension": ".py",
   "mimetype": "text/x-python",
   "name": "python",
   "nbconvert_exporter": "python",
   "pygments_lexer": "ipython3",
   "version": "3.9.12"
  }
 },
 "nbformat": 4,
 "nbformat_minor": 5
}
