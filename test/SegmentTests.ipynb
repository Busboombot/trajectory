{
 "cells": [
  {
   "cell_type": "code",
   "execution_count": 1,
   "id": "64dcb802-ae5e-4985-ba05-ca6a9b4c21a1",
   "metadata": {},
   "outputs": [],
   "source": [
    "%load_ext autoreload\n",
    "%autoreload 2\n",
    "%matplotlib inline\n",
    "from trajectory.segments import * \n",
    "from trajectory.planner import * \n",
    "from trajectory.plot import * \n",
    "from trajectory.trapmath import * \n",
    "import matplotlib.pyplot as plt\n",
    "from IPython.display import display\n",
    "import trajectory as tj\n",
    "import pandas as pd\n",
    "import numpy as np\n",
    "from math import sqrt\n",
    "from random import randint, random\n",
    "from operator import attrgetter\n",
    "from itertools import chain\n",
    "pd.set_option('display.max_columns', None)\n",
    "\n",
    "from copy import deepcopy\n",
    "\n",
    "ag_ha = attrgetter(*'t v_0 v_c v_1 a_max'.split())\n",
    "ag = attrgetter(*'x t v_0 v_c v_1 v_0_max v_1_max'.split())\n",
    "\n",
    "def ch(v):\n",
    "    for e in chain(*v):\n",
    "        if e is not None:\n",
    "            yield e\n",
    "            \n"
   ]
  },
  {
   "cell_type": "code",
   "execution_count": 2,
   "id": "47d4e32a-be27-493d-bd3f-c30d7acb1e0e",
   "metadata": {},
   "outputs": [
    {
     "ename": "NameError",
     "evalue": "name 'min_time_parameters' is not defined",
     "output_type": "error",
     "traceback": [
      "\u001b[0;31m---------------------------------------------------------------------------\u001b[0m",
      "\u001b[0;31mNameError\u001b[0m                                 Traceback (most recent call last)",
      "Input \u001b[0;32mIn [2]\u001b[0m, in \u001b[0;36m<cell line: 8>\u001b[0;34m()\u001b[0m\n\u001b[1;32m      3\u001b[0m x \u001b[38;5;241m=\u001b[39m \u001b[38;5;241m1000\u001b[39m\n\u001b[1;32m      5\u001b[0m sl \u001b[38;5;241m=\u001b[39m SegmentList(joints)   \n\u001b[0;32m----> 8\u001b[0m s \u001b[38;5;241m=\u001b[39m \u001b[43msl\u001b[49m\u001b[38;5;241;43m.\u001b[39;49m\u001b[43mrmove\u001b[49m\u001b[43m(\u001b[49m\u001b[43m[\u001b[49m\u001b[38;5;241;43m0\u001b[39;49m\u001b[43m,\u001b[49m\u001b[43mx\u001b[49m\u001b[43m,\u001b[49m\u001b[43mx\u001b[49m\u001b[43m]\u001b[49m\u001b[43m)\u001b[49m\n\u001b[1;32m      9\u001b[0m s \u001b[38;5;241m=\u001b[39m sl\u001b[38;5;241m.\u001b[39mrmove([\u001b[38;5;241m0\u001b[39m,x\u001b[38;5;241m/\u001b[39m\u001b[38;5;241m2\u001b[39m,x])\n\u001b[1;32m     10\u001b[0m s \u001b[38;5;241m=\u001b[39m sl\u001b[38;5;241m.\u001b[39mrmove([\u001b[38;5;241m0\u001b[39m,x\u001b[38;5;241m/\u001b[39m\u001b[38;5;241m2\u001b[39m,\u001b[38;5;241m0\u001b[39m])\n",
      "File \u001b[0;32m~/Documents/proj/trajectory/trajectory/planner.py:361\u001b[0m, in \u001b[0;36mSegmentList.rmove\u001b[0;34m(self, joint_distances, update)\u001b[0m\n\u001b[1;32m    358\u001b[0m \u001b[38;5;28;01melse\u001b[39;00m:\n\u001b[1;32m    359\u001b[0m     prior_velocities \u001b[38;5;241m=\u001b[39m [\u001b[38;5;241m0\u001b[39m] \u001b[38;5;241m*\u001b[39m \u001b[38;5;28mlen\u001b[39m(joint_distances)\n\u001b[0;32m--> 361\u001b[0m s \u001b[38;5;241m=\u001b[39m \u001b[38;5;28;43mself\u001b[39;49m\u001b[38;5;241;43m.\u001b[39;49m\u001b[43mnew_segment\u001b[49m\u001b[43m(\u001b[49m\u001b[43mjoint_distances\u001b[49m\u001b[43m,\u001b[49m\u001b[43m \u001b[49m\u001b[43mprior_velocities\u001b[49m\u001b[43m)\u001b[49m\n\u001b[1;32m    363\u001b[0m \u001b[38;5;28;01mif\u001b[39;00m \u001b[38;5;28mlen\u001b[39m(\u001b[38;5;28mself\u001b[39m\u001b[38;5;241m.\u001b[39msegments) \u001b[38;5;241m>\u001b[39m \u001b[38;5;241m0\u001b[39m:\n\u001b[1;32m    364\u001b[0m     Segment\u001b[38;5;241m.\u001b[39mlink(\u001b[38;5;28mself\u001b[39m\u001b[38;5;241m.\u001b[39msegments[\u001b[38;5;241m-\u001b[39m\u001b[38;5;241m1\u001b[39m], s)\n",
      "File \u001b[0;32m~/Documents/proj/trajectory/trajectory/planner.py:338\u001b[0m, in \u001b[0;36mSegmentList.new_segment\u001b[0;34m(self, joint_distances, prior_velocities)\u001b[0m\n\u001b[1;32m    336\u001b[0m \u001b[38;5;28;01mdef\u001b[39;00m \u001b[38;5;21mnew_segment\u001b[39m(\u001b[38;5;28mself\u001b[39m, joint_distances, prior_velocities):\n\u001b[0;32m--> 338\u001b[0m     js \u001b[38;5;241m=\u001b[39m [JointSegment(j, x\u001b[38;5;241m=\u001b[39mx, v_0\u001b[38;5;241m=\u001b[39mv_0) \u001b[38;5;28;01mfor\u001b[39;00m j, x, v_0\n\u001b[1;32m    339\u001b[0m           \u001b[38;5;129;01min\u001b[39;00m \u001b[38;5;28mzip\u001b[39m(\u001b[38;5;28mself\u001b[39m\u001b[38;5;241m.\u001b[39mjoints, joint_distances, prior_velocities)]\n\u001b[1;32m    341\u001b[0m     prior \u001b[38;5;241m=\u001b[39m \u001b[38;5;28mself\u001b[39m\u001b[38;5;241m.\u001b[39msegments[\u001b[38;5;241m-\u001b[39m\u001b[38;5;241m1\u001b[39m] \u001b[38;5;28;01mif\u001b[39;00m \u001b[38;5;28mlen\u001b[39m(\u001b[38;5;28mself\u001b[39m\u001b[38;5;241m.\u001b[39msegments) \u001b[38;5;241m>\u001b[39m \u001b[38;5;241m0\u001b[39m \u001b[38;5;28;01melse\u001b[39;00m \u001b[38;5;28;01mNone\u001b[39;00m\n\u001b[1;32m    343\u001b[0m     s \u001b[38;5;241m=\u001b[39m Segment(\u001b[38;5;28mlen\u001b[39m(\u001b[38;5;28mself\u001b[39m\u001b[38;5;241m.\u001b[39msegments), js, prior)\n",
      "File \u001b[0;32m~/Documents/proj/trajectory/trajectory/planner.py:338\u001b[0m, in \u001b[0;36m<listcomp>\u001b[0;34m(.0)\u001b[0m\n\u001b[1;32m    336\u001b[0m \u001b[38;5;28;01mdef\u001b[39;00m \u001b[38;5;21mnew_segment\u001b[39m(\u001b[38;5;28mself\u001b[39m, joint_distances, prior_velocities):\n\u001b[0;32m--> 338\u001b[0m     js \u001b[38;5;241m=\u001b[39m [\u001b[43mJointSegment\u001b[49m\u001b[43m(\u001b[49m\u001b[43mj\u001b[49m\u001b[43m,\u001b[49m\u001b[43m \u001b[49m\u001b[43mx\u001b[49m\u001b[38;5;241;43m=\u001b[39;49m\u001b[43mx\u001b[49m\u001b[43m,\u001b[49m\u001b[43m \u001b[49m\u001b[43mv_0\u001b[49m\u001b[38;5;241;43m=\u001b[39;49m\u001b[43mv_0\u001b[49m\u001b[43m)\u001b[49m \u001b[38;5;28;01mfor\u001b[39;00m j, x, v_0\n\u001b[1;32m    339\u001b[0m           \u001b[38;5;129;01min\u001b[39;00m \u001b[38;5;28mzip\u001b[39m(\u001b[38;5;28mself\u001b[39m\u001b[38;5;241m.\u001b[39mjoints, joint_distances, prior_velocities)]\n\u001b[1;32m    341\u001b[0m     prior \u001b[38;5;241m=\u001b[39m \u001b[38;5;28mself\u001b[39m\u001b[38;5;241m.\u001b[39msegments[\u001b[38;5;241m-\u001b[39m\u001b[38;5;241m1\u001b[39m] \u001b[38;5;28;01mif\u001b[39;00m \u001b[38;5;28mlen\u001b[39m(\u001b[38;5;28mself\u001b[39m\u001b[38;5;241m.\u001b[39msegments) \u001b[38;5;241m>\u001b[39m \u001b[38;5;241m0\u001b[39m \u001b[38;5;28;01melse\u001b[39;00m \u001b[38;5;28;01mNone\u001b[39;00m\n\u001b[1;32m    343\u001b[0m     s \u001b[38;5;241m=\u001b[39m Segment(\u001b[38;5;28mlen\u001b[39m(\u001b[38;5;28mself\u001b[39m\u001b[38;5;241m.\u001b[39msegments), js, prior)\n",
      "File \u001b[0;32m~/Documents/proj/trajectory/trajectory/planner.py:133\u001b[0m, in \u001b[0;36mJointSegment.__init__\u001b[0;34m(self, joint, x, v_0, v_1)\u001b[0m\n\u001b[1;32m    130\u001b[0m \u001b[38;5;28mself\u001b[39m\u001b[38;5;241m.\u001b[39mnext_js \u001b[38;5;241m=\u001b[39m \u001b[38;5;28;01mNone\u001b[39;00m\n\u001b[1;32m    131\u001b[0m \u001b[38;5;28mself\u001b[39m\u001b[38;5;241m.\u001b[39mprior_js \u001b[38;5;241m=\u001b[39m \u001b[38;5;28;01mNone\u001b[39;00m\n\u001b[0;32m--> 133\u001b[0m \u001b[38;5;28mself\u001b[39m\u001b[38;5;241m.\u001b[39mp \u001b[38;5;241m=\u001b[39m \u001b[43mmin_time_parameters\u001b[49m(x, v_0, v_1, \u001b[38;5;28mself\u001b[39m\u001b[38;5;241m.\u001b[39mjoint\u001b[38;5;241m.\u001b[39mv_max, \u001b[38;5;28mself\u001b[39m\u001b[38;5;241m.\u001b[39mjoint\u001b[38;5;241m.\u001b[39ma_max)\n",
      "\u001b[0;31mNameError\u001b[0m: name 'min_time_parameters' is not defined"
     ]
    }
   ],
   "source": [
    "j = Joint(5_000, 50_000)\n",
    "joints = [j]*3\n",
    "x = 1000\n",
    "\n",
    "sl = SegmentList(joints)   \n",
    "\n",
    "\n",
    "s = sl.rmove([0,x,x])\n",
    "s = sl.rmove([0,x/2,x])\n",
    "s = sl.rmove([0,x/2,0])\n",
    "s = sl.rmove([x,x,x])\n",
    "\n",
    "print(sl)\n",
    "sl.plot(); plt.show()\n",
    "sl.dataframe"
   ]
  },
  {
   "cell_type": "code",
   "execution_count": null,
   "id": "6b452164-ee54-4eb7-ae58-57083b19b887",
   "metadata": {},
   "outputs": [],
   "source": [
    "pd.Series( index=['t', 'seg', 'axis', 'x', 'v_i', 'v_f', 'ss', 'del_t', 'v0m', 'v1m', 'calc_x', 'err'], dtype=np.float64)"
   ]
  },
  {
   "cell_type": "code",
   "execution_count": null,
   "id": "5c755942-0905-41c6-a64e-c687b69dab1b",
   "metadata": {},
   "outputs": [],
   "source": [
    "j = Joint(5_000, 50_000)\n",
    "joints = [j]*3\n",
    "x = 1000\n",
    "\n",
    "sl = SegmentList(joints)   \n",
    "\n",
    "\n",
    "moves = []\n",
    "for i in range(40):\n",
    "    move = [max(randint(-1000,2_000), 0) for _ in joints]\n",
    "    moves.append(move)\n",
    "    s = sl.rmove(move)\n",
    "    \n",
    "print(sl)\n",
    "sl.plot(); plt.show()\n",
    "sl.dataframe"
   ]
  },
  {
   "cell_type": "code",
   "execution_count": null,
   "id": "94b6c96f-e2f3-424d-a525-79714768896b",
   "metadata": {},
   "outputs": [],
   "source": [
    "moves"
   ]
  },
  {
   "cell_type": "code",
   "execution_count": null,
   "id": "3c90b900-f077-407f-b4be-8799f7d9c19c",
   "metadata": {},
   "outputs": [],
   "source": []
  }
 ],
 "metadata": {
  "kernelspec": {
   "display_name": "Python 3 (ipykernel)",
   "language": "python",
   "name": "python3"
  },
  "language_info": {
   "codemirror_mode": {
    "name": "ipython",
    "version": 3
   },
   "file_extension": ".py",
   "mimetype": "text/x-python",
   "name": "python",
   "nbconvert_exporter": "python",
   "pygments_lexer": "ipython3",
   "version": "3.9.12"
  }
 },
 "nbformat": 4,
 "nbformat_minor": 5
}
