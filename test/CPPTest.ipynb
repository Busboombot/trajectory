{
 "cells": [
  {
   "cell_type": "code",
   "execution_count": 1,
   "id": "7b110f93-5ec3-45fd-91b7-5388920ae50c",
   "metadata": {},
   "outputs": [
    {
     "name": "stdout",
     "output_type": "stream",
     "text": [
      "[ 77%] Built target planner\n",
      "[100%] Built target trj_planner\n"
     ]
    }
   ],
   "source": [
    "from trajectory import Joint\n",
    "from trajectory.test.cpptest import CPPPlanner\n",
    "\n",
    "cp = CPPPlanner('/Users/eric/Documents/proj/trajectory/src/cmake-cli-test/cli')\n",
    "\n",
    "cp.make()"
   ]
  },
  {
   "cell_type": "code",
   "execution_count": 3,
   "id": "1f4505a9-6ff4-424d-93db-a7aab359d606",
   "metadata": {},
   "outputs": [
    {
     "name": "stdout",
     "output_type": "stream",
     "text": [
      "[ 77%] Built target planner\n",
      "[100%] Built target trj_planner\n"
     ]
    },
    {
     "data": {
      "text/plain": [
       "  0 0.0000 0.3000|[\u001b[34m0    \u001b[0m \u001b[32m\u001b[1m   250\u001b[0m\u001b[0m↗\u001b[32m\u001b[1m   500\u001b[0m\u001b[0m@\u001b[34m5000  \u001b[0m↘\u001b[32m\u001b[1m250   \u001b[0m\u001b[0m \u001b[34m    0\u001b[0m] [\u001b[34m0    \u001b[0m \u001b[32m\u001b[1m   250\u001b[0m\u001b[0m↗\u001b[32m\u001b[1m   500\u001b[0m\u001b[0m@\u001b[34m5000  \u001b[0m↘\u001b[32m\u001b[1m250   \u001b[0m\u001b[0m \u001b[34m    0\u001b[0m]\n",
       "  1 0.3000 0.3000|[\u001b[34m0    \u001b[0m \u001b[32m\u001b[1m   250\u001b[0m\u001b[0m↗\u001b[32m\u001b[1m   400\u001b[0m\u001b[0m@\u001b[34m5000  \u001b[0m↘\u001b[32m\u001b[1m250   \u001b[0m\u001b[0m \u001b[34m    0\u001b[0m] [\u001b[34m0    \u001b[0m \u001b[32m\u001b[1m   250\u001b[0m\u001b[0m↗\u001b[32m\u001b[1m   500\u001b[0m\u001b[0m@\u001b[34m5000  \u001b[0m↘\u001b[32m\u001b[1m250   \u001b[0m\u001b[0m \u001b[34m    0\u001b[0m]\n",
       "  2 0.6000 0.3000|[\u001b[34m0    \u001b[0m \u001b[32m\u001b[1m   250\u001b[0m\u001b[0m↗\u001b[32m\u001b[1m   500\u001b[0m\u001b[0m@\u001b[34m5000  \u001b[0m↘\u001b[32m\u001b[1m250   \u001b[0m\u001b[0m \u001b[34m    0\u001b[0m] [\u001b[34m0    \u001b[0m \u001b[32m\u001b[1m   250\u001b[0m\u001b[0m↗\u001b[32m\u001b[1m   300\u001b[0m\u001b[0m@\u001b[34m5000  \u001b[0m↘\u001b[32m\u001b[1m250   \u001b[0m\u001b[0m \u001b[34m    0\u001b[0m]\n",
       "  3 0.9000 0.3000|[\u001b[34m0    \u001b[0m \u001b[32m\u001b[1m   250\u001b[0m\u001b[0m↗\u001b[32m\u001b[1m   200\u001b[0m\u001b[0m@\u001b[34m5000  \u001b[0m↘\u001b[32m\u001b[1m250   \u001b[0m\u001b[0m \u001b[34m    0\u001b[0m] [\u001b[34m0    \u001b[0m \u001b[32m\u001b[1m   250\u001b[0m\u001b[0m↗\u001b[32m\u001b[1m   500\u001b[0m\u001b[0m@\u001b[34m5000  \u001b[0m↘\u001b[32m\u001b[1m250   \u001b[0m\u001b[0m \u001b[34m    0\u001b[0m]\n",
       "  4 1.2000 0.3000|[\u001b[34m0    \u001b[0m \u001b[32m\u001b[1m   250\u001b[0m\u001b[0m↗\u001b[32m\u001b[1m   500\u001b[0m\u001b[0m@\u001b[34m5000  \u001b[0m↘\u001b[32m\u001b[1m250   \u001b[0m\u001b[0m \u001b[34m    0\u001b[0m] [\u001b[34m0    \u001b[0m \u001b[32m\u001b[1m   250\u001b[0m\u001b[0m↗\u001b[32m\u001b[1m   500\u001b[0m\u001b[0m@\u001b[34m5000  \u001b[0m↘\u001b[32m\u001b[1m250   \u001b[0m\u001b[0m \u001b[34m    0\u001b[0m]\n",
       "  5 1.5000 0.3000|[\u001b[34m0    \u001b[0m \u001b[32m\u001b[1m   250\u001b[0m\u001b[0m↗\u001b[32m\u001b[1m   500\u001b[0m\u001b[0m@\u001b[34m5000  \u001b[0m↘\u001b[32m\u001b[1m250   \u001b[0m\u001b[0m \u001b[34m    0\u001b[0m] [\u001b[34m0    \u001b[0m \u001b[32m\u001b[1m   250\u001b[0m\u001b[0m↗\u001b[32m\u001b[1m   500\u001b[0m\u001b[0m@\u001b[34m5000  \u001b[0m↘\u001b[32m\u001b[1m250   \u001b[0m\u001b[0m \u001b[34m    0\u001b[0m]\n"
      ]
     },
     "execution_count": 3,
     "metadata": {},
     "output_type": "execute_result"
    }
   ],
   "source": [
    "joints = [Joint(5_000, 50_000)]*2\n",
    "\n",
    "moves = (\n",
    "    [1000,1000],\n",
    "    [900,1000],\n",
    "    [1000,800],\n",
    "    [700,1000],\n",
    "    [1000,1000],\n",
    "    [1000,1000])\n",
    "\n",
    "    \n",
    "cp.make()\n",
    "sl = cp.planner(joints, moves)\n",
    "sl\n"
   ]
  },
  {
   "cell_type": "code",
   "execution_count": null,
   "id": "d22976d2-f773-4954-b673-8e635c5e42ba",
   "metadata": {},
   "outputs": [],
   "source": []
  }
 ],
 "metadata": {
  "kernelspec": {
   "display_name": "Python 3 (ipykernel)",
   "language": "python",
   "name": "python3"
  },
  "language_info": {
   "codemirror_mode": {
    "name": "ipython",
    "version": 3
   },
   "file_extension": ".py",
   "mimetype": "text/x-python",
   "name": "python",
   "nbconvert_exporter": "python",
   "pygments_lexer": "ipython3",
   "version": "3.9.12"
  }
 },
 "nbformat": 4,
 "nbformat_minor": 5
}
