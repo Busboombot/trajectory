{
 "cells": [
  {
   "cell_type": "code",
   "execution_count": 1,
   "id": "7b110f93-5ec3-45fd-91b7-5388920ae50c",
   "metadata": {},
   "outputs": [
    {
     "ename": "NameError",
     "evalue": "name 'Path' is not defined",
     "output_type": "error",
     "traceback": [
      "\u001b[0;31m---------------------------------------------------------------------------\u001b[0m",
      "\u001b[0;31mNameError\u001b[0m                                 Traceback (most recent call last)",
      "Input \u001b[0;32mIn [1]\u001b[0m, in \u001b[0;36m<cell line: 1>\u001b[0;34m()\u001b[0m\n\u001b[0;32m----> 1\u001b[0m test_dir \u001b[38;5;241m=\u001b[39m \u001b[43mPath\u001b[49m(\u001b[38;5;124m'\u001b[39m\u001b[38;5;124m/Users/eric/Documents/proj/trajectory/src/cmake-cli-test/cli\u001b[39m\u001b[38;5;124m'\u001b[39m)\n\u001b[1;32m      2\u001b[0m exe \u001b[38;5;241m=\u001b[39m test_dir\u001b[38;5;241m.\u001b[39mjoinpath(\u001b[38;5;124m'\u001b[39m\u001b[38;5;124mtrj_planner\u001b[39m\u001b[38;5;124m'\u001b[39m)\n\u001b[1;32m      4\u001b[0m \u001b[38;5;28;01mfrom\u001b[39;00m \u001b[38;5;21;01mtrajectory\u001b[39;00m\u001b[38;5;21;01m.\u001b[39;00m\u001b[38;5;21;01mtest\u001b[39;00m\u001b[38;5;21;01m.\u001b[39;00m\u001b[38;5;21;01mcpptest\u001b[39;00m \u001b[38;5;28;01mimport\u001b[39;00m CPPPlanner\n",
      "\u001b[0;31mNameError\u001b[0m: name 'Path' is not defined"
     ]
    }
   ],
   "source": [
    "from trajectory.test.cpptest import CPPPlanner\n",
    "\n",
    "cp = CPPPlanner('/Users/eric/Documents/proj/trajectory/src/cmake-cli-test/cli')\n",
    "\n",
    "cp.make()"
   ]
  },
  {
   "cell_type": "code",
   "execution_count": null,
   "id": "1f4505a9-6ff4-424d-93db-a7aab359d606",
   "metadata": {},
   "outputs": [],
   "source": [
    "joints = [Joint(5_000, 50_000)]*2\n",
    "\n",
    "moves = (\n",
    "    [1000,1000],\n",
    "    [900,1000],\n",
    "    [1000,800],\n",
    "    [700,1000],\n",
    "    [1000,1000],\n",
    "    [1000,1000])\n",
    "\n",
    "    \n",
    "cp.make()\n",
    "cp.planner(joints, moves)\n",
    "\n",
    "\n"
   ]
  },
  {
   "cell_type": "code",
   "execution_count": null,
   "id": "d22976d2-f773-4954-b673-8e635c5e42ba",
   "metadata": {},
   "outputs": [],
   "source": []
  }
 ],
 "metadata": {
  "kernelspec": {
   "display_name": "Python 3 (ipykernel)",
   "language": "python",
   "name": "python3"
  },
  "language_info": {
   "codemirror_mode": {
    "name": "ipython",
    "version": 3
   },
   "file_extension": ".py",
   "mimetype": "text/x-python",
   "name": "python",
   "nbconvert_exporter": "python",
   "pygments_lexer": "ipython3",
   "version": "3.9.12"
  }
 },
 "nbformat": 4,
 "nbformat_minor": 5
}
