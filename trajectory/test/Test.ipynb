{
 "cells": [
  {
   "cell_type": "code",
   "execution_count": 2,
   "metadata": {
    "pycharm": {
     "name": "#%%\n"
    }
   },
   "outputs": [
    {
     "name": "stdout",
     "output_type": "stream",
     "text": [
      "The autoreload extension is already loaded. To reload it, use:\n",
      "  %reload_ext autoreload\n"
     ]
    }
   ],
   "source": [
    "%load_ext autoreload\n",
    "%autoreload 2\n",
    "%matplotlib inline\n",
    "from trajectory.planner import * \n",
    "from trajectory.plot import * \n",
    "import matplotlib.pyplot as plt\n",
    "from IPython.display import display\n",
    "import trajectory as tj\n",
    "import pandas as pd\n",
    "from warnings import warn"
   ]
  },
  {
   "cell_type": "code",
   "execution_count": 3,
   "metadata": {},
   "outputs": [],
   "source": [
    "def show_sl(sl):\n",
    "    display(f\"TE={sl.total_error}, RE={sl.total_re}\")\n",
    "    \n",
    "    plot_segment_list(sl.dataframe)\n",
    "    plt.show()\n",
    "    print(str(sl))\n",
    "    display(sl.dataframe)\n",
    "    display(sl.dataframe.groupby(['seg','axis']).del_t.sum().unstack())\n",
    "    \n",
    "    "
   ]
  },
  {
   "cell_type": "code",
   "execution_count": null,
   "metadata": {},
   "outputs": [],
   "source": [
    "sl = SegmentList([Joint(5_000, 50_000), Joint(5_000, 50_000), Joint(5_000, 50_000)])\n",
    "\n",
    "\n"
   ]
  },
  {
   "cell_type": "code",
   "execution_count": null,
   "metadata": {},
   "outputs": [],
   "source": [
    "# This move should have an acelleration, then a constant velocity across the three semgments, then decel. It should \n",
    "# not have a sawtooth or undulating pattern. \n",
    "\n",
    "sl = SegmentList([Joint(5_000, 50_000), Joint(5_000, 50_000), Joint(5_000, 50_000)])\n",
    "x = 500\n",
    "sl.rmove([10,x/2,x])\n",
    "\n",
    "s = sl[0]\n",
    "\n",
    "s[0].v_0_max = 100\n",
    "s[1].v_0_max = 2000\n",
    "s[2].v_0_max = 500\n",
    "\n",
    "s[0].v_0 = 2500\n",
    "s[1].v_0 = 2500\n",
    "\n",
    "s[0].v_1_max = 1000\n",
    "s[1].v_1_max = 1000\n",
    "s[2].v_1_max = 2000\n",
    "\n",
    "s.update()\n",
    "    \n",
    "plot_segment_list(sl.dataframe)\n",
    "\n",
    "sl.dataframe\n"
   ]
  },
  {
   "cell_type": "code",
   "execution_count": null,
   "metadata": {
    "pycharm": {
     "name": "#%%\n"
    }
   },
   "outputs": [],
   "source": [
    "sl = SegmentList([Joint(5000, 50_000), Joint(5000, 50_000)])\n",
    "sl.rmove([1000, 1000])\n",
    "sl.rmove([500, 1000])\n",
    "sl.rmove([500, 1000])\n",
    "sl.rmove([1000, 1000])\n",
    "sl.update()\n",
    "o = sl[3].save()\n",
    "\n",
    "plot_segment_list(sl.dataframe)\n",
    "print(sl[3].max_err_x)\n",
    "\n",
    "sl.dataframe"
   ]
  },
  {
   "cell_type": "code",
   "execution_count": null,
   "metadata": {},
   "outputs": [],
   "source": [
    "import numpy as np \n",
    "from trajectory.planner import inital_parameters\n",
    "\n",
    "sl = SegmentList([Joint(5000, 50_000), Joint(5000, 50_000)])\n",
    "sl.rmove([500, 500])\n",
    "sl[0].load(o)\n",
    "\n",
    "print(sl[0].max_err_x)\n",
    "\n",
    "sl[0,0].t *= 1.3 \n",
    "sl[0].update_min_time()\n",
    "sl.update()\n",
    "plot_segment_list(sl.dataframe)\n",
    "sl[0].max_err_x,sl[0].t"
   ]
  },
  {
   "cell_type": "code",
   "execution_count": null,
   "metadata": {},
   "outputs": [],
   "source": [
    "sl.dataframe"
   ]
  },
  {
   "cell_type": "code",
   "execution_count": null,
   "metadata": {},
   "outputs": [],
   "source": [
    "sl = SegmentList([Joint(5000, 50_000), Joint(5000, 50_000)])\n",
    "sl.rmove([500, 500])\n",
    "\n",
    "sl[0].load(o)\n",
    "self = sl[0,0]\n",
    "print(self.t)\n",
    "print(inital_parameters(self.x, self.v_0, self.joint.v_max, self.v_1, self.joint.a_max).t)\n",
    "print('--')\n",
    "self = sl[0,1]\n",
    "print(self.t)\n",
    "print(inital_parameters(self.x, self.v_0, self.joint.v_max, self.v_1, self.joint.a_max).t)\n",
    "print('--')"
   ]
  },
  {
   "cell_type": "code",
   "execution_count": null,
   "metadata": {},
   "outputs": [],
   "source": [
    "max(sl[0,0].v_c,sl[0,1].v_c)"
   ]
  },
  {
   "cell_type": "code",
   "execution_count": null,
   "metadata": {},
   "outputs": [],
   "source": [
    "    \n",
    "sl[0].load(o)\n",
    "plot_segment_list(sl.dataframe)\n",
    "self = sl[0]\n",
    "self.t *= .53\n",
    "print(self.times)\n",
    "\n",
    "self.recalc()\n",
    "\n",
    "plot_segment_list(sl.dataframe)\n",
    "self.recalc()\n",
    "\n",
    "plot_segment_list(sl.dataframe)"
   ]
  },
  {
   "cell_type": "code",
   "execution_count": null,
   "metadata": {},
   "outputs": [],
   "source": []
  },
  {
   "cell_type": "code",
   "execution_count": null,
   "metadata": {
    "pycharm": {
     "name": "#%%\n"
    }
   },
   "outputs": [],
   "source": [
    "# Much faster accelerations than the last chart. \n",
    "sl = SegmentList([Joint(5000, 300_000, 300_000), Joint(5000, 300_000, 300_000)])\n",
    "sl.rmove([1000, 1000])\n",
    "sl.rmove([500, 1000])\n",
    "sl.rmove([1000, 500])\n",
    "sl.rmove([300, 1000])\n",
    "sl.rmove([100, 1000])\n",
    "sl.rmove([1000, 1000])\n",
    "sl.update()\n",
    "\n",
    "show_sl(sl)"
   ]
  },
  {
   "cell_type": "code",
   "execution_count": null,
   "metadata": {
    "pycharm": {
     "name": "#%%\n"
    }
   },
   "outputs": [],
   "source": [
    "sl = SegmentList([Joint(5000, 300_000, 300_000),Joint(5000, 300_000, 300_000)])\n",
    "sl.rmove([1000,1000])\n",
    "sl.rmove([500,1000])\n",
    "sl.rmove([1000,1000])\n",
    "sl.rmove([-1000,1000])\n",
    "sl.rmove([-1000,-1000])\n",
    "sl.rmove([1000,1000])\n",
    "\n",
    "show_sl(sl)"
   ]
  },
  {
   "cell_type": "code",
   "execution_count": null,
   "metadata": {
    "pycharm": {
     "name": "#%%\n"
    }
   },
   "outputs": [],
   "source": [
    "sl.dataframe.head()"
   ]
  },
  {
   "cell_type": "code",
   "execution_count": null,
   "metadata": {
    "pycharm": {
     "name": "#%%\n"
    }
   },
   "outputs": [],
   "source": [
    "sl = SegmentList([Joint(5000, 300_000, 300_000), Joint(5000, 300_000, 300_000)])\n",
    "sl.rmove([18000, 20000])\n",
    "sl.rmove([-100, 5000])\n",
    "sl.rmove([100, 10000])\n",
    "sl.rmove([-2500, 1000])\n",
    "sl.rmove([100, 1000]) ## ERROR! This velocity should not be negative\n",
    "sl.rmove([1000, 1000]) ## ERROR! This velocity should not be negative\n",
    "\n",
    "df = sl.dataframe\n",
    "\n",
    "plot_segment_list(sl.dataframe)\n",
    "df[df.ss != 'c'].del_t.unique()"
   ]
  },
  {
   "cell_type": "code",
   "execution_count": null,
   "metadata": {
    "pycharm": {
     "name": "#%%\n"
    }
   },
   "outputs": [],
   "source": [
    "sl = SegmentList([Joint(5000, 30_000, 30_000), Joint(5000, 30_000, 30_000)])\n",
    "sl.rmove([1000, 500])\n",
    "sl.rmove([1000, 1000])\n",
    "sl.rmove([2000, 1000])\n",
    "sl.rmove([-100, 500])\n",
    "sl.rmove([100, 1000])\n",
    "sl.rmove([-2500, 1000])\n",
    "sl.rmove([100, 1000]) \n",
    "sl.rmove([1000, 1000]) ## ERROR! This velocity should not be negative\n",
    "\n",
    "\n",
    "plot_segment_list(sl.dataframe)\n",
    "\n",
    "print(sl.positions)"
   ]
  },
  {
   "cell_type": "code",
   "execution_count": null,
   "metadata": {
    "pycharm": {
     "name": "#%%\n"
    }
   },
   "outputs": [],
   "source": []
  },
  {
   "cell_type": "code",
   "execution_count": null,
   "metadata": {},
   "outputs": [],
   "source": [
    "sl.dataframe.groupby(['seg','axis']).x.sum()"
   ]
  },
  {
   "cell_type": "code",
   "execution_count": null,
   "metadata": {
    "collapsed": false,
    "jupyter": {
     "outputs_hidden": false
    },
    "pycharm": {
     "name": "#%%\n"
    }
   },
   "outputs": [],
   "source": [
    "sl = SegmentList([Joint(33333, 66666)])\n",
    "x = 5000\n",
    "sl.rmove([x])\n",
    "sl.rmove([x])\n",
    "sl.rmove([-x])\n",
    "sl.rmove([-x])\n",
    "\n",
    "df = sl.dataframe\n",
    "\n",
    "plot_segment_list(sl.dataframe)\n",
    "for s in sl:\n",
    "    print(s)\n",
    "\n",
    "#sl.validate()\n",
    "print(sl.positions)"
   ]
  },
  {
   "cell_type": "code",
   "execution_count": null,
   "metadata": {
    "pycharm": {
     "name": "#%%\n"
    }
   },
   "outputs": [],
   "source": [
    "14.908532541958522+85.55207900072237"
   ]
  },
  {
   "cell_type": "code",
   "execution_count": null,
   "metadata": {
    "pycharm": {
     "name": "#%%\n"
    }
   },
   "outputs": [],
   "source": [
    "sl = SegmentList([Joint(10000, 3000_000, 3000_000), Joint(10000, 3000_000, 3000_000)])\n",
    "\n",
    "sl.rmove([5.0,-100.0])\n",
    "sl.rmove([5.0,-100.0])\n",
    "sl.rmove([-5.0,-100.0])\n",
    "print(sl)\n",
    "#sl.update(validate = False)\n",
    "\n"
   ]
  },
  {
   "cell_type": "code",
   "execution_count": null,
   "metadata": {
    "pycharm": {
     "name": "#%%\n"
    }
   },
   "outputs": [],
   "source": [
    "10000 / 2500"
   ]
  },
  {
   "cell_type": "code",
   "execution_count": null,
   "metadata": {
    "pycharm": {
     "name": "#%%\n"
    }
   },
   "outputs": [],
   "source": [
    "import numpy as np\n",
    "\n",
    "sl = SegmentList([Joint(15000, 30_000, 30_000), Joint(15000, 30_000, 30_000)])\n",
    "\n",
    "p = []\n",
    "lx, ly = None,None\n",
    "for a in np.linspace(0,2*np.pi, 25):\n",
    "    x = np.sin(a)*1000000\n",
    "    y = np.cos(a)*1000000\n",
    "    \n",
    "    \n",
    "    if lx is None:\n",
    "        lx, ly = x,y\n",
    "        \n",
    "    \n",
    "    #print(f\"sl.rmove([{x-lx},{y-ly}], validate=False)\")\n",
    "    p.append((x,y))\n",
    "    sl.add_position_segment([x,y])\n",
    "    lx, ly = x,y\n",
    "    \n",
    "df = pd.DataFrame(p, columns=['x','y'])\n",
    "df.plot.scatter(x='x', y='y', figsize=(4,4))\n",
    "\n",
    "\n",
    "#print(sl)\n",
    "plot_segment_list(sl.dataframe)"
   ]
  },
  {
   "cell_type": "code",
   "execution_count": null,
   "metadata": {
    "pycharm": {
     "name": "#%%\n"
    }
   },
   "outputs": [],
   "source": [
    "print(sl)"
   ]
  },
  {
   "cell_type": "code",
   "execution_count": null,
   "metadata": {
    "pycharm": {
     "name": "#%%\n"
    }
   },
   "outputs": [],
   "source": [
    "# Get the points from the subsegments. \n",
    "def generate_points(sl):\n",
    "    t = 0\n",
    "    x = 0\n",
    "    y = 0\n",
    "\n",
    "    for e in sl.sub_segments:\n",
    "        yield(t, x, y)\n",
    "        t += e[0].t\n",
    "        x += e[0].x\n",
    "        y += e[1].x\n",
    "l = list(generate_points(sl))\n",
    "\n",
    "df = pd.DataFrame(l, columns = 't x y'.split()).set_index('t')\n",
    "df.plot(figsize=(12,6))\n",
    "df.plot.scatter(x='x', y='y', marker='.',figsize = (8, 8))"
   ]
  },
  {
   "cell_type": "code",
   "execution_count": null,
   "metadata": {
    "pycharm": {
     "name": "#%%\n"
    },
    "tags": []
   },
   "outputs": [],
   "source": [
    "def sim_df(axis, sl):\n",
    "    simsegs = []\n",
    "    slsegs = []\n",
    "    \n",
    "    for e in sl.sub_segments:\n",
    "        s = e[axis]\n",
    "\n",
    "        t, x, v0, v1 = s.t, s.x, s.v_i, s.v_f\n",
    "        a = float(v1-v0)/float(t)\n",
    "        if abs(round(x)) !=0:\n",
    "            slsegs.append([t, x, v0, v1, a])\n",
    "\n",
    "            simsegs += list(tj.SimSegment(v0,v1,x=x,t=t))\n",
    "        \n",
    "    sl_df = pd.DataFrame(slsegs, columns=\"t x v0 v1 a\".split())\n",
    "        \n",
    "    df = pd.DataFrame(simsegs,columns=tj.SimSegment.row_header)\n",
    "    df['tc'] = df.cn.cumsum()\n",
    "    df['xn'] = df.dir.cumsum()\n",
    "    df['delay'] = 1 / df.cn\n",
    "        \n",
    "    return sl_df, df\n",
    "\n",
    "def plot2d(df_0, df_1):\n",
    "    s = pd.DataFrame({'tc':np.linspace(df_0.tc.min(),df_0.tc.max(), 50000)})\n",
    "    dfx = pd.concat([df_0[['tc','xn']],s], sort=False).sort_values('tc').reindex().interpolate().set_index('tc')\\\n",
    "    .rename(columns={'xn':'x'})\n",
    "    dfy = pd.concat([df_1[['tc','xn']],s], sort=False).sort_values('tc').reindex().interpolate().set_index('tc')\\\n",
    "    .rename(columns={'xn':'y'})\n",
    "\n",
    "    df = dfx.join(dfy)\n",
    "    \n",
    "    df.plot.scatter(x='x', y='y', marker='.', figsize = (8, 8))\n",
    "\n",
    "\n",
    "sl_df_0, df_0 = sim_df(0,sl)\n",
    "\n",
    "sl_df_1, df_1 = sim_df(1,sl)\n",
    "\n",
    "ax = df_0.plot(x='tc', y='xn', figsize = (20, 8) )\n",
    "ax = df_1.plot(ax=ax,x='tc', y='xn')\n",
    "\n",
    "plot2d(df_0, df_1)"
   ]
  },
  {
   "cell_type": "code",
   "execution_count": null,
   "metadata": {
    "pycharm": {
     "name": "#%%\n"
    }
   },
   "outputs": [],
   "source": []
  }
 ],
 "metadata": {
  "kernelspec": {
   "display_name": "Python 3 (ipykernel)",
   "language": "python",
   "name": "python3"
  },
  "language_info": {
   "codemirror_mode": {
    "name": "ipython",
    "version": 3
   },
   "file_extension": ".py",
   "mimetype": "text/x-python",
   "name": "python",
   "nbconvert_exporter": "python",
   "pygments_lexer": "ipython3",
   "version": "3.9.12"
  }
 },
 "nbformat": 4,
 "nbformat_minor": 4
}
