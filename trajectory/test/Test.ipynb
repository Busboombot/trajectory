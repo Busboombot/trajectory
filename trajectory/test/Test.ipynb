{
 "cells": [
  {
   "cell_type": "code",
   "execution_count": 2,
   "metadata": {
    "pycharm": {
     "name": "#%%\n"
    }
   },
   "outputs": [
    {
     "name": "stdout",
     "output_type": "stream",
     "text": [
      "The autoreload extension is already loaded. To reload it, use:\n",
      "  %reload_ext autoreload\n"
     ]
    }
   ],
   "source": [
    "%load_ext autoreload\n",
    "%autoreload 2\n",
    "%matplotlib inline\n",
    "from trajectory.planner import * \n",
    "from trajectory.plot import * \n",
    "import matplotlib.pyplot as plt\n",
    "from IPython.display import display\n",
    "import trajectory as tj\n",
    "import pandas as pd\n",
    "from warnings import warn"
   ]
  },
  {
   "cell_type": "code",
   "execution_count": 3,
   "metadata": {},
   "outputs": [],
   "source": [
    "def show_sl(sl):\n",
    "    display(f\"TE={sl.total_error}, RE={sl.total_re}\")\n",
    "    \n",
    "    plot_segment_list(sl.dataframe)\n",
    "    plt.show()\n",
    "    print(str(sl))\n",
    "    display(sl.dataframe)\n",
    "    display(sl.dataframe.groupby(['seg','axis']).del_t.sum().unstack())\n",
    "    \n",
    "    "
   ]
  },
  {
   "cell_type": "code",
   "execution_count": null,
   "metadata": {},
   "outputs": [],
   "source": [
    "sl = SegmentList([Joint(5_000, 50_000), Joint(5_000, 50_000), Joint(5_000, 50_000)])\n",
    "\n",
    "\n"
   ]
  },
  {
   "cell_type": "code",
   "execution_count": 4,
   "metadata": {},
   "outputs": [
    {
     "data": {
      "text/html": [
       "<div>\n",
       "<style scoped>\n",
       "    .dataframe tbody tr th:only-of-type {\n",
       "        vertical-align: middle;\n",
       "    }\n",
       "\n",
       "    .dataframe tbody tr th {\n",
       "        vertical-align: top;\n",
       "    }\n",
       "\n",
       "    .dataframe thead th {\n",
       "        text-align: right;\n",
       "    }\n",
       "</style>\n",
       "<table border=\"1\" class=\"dataframe\">\n",
       "  <thead>\n",
       "    <tr style=\"text-align: right;\">\n",
       "      <th></th>\n",
       "      <th>t</th>\n",
       "      <th>seg</th>\n",
       "      <th>axis</th>\n",
       "      <th>x</th>\n",
       "      <th>v0m</th>\n",
       "      <th>v_i</th>\n",
       "      <th>v_f</th>\n",
       "      <th>v1m</th>\n",
       "      <th>ss</th>\n",
       "      <th>del_t</th>\n",
       "      <th>calc_x</th>\n",
       "      <th>err</th>\n",
       "    </tr>\n",
       "  </thead>\n",
       "  <tbody>\n",
       "    <tr>\n",
       "      <th>0</th>\n",
       "      <td>0.001000</td>\n",
       "      <td>0</td>\n",
       "      <td>0</td>\n",
       "      <td>0.0</td>\n",
       "      <td>100</td>\n",
       "      <td>100.00</td>\n",
       "      <td>49.87</td>\n",
       "      <td>1000</td>\n",
       "      <td>a</td>\n",
       "      <td>0.001000</td>\n",
       "      <td>0.074935</td>\n",
       "      <td>-0.074935</td>\n",
       "    </tr>\n",
       "    <tr>\n",
       "      <th>1</th>\n",
       "      <td>0.200000</td>\n",
       "      <td>0</td>\n",
       "      <td>0</td>\n",
       "      <td>10.0</td>\n",
       "      <td>100</td>\n",
       "      <td>49.87</td>\n",
       "      <td>49.87</td>\n",
       "      <td>1000</td>\n",
       "      <td>c</td>\n",
       "      <td>0.199000</td>\n",
       "      <td>9.924130</td>\n",
       "      <td>0.075870</td>\n",
       "    </tr>\n",
       "    <tr>\n",
       "      <th>2</th>\n",
       "      <td>0.200000</td>\n",
       "      <td>0</td>\n",
       "      <td>0</td>\n",
       "      <td>0.0</td>\n",
       "      <td>100</td>\n",
       "      <td>49.87</td>\n",
       "      <td>49.87</td>\n",
       "      <td>1000</td>\n",
       "      <td>d</td>\n",
       "      <td>0.000000</td>\n",
       "      <td>0.000000</td>\n",
       "      <td>0.000000</td>\n",
       "    </tr>\n",
       "    <tr>\n",
       "      <th>3</th>\n",
       "      <td>0.015556</td>\n",
       "      <td>0</td>\n",
       "      <td>1</td>\n",
       "      <td>25.0</td>\n",
       "      <td>2000</td>\n",
       "      <td>2000.00</td>\n",
       "      <td>1222.22</td>\n",
       "      <td>1000</td>\n",
       "      <td>a</td>\n",
       "      <td>0.015556</td>\n",
       "      <td>25.061783</td>\n",
       "      <td>-0.061783</td>\n",
       "    </tr>\n",
       "    <tr>\n",
       "      <th>4</th>\n",
       "      <td>0.195556</td>\n",
       "      <td>0</td>\n",
       "      <td>1</td>\n",
       "      <td>220.0</td>\n",
       "      <td>2000</td>\n",
       "      <td>1222.22</td>\n",
       "      <td>1222.22</td>\n",
       "      <td>1000</td>\n",
       "      <td>c</td>\n",
       "      <td>0.180000</td>\n",
       "      <td>219.999600</td>\n",
       "      <td>0.000400</td>\n",
       "    </tr>\n",
       "    <tr>\n",
       "      <th>5</th>\n",
       "      <td>0.200000</td>\n",
       "      <td>0</td>\n",
       "      <td>1</td>\n",
       "      <td>5.0</td>\n",
       "      <td>2000</td>\n",
       "      <td>1222.22</td>\n",
       "      <td>1000.00</td>\n",
       "      <td>1000</td>\n",
       "      <td>d</td>\n",
       "      <td>0.004444</td>\n",
       "      <td>4.938217</td>\n",
       "      <td>0.061783</td>\n",
       "    </tr>\n",
       "    <tr>\n",
       "      <th>6</th>\n",
       "      <td>0.059286</td>\n",
       "      <td>0</td>\n",
       "      <td>2</td>\n",
       "      <td>88.0</td>\n",
       "      <td>500</td>\n",
       "      <td>0.00</td>\n",
       "      <td>2999.79</td>\n",
       "      <td>2000</td>\n",
       "      <td>a</td>\n",
       "      <td>0.059286</td>\n",
       "      <td>88.922325</td>\n",
       "      <td>-0.922325</td>\n",
       "    </tr>\n",
       "    <tr>\n",
       "      <th>7</th>\n",
       "      <td>0.180714</td>\n",
       "      <td>0</td>\n",
       "      <td>2</td>\n",
       "      <td>364.0</td>\n",
       "      <td>500</td>\n",
       "      <td>2999.79</td>\n",
       "      <td>2999.79</td>\n",
       "      <td>2000</td>\n",
       "      <td>c</td>\n",
       "      <td>0.121429</td>\n",
       "      <td>364.260300</td>\n",
       "      <td>-0.260300</td>\n",
       "    </tr>\n",
       "    <tr>\n",
       "      <th>8</th>\n",
       "      <td>0.200000</td>\n",
       "      <td>0</td>\n",
       "      <td>2</td>\n",
       "      <td>48.0</td>\n",
       "      <td>500</td>\n",
       "      <td>2999.79</td>\n",
       "      <td>2000.00</td>\n",
       "      <td>2000</td>\n",
       "      <td>d</td>\n",
       "      <td>0.019286</td>\n",
       "      <td>48.212225</td>\n",
       "      <td>-0.212225</td>\n",
       "    </tr>\n",
       "  </tbody>\n",
       "</table>\n",
       "</div>"
      ],
      "text/plain": [
       "          t  seg  axis      x   v0m      v_i      v_f   v1m ss     del_t  \\\n",
       "0  0.001000    0     0    0.0   100   100.00    49.87  1000  a  0.001000   \n",
       "1  0.200000    0     0   10.0   100    49.87    49.87  1000  c  0.199000   \n",
       "2  0.200000    0     0    0.0   100    49.87    49.87  1000  d  0.000000   \n",
       "3  0.015556    0     1   25.0  2000  2000.00  1222.22  1000  a  0.015556   \n",
       "4  0.195556    0     1  220.0  2000  1222.22  1222.22  1000  c  0.180000   \n",
       "5  0.200000    0     1    5.0  2000  1222.22  1000.00  1000  d  0.004444   \n",
       "6  0.059286    0     2   88.0   500     0.00  2999.79  2000  a  0.059286   \n",
       "7  0.180714    0     2  364.0   500  2999.79  2999.79  2000  c  0.121429   \n",
       "8  0.200000    0     2   48.0   500  2999.79  2000.00  2000  d  0.019286   \n",
       "\n",
       "       calc_x       err  \n",
       "0    0.074935 -0.074935  \n",
       "1    9.924130  0.075870  \n",
       "2    0.000000  0.000000  \n",
       "3   25.061783 -0.061783  \n",
       "4  219.999600  0.000400  \n",
       "5    4.938217  0.061783  \n",
       "6   88.922325 -0.922325  \n",
       "7  364.260300 -0.260300  \n",
       "8   48.212225 -0.212225  "
      ]
     },
     "execution_count": 4,
     "metadata": {},
     "output_type": "execute_result"
    },
    {
     "data": {
      "image/png": "[encoded data removed]",
      "text/plain": [
       "<Figure size 1440x216 with 1 Axes>"
      ]
     },
     "metadata": {
      "needs_background": "light"
     },
     "output_type": "display_data"
    }
   ],
   "source": [
    "# This move should have an acelleration, then a constant velocity across the three semgments, then decel. It should \n",
    "# not have a sawtooth or undulating pattern. \n",
    "\n",
    "sl = SegmentList([Joint(5_000, 50_000), Joint(5_000, 50_000), Joint(5_000, 50_000)])\n",
    "x = 500\n",
    "sl.rmove([10,x/2,x])\n",
    "\n",
    "s = sl[0]\n",
    "\n",
    "s[0].v_0_max = 100\n",
    "s[1].v_0_max = 2000\n",
    "s[2].v_0_max = 500\n",
    "\n",
    "s[0].v_0 = 2500\n",
    "s[1].v_0 = 2500\n",
    "\n",
    "s[0].v_1_max = 1000\n",
    "s[1].v_1_max = 1000\n",
    "s[2].v_1_max = 2000\n",
    "\n",
    "s.update()\n",
    "    \n",
    "plot_segment_list(sl.dataframe)\n",
    "\n",
    "sl.dataframe\n"
   ]
  },
  {
   "cell_type": "code",
   "execution_count": 156,
   "metadata": {
    "pycharm": {
     "name": "#%%\n"
    }
   },
   "outputs": [
    {
     "name": "stdout",
     "output_type": "stream",
     "text": [
      "89.97325312199729\n"
     ]
    },
    {
     "name": "stderr",
     "output_type": "stream",
     "text": [
      "/Users/eric/Documents/proj/trajectory/trajectory/planner.py:967: UserWarning: Failed to converge 13.937114197530832\n",
      "  warn(f'Failed to converge {self.max_err_x}')\n",
      "/Users/eric/Documents/proj/trajectory/trajectory/planner.py:967: UserWarning: Failed to converge 9.975121570823944\n",
      "  warn(f'Failed to converge {self.max_err_x}')\n",
      "/Users/eric/Documents/proj/trajectory/trajectory/planner.py:967: UserWarning: Failed to converge 89.97325312199729\n",
      "  warn(f'Failed to converge {self.max_err_x}')\n",
      "/Users/eric/Documents/proj/trajectory/trajectory/planner.py:1224: UserWarning: 3/0 Excessive error. err_x=89.97325312199729 re=0.08997325312199729\n",
      "  \n",
      "/Users/eric/Documents/proj/trajectory/trajectory/planner.py:1224: UserWarning: 3/0 Excessive error. err_x=89.97325312199729 re=0.08997325312199729\n",
      "  \n"
     ]
    },
    {
     "data": {
      "text/html": [
       "<div>\n",
       "<style scoped>\n",
       "    .dataframe tbody tr th:only-of-type {\n",
       "        vertical-align: middle;\n",
       "    }\n",
       "\n",
       "    .dataframe tbody tr th {\n",
       "        vertical-align: top;\n",
       "    }\n",
       "\n",
       "    .dataframe thead th {\n",
       "        text-align: right;\n",
       "    }\n",
       "</style>\n",
       "<table border=\"1\" class=\"dataframe\">\n",
       "  <thead>\n",
       "    <tr style=\"text-align: right;\">\n",
       "      <th></th>\n",
       "      <th>t</th>\n",
       "      <th>seg</th>\n",
       "      <th>axis</th>\n",
       "      <th>x</th>\n",
       "      <th>v0m</th>\n",
       "      <th>v_i</th>\n",
       "      <th>v_f</th>\n",
       "      <th>v1m</th>\n",
       "      <th>ss</th>\n",
       "      <th>del_t</th>\n",
       "      <th>calc_x</th>\n",
       "      <th>err</th>\n",
       "    </tr>\n",
       "  </thead>\n",
       "  <tbody>\n",
       "    <tr>\n",
       "      <th>0</th>\n",
       "      <td>0.075000</td>\n",
       "      <td>0</td>\n",
       "      <td>0</td>\n",
       "      <td>141.0</td>\n",
       "      <td>0.000000</td>\n",
       "      <td>0.00</td>\n",
       "      <td>3819.44</td>\n",
       "      <td>5000</td>\n",
       "      <td>a</td>\n",
       "      <td>0.075000</td>\n",
       "      <td>143.229000</td>\n",
       "      <td>-2.229000</td>\n",
       "    </tr>\n",
       "    <tr>\n",
       "      <th>1</th>\n",
       "      <td>0.300000</td>\n",
       "      <td>0</td>\n",
       "      <td>0</td>\n",
       "      <td>859.0</td>\n",
       "      <td>0.000000</td>\n",
       "      <td>3819.44</td>\n",
       "      <td>3819.44</td>\n",
       "      <td>5000</td>\n",
       "      <td>c</td>\n",
       "      <td>0.225000</td>\n",
       "      <td>859.374000</td>\n",
       "      <td>-0.374000</td>\n",
       "    </tr>\n",
       "    <tr>\n",
       "      <th>2</th>\n",
       "      <td>0.300000</td>\n",
       "      <td>0</td>\n",
       "      <td>0</td>\n",
       "      <td>0.0</td>\n",
       "      <td>0.000000</td>\n",
       "      <td>3819.44</td>\n",
       "      <td>3819.44</td>\n",
       "      <td>5000</td>\n",
       "      <td>d</td>\n",
       "      <td>0.000000</td>\n",
       "      <td>0.000000</td>\n",
       "      <td>0.000000</td>\n",
       "    </tr>\n",
       "    <tr>\n",
       "      <th>3</th>\n",
       "      <td>0.075000</td>\n",
       "      <td>0</td>\n",
       "      <td>1</td>\n",
       "      <td>141.0</td>\n",
       "      <td>0.000000</td>\n",
       "      <td>0.00</td>\n",
       "      <td>3819.44</td>\n",
       "      <td>5000</td>\n",
       "      <td>a</td>\n",
       "      <td>0.075000</td>\n",
       "      <td>143.229000</td>\n",
       "      <td>-2.229000</td>\n",
       "    </tr>\n",
       "    <tr>\n",
       "      <th>4</th>\n",
       "      <td>0.300000</td>\n",
       "      <td>0</td>\n",
       "      <td>1</td>\n",
       "      <td>859.0</td>\n",
       "      <td>0.000000</td>\n",
       "      <td>3819.44</td>\n",
       "      <td>3819.44</td>\n",
       "      <td>5000</td>\n",
       "      <td>c</td>\n",
       "      <td>0.225000</td>\n",
       "      <td>859.374000</td>\n",
       "      <td>-0.374000</td>\n",
       "    </tr>\n",
       "    <tr>\n",
       "      <th>5</th>\n",
       "      <td>0.300000</td>\n",
       "      <td>0</td>\n",
       "      <td>1</td>\n",
       "      <td>0.0</td>\n",
       "      <td>0.000000</td>\n",
       "      <td>3819.44</td>\n",
       "      <td>3819.44</td>\n",
       "      <td>5000</td>\n",
       "      <td>d</td>\n",
       "      <td>0.000000</td>\n",
       "      <td>0.000000</td>\n",
       "      <td>0.000000</td>\n",
       "    </tr>\n",
       "    <tr>\n",
       "      <th>6</th>\n",
       "      <td>0.339028</td>\n",
       "      <td>1</td>\n",
       "      <td>0</td>\n",
       "      <td>111.0</td>\n",
       "      <td>3819.444444</td>\n",
       "      <td>3819.44</td>\n",
       "      <td>1843.91</td>\n",
       "      <td>5000</td>\n",
       "      <td>a</td>\n",
       "      <td>0.039027</td>\n",
       "      <td>110.513196</td>\n",
       "      <td>0.486804</td>\n",
       "    </tr>\n",
       "    <tr>\n",
       "      <th>7</th>\n",
       "      <td>0.550000</td>\n",
       "      <td>1</td>\n",
       "      <td>0</td>\n",
       "      <td>389.0</td>\n",
       "      <td>3819.444444</td>\n",
       "      <td>1843.91</td>\n",
       "      <td>1843.91</td>\n",
       "      <td>5000</td>\n",
       "      <td>c</td>\n",
       "      <td>0.210973</td>\n",
       "      <td>389.014302</td>\n",
       "      <td>-0.014302</td>\n",
       "    </tr>\n",
       "    <tr>\n",
       "      <th>8</th>\n",
       "      <td>0.550000</td>\n",
       "      <td>1</td>\n",
       "      <td>0</td>\n",
       "      <td>0.0</td>\n",
       "      <td>3819.444444</td>\n",
       "      <td>1843.91</td>\n",
       "      <td>1843.91</td>\n",
       "      <td>5000</td>\n",
       "      <td>d</td>\n",
       "      <td>0.000000</td>\n",
       "      <td>0.000000</td>\n",
       "      <td>0.000000</td>\n",
       "    </tr>\n",
       "    <tr>\n",
       "      <th>9</th>\n",
       "      <td>0.302757</td>\n",
       "      <td>1</td>\n",
       "      <td>1</td>\n",
       "      <td>11.0</td>\n",
       "      <td>3819.444444</td>\n",
       "      <td>3819.44</td>\n",
       "      <td>4001.24</td>\n",
       "      <td>5000</td>\n",
       "      <td>a</td>\n",
       "      <td>0.002756</td>\n",
       "      <td>10.778852</td>\n",
       "      <td>0.221148</td>\n",
       "    </tr>\n",
       "    <tr>\n",
       "      <th>10</th>\n",
       "      <td>0.550000</td>\n",
       "      <td>1</td>\n",
       "      <td>1</td>\n",
       "      <td>989.0</td>\n",
       "      <td>3819.444444</td>\n",
       "      <td>4001.24</td>\n",
       "      <td>4001.24</td>\n",
       "      <td>5000</td>\n",
       "      <td>c</td>\n",
       "      <td>0.247244</td>\n",
       "      <td>989.280582</td>\n",
       "      <td>-0.280582</td>\n",
       "    </tr>\n",
       "    <tr>\n",
       "      <th>11</th>\n",
       "      <td>0.550000</td>\n",
       "      <td>1</td>\n",
       "      <td>1</td>\n",
       "      <td>0.0</td>\n",
       "      <td>3819.444444</td>\n",
       "      <td>4001.24</td>\n",
       "      <td>4001.24</td>\n",
       "      <td>5000</td>\n",
       "      <td>d</td>\n",
       "      <td>0.000000</td>\n",
       "      <td>0.000000</td>\n",
       "      <td>0.000000</td>\n",
       "    </tr>\n",
       "    <tr>\n",
       "      <th>12</th>\n",
       "      <td>0.555442</td>\n",
       "      <td>2</td>\n",
       "      <td>0</td>\n",
       "      <td>11.0</td>\n",
       "      <td>1843.914610</td>\n",
       "      <td>1843.91</td>\n",
       "      <td>2000.45</td>\n",
       "      <td>5000</td>\n",
       "      <td>a</td>\n",
       "      <td>0.005442</td>\n",
       "      <td>10.460504</td>\n",
       "      <td>0.539496</td>\n",
       "    </tr>\n",
       "    <tr>\n",
       "      <th>13</th>\n",
       "      <td>0.800000</td>\n",
       "      <td>2</td>\n",
       "      <td>0</td>\n",
       "      <td>489.0</td>\n",
       "      <td>1843.914610</td>\n",
       "      <td>2000.45</td>\n",
       "      <td>2000.45</td>\n",
       "      <td>5000</td>\n",
       "      <td>c</td>\n",
       "      <td>0.244558</td>\n",
       "      <td>489.226051</td>\n",
       "      <td>-0.226051</td>\n",
       "    </tr>\n",
       "    <tr>\n",
       "      <th>14</th>\n",
       "      <td>0.800000</td>\n",
       "      <td>2</td>\n",
       "      <td>0</td>\n",
       "      <td>0.0</td>\n",
       "      <td>1843.914610</td>\n",
       "      <td>2000.45</td>\n",
       "      <td>2000.45</td>\n",
       "      <td>5000</td>\n",
       "      <td>d</td>\n",
       "      <td>0.000000</td>\n",
       "      <td>0.000000</td>\n",
       "      <td>0.000000</td>\n",
       "    </tr>\n",
       "    <tr>\n",
       "      <th>15</th>\n",
       "      <td>0.550894</td>\n",
       "      <td>2</td>\n",
       "      <td>1</td>\n",
       "      <td>4.0</td>\n",
       "      <td>4001.244696</td>\n",
       "      <td>4001.24</td>\n",
       "      <td>4000.08</td>\n",
       "      <td>5000</td>\n",
       "      <td>a</td>\n",
       "      <td>0.000894</td>\n",
       "      <td>3.578190</td>\n",
       "      <td>0.421810</td>\n",
       "    </tr>\n",
       "    <tr>\n",
       "      <th>16</th>\n",
       "      <td>0.800000</td>\n",
       "      <td>2</td>\n",
       "      <td>1</td>\n",
       "      <td>996.0</td>\n",
       "      <td>4001.244696</td>\n",
       "      <td>4000.08</td>\n",
       "      <td>4000.08</td>\n",
       "      <td>5000</td>\n",
       "      <td>c</td>\n",
       "      <td>0.249106</td>\n",
       "      <td>996.442328</td>\n",
       "      <td>-0.442328</td>\n",
       "    </tr>\n",
       "    <tr>\n",
       "      <th>17</th>\n",
       "      <td>0.800000</td>\n",
       "      <td>2</td>\n",
       "      <td>1</td>\n",
       "      <td>0.0</td>\n",
       "      <td>4001.244696</td>\n",
       "      <td>4000.08</td>\n",
       "      <td>4000.08</td>\n",
       "      <td>5000</td>\n",
       "      <td>d</td>\n",
       "      <td>0.000000</td>\n",
       "      <td>0.000000</td>\n",
       "      <td>0.000000</td>\n",
       "    </tr>\n",
       "    <tr>\n",
       "      <th>18</th>\n",
       "      <td>0.859991</td>\n",
       "      <td>3</td>\n",
       "      <td>0</td>\n",
       "      <td>210.0</td>\n",
       "      <td>2000.445814</td>\n",
       "      <td>2000.45</td>\n",
       "      <td>5000.00</td>\n",
       "      <td>0</td>\n",
       "      <td>a</td>\n",
       "      <td>0.059991</td>\n",
       "      <td>209.982348</td>\n",
       "      <td>0.017652</td>\n",
       "    </tr>\n",
       "    <tr>\n",
       "      <th>19</th>\n",
       "      <td>0.950000</td>\n",
       "      <td>3</td>\n",
       "      <td>0</td>\n",
       "      <td>540.0</td>\n",
       "      <td>2000.445814</td>\n",
       "      <td>5000.00</td>\n",
       "      <td>5000.00</td>\n",
       "      <td>0</td>\n",
       "      <td>c</td>\n",
       "      <td>0.090009</td>\n",
       "      <td>450.044500</td>\n",
       "      <td>89.955500</td>\n",
       "    </tr>\n",
       "    <tr>\n",
       "      <th>20</th>\n",
       "      <td>1.050000</td>\n",
       "      <td>3</td>\n",
       "      <td>0</td>\n",
       "      <td>250.0</td>\n",
       "      <td>2000.445814</td>\n",
       "      <td>5000.00</td>\n",
       "      <td>0.00</td>\n",
       "      <td>0</td>\n",
       "      <td>d</td>\n",
       "      <td>0.100000</td>\n",
       "      <td>250.000000</td>\n",
       "      <td>0.000000</td>\n",
       "    </tr>\n",
       "    <tr>\n",
       "      <th>21</th>\n",
       "      <td>0.819998</td>\n",
       "      <td>3</td>\n",
       "      <td>1</td>\n",
       "      <td>90.0</td>\n",
       "      <td>4000.075807</td>\n",
       "      <td>4000.08</td>\n",
       "      <td>5000.00</td>\n",
       "      <td>0</td>\n",
       "      <td>a</td>\n",
       "      <td>0.019998</td>\n",
       "      <td>89.994050</td>\n",
       "      <td>0.005950</td>\n",
       "    </tr>\n",
       "    <tr>\n",
       "      <th>22</th>\n",
       "      <td>0.950000</td>\n",
       "      <td>3</td>\n",
       "      <td>1</td>\n",
       "      <td>660.0</td>\n",
       "      <td>4000.075807</td>\n",
       "      <td>5000.00</td>\n",
       "      <td>5000.00</td>\n",
       "      <td>0</td>\n",
       "      <td>c</td>\n",
       "      <td>0.130001</td>\n",
       "      <td>650.007500</td>\n",
       "      <td>9.992500</td>\n",
       "    </tr>\n",
       "    <tr>\n",
       "      <th>23</th>\n",
       "      <td>1.050000</td>\n",
       "      <td>3</td>\n",
       "      <td>1</td>\n",
       "      <td>250.0</td>\n",
       "      <td>4000.075807</td>\n",
       "      <td>5000.00</td>\n",
       "      <td>0.00</td>\n",
       "      <td>0</td>\n",
       "      <td>d</td>\n",
       "      <td>0.100000</td>\n",
       "      <td>250.000000</td>\n",
       "      <td>0.000000</td>\n",
       "    </tr>\n",
       "  </tbody>\n",
       "</table>\n",
       "</div>"
      ],
      "text/plain": [
       "           t  seg  axis      x          v0m      v_i      v_f   v1m ss  \\\n",
       "0   0.075000    0     0  141.0     0.000000     0.00  3819.44  5000  a   \n",
       "1   0.300000    0     0  859.0     0.000000  3819.44  3819.44  5000  c   \n",
       "2   0.300000    0     0    0.0     0.000000  3819.44  3819.44  5000  d   \n",
       "3   0.075000    0     1  141.0     0.000000     0.00  3819.44  5000  a   \n",
       "4   0.300000    0     1  859.0     0.000000  3819.44  3819.44  5000  c   \n",
       "5   0.300000    0     1    0.0     0.000000  3819.44  3819.44  5000  d   \n",
       "6   0.339028    1     0  111.0  3819.444444  3819.44  1843.91  5000  a   \n",
       "7   0.550000    1     0  389.0  3819.444444  1843.91  1843.91  5000  c   \n",
       "8   0.550000    1     0    0.0  3819.444444  1843.91  1843.91  5000  d   \n",
       "9   0.302757    1     1   11.0  3819.444444  3819.44  4001.24  5000  a   \n",
       "10  0.550000    1     1  989.0  3819.444444  4001.24  4001.24  5000  c   \n",
       "11  0.550000    1     1    0.0  3819.444444  4001.24  4001.24  5000  d   \n",
       "12  0.555442    2     0   11.0  1843.914610  1843.91  2000.45  5000  a   \n",
       "13  0.800000    2     0  489.0  1843.914610  2000.45  2000.45  5000  c   \n",
       "14  0.800000    2     0    0.0  1843.914610  2000.45  2000.45  5000  d   \n",
       "15  0.550894    2     1    4.0  4001.244696  4001.24  4000.08  5000  a   \n",
       "16  0.800000    2     1  996.0  4001.244696  4000.08  4000.08  5000  c   \n",
       "17  0.800000    2     1    0.0  4001.244696  4000.08  4000.08  5000  d   \n",
       "18  0.859991    3     0  210.0  2000.445814  2000.45  5000.00     0  a   \n",
       "19  0.950000    3     0  540.0  2000.445814  5000.00  5000.00     0  c   \n",
       "20  1.050000    3     0  250.0  2000.445814  5000.00     0.00     0  d   \n",
       "21  0.819998    3     1   90.0  4000.075807  4000.08  5000.00     0  a   \n",
       "22  0.950000    3     1  660.0  4000.075807  5000.00  5000.00     0  c   \n",
       "23  1.050000    3     1  250.0  4000.075807  5000.00     0.00     0  d   \n",
       "\n",
       "       del_t      calc_x        err  \n",
       "0   0.075000  143.229000  -2.229000  \n",
       "1   0.225000  859.374000  -0.374000  \n",
       "2   0.000000    0.000000   0.000000  \n",
       "3   0.075000  143.229000  -2.229000  \n",
       "4   0.225000  859.374000  -0.374000  \n",
       "5   0.000000    0.000000   0.000000  \n",
       "6   0.039027  110.513196   0.486804  \n",
       "7   0.210973  389.014302  -0.014302  \n",
       "8   0.000000    0.000000   0.000000  \n",
       "9   0.002756   10.778852   0.221148  \n",
       "10  0.247244  989.280582  -0.280582  \n",
       "11  0.000000    0.000000   0.000000  \n",
       "12  0.005442   10.460504   0.539496  \n",
       "13  0.244558  489.226051  -0.226051  \n",
       "14  0.000000    0.000000   0.000000  \n",
       "15  0.000894    3.578190   0.421810  \n",
       "16  0.249106  996.442328  -0.442328  \n",
       "17  0.000000    0.000000   0.000000  \n",
       "18  0.059991  209.982348   0.017652  \n",
       "19  0.090009  450.044500  89.955500  \n",
       "20  0.100000  250.000000   0.000000  \n",
       "21  0.019998   89.994050   0.005950  \n",
       "22  0.130001  650.007500   9.992500  \n",
       "23  0.100000  250.000000   0.000000  "
      ]
     },
     "execution_count": 156,
     "metadata": {},
     "output_type": "execute_result"
    },
    {
     "data": {
      "image/png": "[encoded data removed]",
      "text/plain": [
       "<Figure size 1440x216 with 1 Axes>"
      ]
     },
     "metadata": {
      "needs_background": "light"
     },
     "output_type": "display_data"
    }
   ],
   "source": [
    "sl = SegmentList([Joint(5000, 50_000), Joint(5000, 50_000)])\n",
    "sl.rmove([1000, 1000])\n",
    "sl.rmove([500, 1000])\n",
    "sl.rmove([500, 1000])\n",
    "sl.rmove([1000, 1000])\n",
    "sl.update()\n",
    "o = sl[3].save()\n",
    "\n",
    "plot_segment_list(sl.dataframe)\n",
    "print(sl[3].max_err_x)\n",
    "\n",
    "sl.dataframe"
   ]
  },
  {
   "cell_type": "code",
   "execution_count": 176,
   "metadata": {},
   "outputs": [
    {
     "name": "stdout",
     "output_type": "stream",
     "text": [
      "89.97325312199729\n"
     ]
    },
    {
     "name": "stderr",
     "output_type": "stream",
     "text": [
      "/Users/eric/Documents/proj/trajectory/trajectory/planner.py:967: UserWarning: Failed to converge 89.97325312199729\n",
      "  warn(f'Failed to converge {self.max_err_x}')\n",
      "/Users/eric/Documents/proj/trajectory/trajectory/planner.py:1224: UserWarning: 0/0 Excessive error. err_x=89.97325312199729 re=0.08997325312199729\n",
      "  \n"
     ]
    },
    {
     "data": {
      "text/plain": [
       "(89.97325312199729, 0.25)"
      ]
     },
     "execution_count": 176,
     "metadata": {},
     "output_type": "execute_result"
    },
    {
     "data": {
      "image/png": "[encoded data removed]",
      "text/plain": [
       "<Figure size 1440x216 with 1 Axes>"
      ]
     },
     "metadata": {
      "needs_background": "light"
     },
     "output_type": "display_data"
    }
   ],
   "source": [
    "import numpy as np \n",
    "from trajectory.planner import inital_parameters\n",
    "\n",
    "sl = SegmentList([Joint(5000, 50_000), Joint(5000, 50_000)])\n",
    "sl.rmove([500, 500])\n",
    "sl[0].load(o)\n",
    "\n",
    "print(sl[0].max_err_x)\n",
    "\n",
    "sl[0,0].t *= 1.3 \n",
    "sl[0].update_min_time()\n",
    "sl.update()\n",
    "plot_segment_list(sl.dataframe)\n",
    "sl[0].max_err_x,sl[0].t"
   ]
  },
  {
   "cell_type": "code",
   "execution_count": 152,
   "metadata": {},
   "outputs": [
    {
     "data": {
      "text/html": [
       "<div>\n",
       "<style scoped>\n",
       "    .dataframe tbody tr th:only-of-type {\n",
       "        vertical-align: middle;\n",
       "    }\n",
       "\n",
       "    .dataframe tbody tr th {\n",
       "        vertical-align: top;\n",
       "    }\n",
       "\n",
       "    .dataframe thead th {\n",
       "        text-align: right;\n",
       "    }\n",
       "</style>\n",
       "<table border=\"1\" class=\"dataframe\">\n",
       "  <thead>\n",
       "    <tr style=\"text-align: right;\">\n",
       "      <th></th>\n",
       "      <th>t</th>\n",
       "      <th>seg</th>\n",
       "      <th>axis</th>\n",
       "      <th>x</th>\n",
       "      <th>v0m</th>\n",
       "      <th>v_i</th>\n",
       "      <th>v_f</th>\n",
       "      <th>v1m</th>\n",
       "      <th>ss</th>\n",
       "      <th>del_t</th>\n",
       "      <th>calc_x</th>\n",
       "      <th>err</th>\n",
       "    </tr>\n",
       "  </thead>\n",
       "  <tbody>\n",
       "    <tr>\n",
       "      <th>0</th>\n",
       "      <td>0.055987</td>\n",
       "      <td>0</td>\n",
       "      <td>0</td>\n",
       "      <td>190.0</td>\n",
       "      <td>2000.445814</td>\n",
       "      <td>2000.45</td>\n",
       "      <td>4806.43</td>\n",
       "      <td>0</td>\n",
       "      <td>a</td>\n",
       "      <td>0.055987</td>\n",
       "      <td>190.547034</td>\n",
       "      <td>-0.547034</td>\n",
       "    </tr>\n",
       "    <tr>\n",
       "      <th>1</th>\n",
       "      <td>0.176504</td>\n",
       "      <td>0</td>\n",
       "      <td>0</td>\n",
       "      <td>579.0</td>\n",
       "      <td>2000.445814</td>\n",
       "      <td>4806.43</td>\n",
       "      <td>4806.43</td>\n",
       "      <td>0</td>\n",
       "      <td>c</td>\n",
       "      <td>0.120518</td>\n",
       "      <td>579.260369</td>\n",
       "      <td>-0.260369</td>\n",
       "    </tr>\n",
       "    <tr>\n",
       "      <th>2</th>\n",
       "      <td>0.272500</td>\n",
       "      <td>0</td>\n",
       "      <td>0</td>\n",
       "      <td>230.0</td>\n",
       "      <td>2000.445814</td>\n",
       "      <td>4806.43</td>\n",
       "      <td>0.00</td>\n",
       "      <td>0</td>\n",
       "      <td>d</td>\n",
       "      <td>0.095996</td>\n",
       "      <td>230.698066</td>\n",
       "      <td>-0.698066</td>\n",
       "    </tr>\n",
       "    <tr>\n",
       "      <th>3</th>\n",
       "      <td>0.006556</td>\n",
       "      <td>0</td>\n",
       "      <td>1</td>\n",
       "      <td>27.0</td>\n",
       "      <td>4000.075807</td>\n",
       "      <td>4000.08</td>\n",
       "      <td>4378.23</td>\n",
       "      <td>0</td>\n",
       "      <td>a</td>\n",
       "      <td>0.006556</td>\n",
       "      <td>27.463262</td>\n",
       "      <td>-0.463262</td>\n",
       "    </tr>\n",
       "    <tr>\n",
       "      <th>4</th>\n",
       "      <td>0.185943</td>\n",
       "      <td>0</td>\n",
       "      <td>1</td>\n",
       "      <td>785.0</td>\n",
       "      <td>4000.075807</td>\n",
       "      <td>4378.23</td>\n",
       "      <td>4378.23</td>\n",
       "      <td>0</td>\n",
       "      <td>c</td>\n",
       "      <td>0.179387</td>\n",
       "      <td>785.397107</td>\n",
       "      <td>-0.397107</td>\n",
       "    </tr>\n",
       "    <tr>\n",
       "      <th>5</th>\n",
       "      <td>0.272500</td>\n",
       "      <td>0</td>\n",
       "      <td>1</td>\n",
       "      <td>187.0</td>\n",
       "      <td>4000.075807</td>\n",
       "      <td>4378.23</td>\n",
       "      <td>0.00</td>\n",
       "      <td>0</td>\n",
       "      <td>d</td>\n",
       "      <td>0.086557</td>\n",
       "      <td>189.483884</td>\n",
       "      <td>-2.483884</td>\n",
       "    </tr>\n",
       "  </tbody>\n",
       "</table>\n",
       "</div>"
      ],
      "text/plain": [
       "          t  seg  axis      x          v0m      v_i      v_f  v1m ss  \\\n",
       "0  0.055987    0     0  190.0  2000.445814  2000.45  4806.43    0  a   \n",
       "1  0.176504    0     0  579.0  2000.445814  4806.43  4806.43    0  c   \n",
       "2  0.272500    0     0  230.0  2000.445814  4806.43     0.00    0  d   \n",
       "3  0.006556    0     1   27.0  4000.075807  4000.08  4378.23    0  a   \n",
       "4  0.185943    0     1  785.0  4000.075807  4378.23  4378.23    0  c   \n",
       "5  0.272500    0     1  187.0  4000.075807  4378.23     0.00    0  d   \n",
       "\n",
       "      del_t      calc_x       err  \n",
       "0  0.055987  190.547034 -0.547034  \n",
       "1  0.120518  579.260369 -0.260369  \n",
       "2  0.095996  230.698066 -0.698066  \n",
       "3  0.006556   27.463262 -0.463262  \n",
       "4  0.179387  785.397107 -0.397107  \n",
       "5  0.086557  189.483884 -2.483884  "
      ]
     },
     "execution_count": 152,
     "metadata": {},
     "output_type": "execute_result"
    }
   ],
   "source": [
    "sl.dataframe"
   ]
  },
  {
   "cell_type": "code",
   "execution_count": 124,
   "metadata": {},
   "outputs": [
    {
     "name": "stdout",
     "output_type": "stream",
     "text": [
      "0.2875000000000001\n",
      "0.2712650102861497\n",
      "--\n",
      "0.2875\n",
      "0.2546313659917908\n",
      "--\n"
     ]
    }
   ],
   "source": [
    "sl = SegmentList([Joint(5000, 50_000), Joint(5000, 50_000)])\n",
    "sl.rmove([500, 500])\n",
    "\n",
    "sl[0].load(o)\n",
    "self = sl[0,0]\n",
    "print(self.t)\n",
    "print(inital_parameters(self.x, self.v_0, self.joint.v_max, self.v_1, self.joint.a_max).t)\n",
    "print('--')\n",
    "self = sl[0,1]\n",
    "print(self.t)\n",
    "print(inital_parameters(self.x, self.v_0, self.joint.v_max, self.v_1, self.joint.a_max).t)\n",
    "print('--')"
   ]
  },
  {
   "cell_type": "code",
   "execution_count": 178,
   "metadata": {},
   "outputs": [
    {
     "data": {
      "text/plain": [
       "5000"
      ]
     },
     "execution_count": 178,
     "metadata": {},
     "output_type": "execute_result"
    }
   ],
   "source": [
    "max(sl[0,0].v_c,sl[0,1].v_c)"
   ]
  },
  {
   "cell_type": "code",
   "execution_count": 99,
   "metadata": {},
   "outputs": [
    {
     "name": "stdout",
     "output_type": "stream",
     "text": [
      "[0.15237500055269906, 0.2875000000000001, 0.2875]\n"
     ]
    },
    {
     "name": "stderr",
     "output_type": "stream",
     "text": [
      "/Users/eric/Documents/proj/trajectory/trajectory/planner.py:1224: UserWarning: 0/0 Excessive error. err_x=629.7566876282631 re=0.6297566876282631\n",
      "  \n"
     ]
    },
    {
     "ename": "ShortSegment",
     "evalue": "tc < 0",
     "output_type": "error",
     "traceback": [
      "\u001b[0;31m---------------------------------------------------------------------------\u001b[0m",
      "\u001b[0;31mShortSegment\u001b[0m                              Traceback (most recent call last)",
      "Input \u001b[0;32mIn [99]\u001b[0m, in \u001b[0;36m<cell line: 10>\u001b[0;34m()\u001b[0m\n\u001b[1;32m      7\u001b[0m \u001b[38;5;28mself\u001b[39m\u001b[38;5;241m.\u001b[39mrecalc()\n\u001b[1;32m      9\u001b[0m plot_segment_list(sl\u001b[38;5;241m.\u001b[39mdataframe)\n\u001b[0;32m---> 10\u001b[0m \u001b[38;5;28;43mself\u001b[39;49m\u001b[38;5;241;43m.\u001b[39;49m\u001b[43mrecalc\u001b[49m\u001b[43m(\u001b[49m\u001b[43m)\u001b[49m\n\u001b[1;32m     12\u001b[0m plot_segment_list(sl\u001b[38;5;241m.\u001b[39mdataframe)\n",
      "File \u001b[0;32m~/Documents/proj/trajectory/trajectory/planner.py:997\u001b[0m, in \u001b[0;36mrecalc\u001b[0;34m(self)\u001b[0m\n\u001b[1;32m    995\u001b[0m def recalc(self):\n\u001b[1;32m    996\u001b[0m     for js in self.joint_segments:\n\u001b[0;32m--> 997\u001b[0m         js.recalc()\n\u001b[1;32m    998\u001b[0m \n\u001b[1;32m    999\u001b[0m def reset(self):\n",
      "File \u001b[0;32m~/Documents/proj/trajectory/trajectory/planner.py:726\u001b[0m, in \u001b[0;36mrecalc\u001b[0;34m(self)\u001b[0m\n\u001b[1;32m    724\u001b[0m \n\u001b[1;32m    725\u001b[0m                 self.t = self.t_a + self.t_d\n\u001b[0;32m--> 726\u001b[0m                 raise ShortSegment('tc < 0')\n\u001b[1;32m    727\u001b[0m \n\u001b[1;32m    728\u001b[0m                 # Need v_c, even if t_c ==0, because it is the peak velocity\n",
      "\u001b[0;31mShortSegment\u001b[0m: tc < 0"
     ]
    },
    {
     "data": {
      "image/png": "[encoded data removed]",
      "text/plain": [
       "<Figure size 1440x216 with 1 Axes>"
      ]
     },
     "metadata": {
      "needs_background": "light"
     },
     "output_type": "display_data"
    },
    {
     "data": {
      "image/png": "[encoded data removed]",
      "text/plain": [
       "<Figure size 1440x216 with 1 Axes>"
      ]
     },
     "metadata": {
      "needs_background": "light"
     },
     "output_type": "display_data"
    }
   ],
   "source": [
    "    \n",
    "sl[0].load(o)\n",
    "plot_segment_list(sl.dataframe)\n",
    "self = sl[0]\n",
    "self.t *= .53\n",
    "print(self.times)\n",
    "\n",
    "self.recalc()\n",
    "\n",
    "plot_segment_list(sl.dataframe)\n",
    "self.recalc()\n",
    "\n",
    "plot_segment_list(sl.dataframe)"
   ]
  },
  {
   "cell_type": "code",
   "execution_count": 58,
   "metadata": {},
   "outputs": [
    {
     "data": {
      "text/plain": [
       "Params(t=0.31232917292870016, x=1000.0, t_a=0.03499108371149744, t_c=0.2023380892172027, t_d=0.075, x_a=100.60716543548986, x_c=758.7678345645102, x_d=140.625, v_0=2000.4458144251282, v_c=3750.0, v_1=0, is_triangle=False, input=InputParams(x=1000.0, v_0=2000.4458144251282, v_c=3750.0, v_1=0, a_max=50000, t=None))"
      ]
     },
     "execution_count": 58,
     "metadata": {},
     "output_type": "execute_result"
    }
   ],
   "source": []
  },
  {
   "cell_type": "code",
   "execution_count": null,
   "metadata": {
    "pycharm": {
     "name": "#%%\n"
    }
   },
   "outputs": [],
   "source": [
    "# Much faster accelerations than the last chart. \n",
    "sl = SegmentList([Joint(5000, 300_000, 300_000), Joint(5000, 300_000, 300_000)])\n",
    "sl.rmove([1000, 1000])\n",
    "sl.rmove([500, 1000])\n",
    "sl.rmove([1000, 500])\n",
    "sl.rmove([300, 1000])\n",
    "sl.rmove([100, 1000])\n",
    "sl.rmove([1000, 1000])\n",
    "sl.update()\n",
    "\n",
    "show_sl(sl)"
   ]
  },
  {
   "cell_type": "code",
   "execution_count": null,
   "metadata": {
    "pycharm": {
     "name": "#%%\n"
    }
   },
   "outputs": [],
   "source": [
    "sl = SegmentList([Joint(5000, 300_000, 300_000),Joint(5000, 300_000, 300_000)])\n",
    "sl.rmove([1000,1000])\n",
    "sl.rmove([500,1000])\n",
    "sl.rmove([1000,1000])\n",
    "sl.rmove([-1000,1000])\n",
    "sl.rmove([-1000,-1000])\n",
    "sl.rmove([1000,1000])\n",
    "\n",
    "show_sl(sl)"
   ]
  },
  {
   "cell_type": "code",
   "execution_count": null,
   "metadata": {
    "pycharm": {
     "name": "#%%\n"
    }
   },
   "outputs": [],
   "source": [
    "sl.dataframe.head()"
   ]
  },
  {
   "cell_type": "code",
   "execution_count": null,
   "metadata": {
    "pycharm": {
     "name": "#%%\n"
    }
   },
   "outputs": [],
   "source": [
    "sl = SegmentList([Joint(5000, 300_000, 300_000), Joint(5000, 300_000, 300_000)])\n",
    "sl.rmove([18000, 20000])\n",
    "sl.rmove([-100, 5000])\n",
    "sl.rmove([100, 10000])\n",
    "sl.rmove([-2500, 1000])\n",
    "sl.rmove([100, 1000]) ## ERROR! This velocity should not be negative\n",
    "sl.rmove([1000, 1000]) ## ERROR! This velocity should not be negative\n",
    "\n",
    "df = sl.dataframe\n",
    "\n",
    "plot_segment_list(sl.dataframe)\n",
    "df[df.ss != 'c'].del_t.unique()"
   ]
  },
  {
   "cell_type": "code",
   "execution_count": null,
   "metadata": {
    "pycharm": {
     "name": "#%%\n"
    }
   },
   "outputs": [],
   "source": [
    "sl = SegmentList([Joint(5000, 30_000, 30_000), Joint(5000, 30_000, 30_000)])\n",
    "sl.rmove([1000, 500])\n",
    "sl.rmove([1000, 1000])\n",
    "sl.rmove([2000, 1000])\n",
    "sl.rmove([-100, 500])\n",
    "sl.rmove([100, 1000])\n",
    "sl.rmove([-2500, 1000])\n",
    "sl.rmove([100, 1000]) \n",
    "sl.rmove([1000, 1000]) ## ERROR! This velocity should not be negative\n",
    "\n",
    "\n",
    "plot_segment_list(sl.dataframe)\n",
    "\n",
    "print(sl.positions)"
   ]
  },
  {
   "cell_type": "code",
   "execution_count": null,
   "metadata": {
    "pycharm": {
     "name": "#%%\n"
    }
   },
   "outputs": [],
   "source": []
  },
  {
   "cell_type": "code",
   "execution_count": null,
   "metadata": {},
   "outputs": [],
   "source": [
    "sl.dataframe.groupby(['seg','axis']).x.sum()"
   ]
  },
  {
   "cell_type": "code",
   "execution_count": null,
   "metadata": {
    "collapsed": false,
    "jupyter": {
     "outputs_hidden": false
    },
    "pycharm": {
     "name": "#%%\n"
    }
   },
   "outputs": [],
   "source": [
    "sl = SegmentList([Joint(33333, 66666)])\n",
    "x = 5000\n",
    "sl.rmove([x])\n",
    "sl.rmove([x])\n",
    "sl.rmove([-x])\n",
    "sl.rmove([-x])\n",
    "\n",
    "df = sl.dataframe\n",
    "\n",
    "plot_segment_list(sl.dataframe)\n",
    "for s in sl:\n",
    "    print(s)\n",
    "\n",
    "#sl.validate()\n",
    "print(sl.positions)"
   ]
  },
  {
   "cell_type": "code",
   "execution_count": null,
   "metadata": {
    "pycharm": {
     "name": "#%%\n"
    }
   },
   "outputs": [],
   "source": [
    "14.908532541958522+85.55207900072237"
   ]
  },
  {
   "cell_type": "code",
   "execution_count": null,
   "metadata": {
    "pycharm": {
     "name": "#%%\n"
    }
   },
   "outputs": [],
   "source": [
    "sl = SegmentList([Joint(10000, 3000_000, 3000_000), Joint(10000, 3000_000, 3000_000)])\n",
    "\n",
    "sl.rmove([5.0,-100.0])\n",
    "sl.rmove([5.0,-100.0])\n",
    "sl.rmove([-5.0,-100.0])\n",
    "print(sl)\n",
    "#sl.update(validate = False)\n",
    "\n"
   ]
  },
  {
   "cell_type": "code",
   "execution_count": null,
   "metadata": {
    "pycharm": {
     "name": "#%%\n"
    }
   },
   "outputs": [],
   "source": [
    "10000 / 2500"
   ]
  },
  {
   "cell_type": "code",
   "execution_count": null,
   "metadata": {
    "pycharm": {
     "name": "#%%\n"
    }
   },
   "outputs": [],
   "source": [
    "import numpy as np\n",
    "\n",
    "sl = SegmentList([Joint(15000, 30_000, 30_000), Joint(15000, 30_000, 30_000)])\n",
    "\n",
    "p = []\n",
    "lx, ly = None,None\n",
    "for a in np.linspace(0,2*np.pi, 25):\n",
    "    x = np.sin(a)*1000000\n",
    "    y = np.cos(a)*1000000\n",
    "    \n",
    "    \n",
    "    if lx is None:\n",
    "        lx, ly = x,y\n",
    "        \n",
    "    \n",
    "    #print(f\"sl.rmove([{x-lx},{y-ly}], validate=False)\")\n",
    "    p.append((x,y))\n",
    "    sl.add_position_segment([x,y])\n",
    "    lx, ly = x,y\n",
    "    \n",
    "df = pd.DataFrame(p, columns=['x','y'])\n",
    "df.plot.scatter(x='x', y='y', figsize=(4,4))\n",
    "\n",
    "\n",
    "#print(sl)\n",
    "plot_segment_list(sl.dataframe)"
   ]
  },
  {
   "cell_type": "code",
   "execution_count": null,
   "metadata": {
    "pycharm": {
     "name": "#%%\n"
    }
   },
   "outputs": [],
   "source": [
    "print(sl)"
   ]
  },
  {
   "cell_type": "code",
   "execution_count": null,
   "metadata": {
    "pycharm": {
     "name": "#%%\n"
    }
   },
   "outputs": [],
   "source": [
    "# Get the points from the subsegments. \n",
    "def generate_points(sl):\n",
    "    t = 0\n",
    "    x = 0\n",
    "    y = 0\n",
    "\n",
    "    for e in sl.sub_segments:\n",
    "        yield(t, x, y)\n",
    "        t += e[0].t\n",
    "        x += e[0].x\n",
    "        y += e[1].x\n",
    "l = list(generate_points(sl))\n",
    "\n",
    "df = pd.DataFrame(l, columns = 't x y'.split()).set_index('t')\n",
    "df.plot(figsize=(12,6))\n",
    "df.plot.scatter(x='x', y='y', marker='.',figsize = (8, 8))"
   ]
  },
  {
   "cell_type": "code",
   "execution_count": null,
   "metadata": {
    "pycharm": {
     "name": "#%%\n"
    },
    "tags": []
   },
   "outputs": [],
   "source": [
    "def sim_df(axis, sl):\n",
    "    simsegs = []\n",
    "    slsegs = []\n",
    "    \n",
    "    for e in sl.sub_segments:\n",
    "        s = e[axis]\n",
    "\n",
    "        t, x, v0, v1 = s.t, s.x, s.v_i, s.v_f\n",
    "        a = float(v1-v0)/float(t)\n",
    "        if abs(round(x)) !=0:\n",
    "            slsegs.append([t, x, v0, v1, a])\n",
    "\n",
    "            simsegs += list(tj.SimSegment(v0,v1,x=x,t=t))\n",
    "        \n",
    "    sl_df = pd.DataFrame(slsegs, columns=\"t x v0 v1 a\".split())\n",
    "        \n",
    "    df = pd.DataFrame(simsegs,columns=tj.SimSegment.row_header)\n",
    "    df['tc'] = df.cn.cumsum()\n",
    "    df['xn'] = df.dir.cumsum()\n",
    "    df['delay'] = 1 / df.cn\n",
    "        \n",
    "    return sl_df, df\n",
    "\n",
    "def plot2d(df_0, df_1):\n",
    "    s = pd.DataFrame({'tc':np.linspace(df_0.tc.min(),df_0.tc.max(), 50000)})\n",
    "    dfx = pd.concat([df_0[['tc','xn']],s], sort=False).sort_values('tc').reindex().interpolate().set_index('tc')\\\n",
    "    .rename(columns={'xn':'x'})\n",
    "    dfy = pd.concat([df_1[['tc','xn']],s], sort=False).sort_values('tc').reindex().interpolate().set_index('tc')\\\n",
    "    .rename(columns={'xn':'y'})\n",
    "\n",
    "    df = dfx.join(dfy)\n",
    "    \n",
    "    df.plot.scatter(x='x', y='y', marker='.', figsize = (8, 8))\n",
    "\n",
    "\n",
    "sl_df_0, df_0 = sim_df(0,sl)\n",
    "\n",
    "sl_df_1, df_1 = sim_df(1,sl)\n",
    "\n",
    "ax = df_0.plot(x='tc', y='xn', figsize = (20, 8) )\n",
    "ax = df_1.plot(ax=ax,x='tc', y='xn')\n",
    "\n",
    "plot2d(df_0, df_1)"
   ]
  },
  {
   "cell_type": "code",
   "execution_count": null,
   "metadata": {
    "pycharm": {
     "name": "#%%\n"
    }
   },
   "outputs": [],
   "source": []
  }
 ],
 "metadata": {
  "kernelspec": {
   "display_name": "Python 3 (ipykernel)",
   "language": "python",
   "name": "python3"
  },
  "language_info": {
   "codemirror_mode": {
    "name": "ipython",
    "version": 3
   },
   "file_extension": ".py",
   "mimetype": "text/x-python",
   "name": "python",
   "nbconvert_exporter": "python",
   "pygments_lexer": "ipython3",
   "version": "3.9.12"
  }
 },
 "nbformat": 4,
 "nbformat_minor": 4
}
