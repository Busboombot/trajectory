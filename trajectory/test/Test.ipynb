{
 "cells": [
  {
   "cell_type": "code",
   "execution_count": 20,
   "metadata": {
    "pycharm": {
     "name": "#%%\n"
    }
   },
   "outputs": [
    {
     "name": "stdout",
     "output_type": "stream",
     "text": [
      "The autoreload extension is already loaded. To reload it, use:\n",
      "  %reload_ext autoreload\n"
     ]
    }
   ],
   "source": [
    "%load_ext autoreload\n",
    "%autoreload 2\n",
    "%matplotlib inline\n",
    "from trajectory.segments import * \n",
    "from trajectory.plot import * \n",
    "import matplotlib.pyplot as plt\n",
    "from IPython.display import display\n",
    "import trajectory as tj\n",
    "import pandas as pd"
   ]
  },
  {
   "cell_type": "code",
   "execution_count": 22,
   "metadata": {},
   "outputs": [
    {
     "name": "stdout",
     "output_type": "stream",
     "text": [
      "1.01 |0.0100 0.9900 0.0100|[\u001b[32m5000  \u001b[0m \u001b[1m 50  \u001b[0m : \u001b[1m  4925\u001b[0m@\u001b[34m4975  \u001b[0m : \u001b[1m 25  \u001b[0m \u001b[31m  4988\u001b[0m]\n",
      "1.01 |0.0100 0.9900 0.0100|[\u001b[32m4988  \u001b[0m \u001b[1m 50  \u001b[0m : \u001b[1m  4925\u001b[0m@\u001b[34m4975  \u001b[0m : \u001b[1m 25  \u001b[0m \u001b[31m     0\u001b[0m]\n"
     ]
    }
   ],
   "source": [
    "# This move should have an acelleration, then a constant velocity across the three semgments, then decel. It should \n",
    "# not have a sawtooth or undulating pattern. \n",
    "\n",
    "sl = SegmentList([Joint(5_000, 500_000)])\n",
    "\n",
    "x = 5000\n",
    "\n",
    "sl.rmove([x])\n",
    "sl.rmove([x])\n",
    "sl.rmove([x])\n",
    "\n",
    "for e in sl.segments:\n",
    "    print(e.t, e)\n",
    "    \n",
    "#plot_segment_list(sl.dataframe)"
   ]
  },
  {
   "cell_type": "code",
   "execution_count": 23,
   "metadata": {},
   "outputs": [
    {
     "data": {
      "text/html": [
       "<div>\n",
       "<style scoped>\n",
       "    .dataframe tbody tr th:only-of-type {\n",
       "        vertical-align: middle;\n",
       "    }\n",
       "\n",
       "    .dataframe tbody tr th {\n",
       "        vertical-align: top;\n",
       "    }\n",
       "\n",
       "    .dataframe thead th {\n",
       "        text-align: right;\n",
       "    }\n",
       "</style>\n",
       "<table border=\"1\" class=\"dataframe\">\n",
       "  <thead>\n",
       "    <tr style=\"text-align: right;\">\n",
       "      <th></th>\n",
       "      <th>axis</th>\n",
       "      <th>x</th>\n",
       "      <th>v_i</th>\n",
       "      <th>v_f</th>\n",
       "      <th>ss</th>\n",
       "      <th>del_t</th>\n",
       "      <th>n</th>\n",
       "      <th>cn</th>\n",
       "      <th>t</th>\n",
       "    </tr>\n",
       "  </thead>\n",
       "  <tbody>\n",
       "    <tr>\n",
       "      <th>0</th>\n",
       "      <td>0</td>\n",
       "      <td>25.0</td>\n",
       "      <td>0.00</td>\n",
       "      <td>4999.61</td>\n",
       "      <td>a</td>\n",
       "      <td>0.01</td>\n",
       "      <td>0</td>\n",
       "      <td>55382</td>\n",
       "      <td>0.01</td>\n",
       "    </tr>\n",
       "    <tr>\n",
       "      <th>1</th>\n",
       "      <td>0</td>\n",
       "      <td>4950.0</td>\n",
       "      <td>4999.61</td>\n",
       "      <td>4999.61</td>\n",
       "      <td>c</td>\n",
       "      <td>0.99</td>\n",
       "      <td>0</td>\n",
       "      <td>409631</td>\n",
       "      <td>1.00</td>\n",
       "    </tr>\n",
       "    <tr>\n",
       "      <th>2</th>\n",
       "      <td>0</td>\n",
       "      <td>25.0</td>\n",
       "      <td>4999.61</td>\n",
       "      <td>4999.81</td>\n",
       "      <td>d</td>\n",
       "      <td>0.01</td>\n",
       "      <td>125</td>\n",
       "      <td>409631</td>\n",
       "      <td>1.01</td>\n",
       "    </tr>\n",
       "    <tr>\n",
       "      <th>3</th>\n",
       "      <td>0</td>\n",
       "      <td>50.0</td>\n",
       "      <td>4999.81</td>\n",
       "      <td>4975.25</td>\n",
       "      <td>a</td>\n",
       "      <td>0.01</td>\n",
       "      <td>-1</td>\n",
       "      <td>409615</td>\n",
       "      <td>1.02</td>\n",
       "    </tr>\n",
       "    <tr>\n",
       "      <th>4</th>\n",
       "      <td>0</td>\n",
       "      <td>4925.0</td>\n",
       "      <td>4975.25</td>\n",
       "      <td>4975.25</td>\n",
       "      <td>c</td>\n",
       "      <td>0.99</td>\n",
       "      <td>0</td>\n",
       "      <td>411637</td>\n",
       "      <td>2.01</td>\n",
       "    </tr>\n",
       "    <tr>\n",
       "      <th>5</th>\n",
       "      <td>0</td>\n",
       "      <td>25.0</td>\n",
       "      <td>4975.25</td>\n",
       "      <td>4987.62</td>\n",
       "      <td>d</td>\n",
       "      <td>0.01</td>\n",
       "      <td>2</td>\n",
       "      <td>411637</td>\n",
       "      <td>2.02</td>\n",
       "    </tr>\n",
       "    <tr>\n",
       "      <th>6</th>\n",
       "      <td>0</td>\n",
       "      <td>50.0</td>\n",
       "      <td>4987.62</td>\n",
       "      <td>4975.25</td>\n",
       "      <td>a</td>\n",
       "      <td>0.01</td>\n",
       "      <td>-2</td>\n",
       "      <td>410616</td>\n",
       "      <td>2.03</td>\n",
       "    </tr>\n",
       "    <tr>\n",
       "      <th>7</th>\n",
       "      <td>0</td>\n",
       "      <td>4925.0</td>\n",
       "      <td>4975.25</td>\n",
       "      <td>4975.25</td>\n",
       "      <td>c</td>\n",
       "      <td>0.99</td>\n",
       "      <td>0</td>\n",
       "      <td>411637</td>\n",
       "      <td>3.02</td>\n",
       "    </tr>\n",
       "    <tr>\n",
       "      <th>8</th>\n",
       "      <td>0</td>\n",
       "      <td>25.0</td>\n",
       "      <td>4975.25</td>\n",
       "      <td>0.00</td>\n",
       "      <td>d</td>\n",
       "      <td>0.01</td>\n",
       "      <td>0</td>\n",
       "      <td>411637</td>\n",
       "      <td>3.03</td>\n",
       "    </tr>\n",
       "  </tbody>\n",
       "</table>\n",
       "</div>"
      ],
      "text/plain": [
       "   axis       x      v_i      v_f ss  del_t    n      cn     t\n",
       "0     0    25.0     0.00  4999.61  a   0.01    0   55382  0.01\n",
       "1     0  4950.0  4999.61  4999.61  c   0.99    0  409631  1.00\n",
       "2     0    25.0  4999.61  4999.81  d   0.01  125  409631  1.01\n",
       "3     0    50.0  4999.81  4975.25  a   0.01   -1  409615  1.02\n",
       "4     0  4925.0  4975.25  4975.25  c   0.99    0  411637  2.01\n",
       "5     0    25.0  4975.25  4987.62  d   0.01    2  411637  2.02\n",
       "6     0    50.0  4987.62  4975.25  a   0.01   -2  410616  2.03\n",
       "7     0  4925.0  4975.25  4975.25  c   0.99    0  411637  3.02\n",
       "8     0    25.0  4975.25     0.00  d   0.01    0  411637  3.03"
      ]
     },
     "execution_count": 23,
     "metadata": {},
     "output_type": "execute_result"
    }
   ],
   "source": [
    "sl.dataframe"
   ]
  },
  {
   "cell_type": "code",
   "execution_count": 24,
   "metadata": {
    "pycharm": {
     "name": "#%%\n"
    }
   },
   "outputs": [
    {
     "data": {
      "image/png": "[encoded data removed]",
      "text/plain": [
       "<Figure size 1440x216 with 1 Axes>"
      ]
     },
     "metadata": {
      "needs_background": "light"
     },
     "output_type": "display_data"
    }
   ],
   "source": [
    "sl = SegmentList([Joint(5000, 50_000, 50_000), Joint(5000, 50_000)])\n",
    "sl.rmove([1000, 1000])\n",
    "sl.rmove([500, 1000])\n",
    "sl.rmove([500, 1000])\n",
    "sl.rmove([1000, 1000])\n",
    "\n",
    "plot_segment_list(sl.dataframe)"
   ]
  },
  {
   "cell_type": "code",
   "execution_count": 25,
   "metadata": {},
   "outputs": [
    {
     "name": "stdout",
     "output_type": "stream",
     "text": [
      "[[\u001b[32m0     \u001b[0m \u001b[1m 250 \u001b[0m : \u001b[1m   500\u001b[0m@\u001b[34m4998  \u001b[0m : \u001b[1m 250 \u001b[0m \u001b[31m  4999\u001b[0m], [\u001b[32m0     \u001b[0m \u001b[1m 250 \u001b[0m : \u001b[1m   500\u001b[0m@\u001b[34m4998  \u001b[0m : \u001b[1m 250 \u001b[0m \u001b[31m  4999\u001b[0m]]\n",
      "[[\u001b[32m4999  \u001b[0m \u001b[1m 312 \u001b[0m : \u001b[1m   125\u001b[0m@\u001b[34m1250  \u001b[0m : \u001b[1m 62  \u001b[0m \u001b[31m  3125\u001b[0m], [\u001b[32m4999  \u001b[0m \u001b[1m 437 \u001b[0m : \u001b[1m   375\u001b[0m@\u001b[34m3750  \u001b[0m : \u001b[1m 188 \u001b[0m \u001b[31m  4375\u001b[0m]]\n",
      "[[\u001b[32m3125  \u001b[0m \u001b[1m 242 \u001b[0m : \u001b[1m   172\u001b[0m@\u001b[34m1719  \u001b[0m : \u001b[1m 86  \u001b[0m \u001b[31m  3359\u001b[0m], [\u001b[32m4375  \u001b[0m \u001b[1m 414 \u001b[0m : \u001b[1m   391\u001b[0m@\u001b[34m3906  \u001b[0m : \u001b[1m 195 \u001b[0m \u001b[31m  4453\u001b[0m]]\n",
      "[[\u001b[32m3359  \u001b[0m \u001b[1m 376 \u001b[0m : \u001b[1m   416\u001b[0m@\u001b[34m4160  \u001b[0m : \u001b[1m 208 \u001b[0m \u001b[31m     0\u001b[0m], [\u001b[32m4453  \u001b[0m \u001b[1m 417 \u001b[0m : \u001b[1m   389\u001b[0m@\u001b[34m3887  \u001b[0m : \u001b[1m 194 \u001b[0m \u001b[31m     0\u001b[0m]]\n"
     ]
    }
   ],
   "source": [
    "for e in sl.all_segments:\n",
    "    print(e.joint_segments)\n",
    "    "
   ]
  },
  {
   "cell_type": "code",
   "execution_count": 6,
   "metadata": {
    "pycharm": {
     "name": "#%%\n"
    }
   },
   "outputs": [
    {
     "data": {
      "image/png": "[encoded data removed]",
      "text/plain": [
       "<Figure size 1440x216 with 1 Axes>"
      ]
     },
     "metadata": {
      "needs_background": "light"
     },
     "output_type": "display_data"
    }
   ],
   "source": [
    "# Much faster accelerations than the last chart. \n",
    "sl = SegmentList([Joint(5000, 300_000, 300_000), Joint(5000, 300_000, 300_000)])\n",
    "sl.rmove([1000, 1000])\n",
    "sl.rmove([500, 1000])\n",
    "sl.rmove([1000, 500])\n",
    "sl.rmove([300, 1000])\n",
    "sl.rmove([100, 1000])\n",
    "sl.rmove([1000, 1000])\n",
    "\n",
    "#sl.update()\n",
    "plot_segment_list(sl.dataframe)"
   ]
  },
  {
   "cell_type": "code",
   "execution_count": null,
   "metadata": {
    "pycharm": {
     "name": "#%%\n"
    }
   },
   "outputs": [],
   "source": [
    "sl = SegmentList([Joint(5000, 300_000, 300_000),Joint(5000, 300_000, 300_000)])\n",
    "sl.add_distance_segment([1000,1000])\n",
    "sl.add_distance_segment([500,1000])\n",
    "sl.add_distance_segment([1000,1000])\n",
    "sl.add_distance_segment([-1000,1000])\n",
    "sl.add_distance_segment([-1000,-1000])\n",
    "sl.add_distance_segment([1000,1000])\n",
    "\n",
    "plot_segment_list(sl.dataframe)\n",
    "print(str(sl))"
   ]
  },
  {
   "cell_type": "code",
   "execution_count": null,
   "metadata": {
    "pycharm": {
     "name": "#%%\n"
    }
   },
   "outputs": [],
   "source": [
    "sl.dataframe.head()"
   ]
  },
  {
   "cell_type": "code",
   "execution_count": null,
   "metadata": {
    "pycharm": {
     "name": "#%%\n"
    }
   },
   "outputs": [],
   "source": [
    "sl = SegmentList([Joint(5000, 300_000, 300_000), Joint(5000, 300_000, 300_000)])\n",
    "sl.add_distance_segment([18000, 20000])\n",
    "sl.add_distance_segment([-100, 5000])\n",
    "sl.add_distance_segment([100, 10000])\n",
    "sl.add_distance_segment([-2500, 1000])\n",
    "sl.add_distance_segment([100, 1000]) ## ERROR! This velocity should not be negative\n",
    "sl.add_distance_segment([1000, 1000]) ## ERROR! This velocity should not be negative\n",
    "\n",
    "df = sl.dataframe\n",
    "\n",
    "plot_segment_list(sl.dataframe)\n",
    "df[df.ss != 'c'].del_t.unique()"
   ]
  },
  {
   "cell_type": "code",
   "execution_count": null,
   "metadata": {
    "pycharm": {
     "name": "#%%\n"
    }
   },
   "outputs": [],
   "source": [
    "sl = SegmentList([Joint(5000, 30_000, 30_000), Joint(5000, 30_000, 30_000)])\n",
    "sl.add_distance_segment([1000, 500])\n",
    "sl.add_distance_segment([1000, 1000])\n",
    "sl.add_distance_segment([2000, 1000])\n",
    "sl.add_distance_segment([-100, 500])\n",
    "sl.add_distance_segment([100, 1000])\n",
    "sl.add_distance_segment([-2500, 1000])\n",
    "sl.add_distance_segment([100, 1000]) \n",
    "sl.add_position_segment([0, 0]) \n",
    "sl.add_distance_segment([1000, 1000]) ## ERROR! This velocity should not be negative\n",
    "\n",
    "\n",
    "plot_segment_list(sl.dataframe)\n",
    "\n",
    "sl.validate()\n",
    "print(sl.positions)"
   ]
  },
  {
   "cell_type": "code",
   "execution_count": null,
   "metadata": {
    "pycharm": {
     "name": "#%%\n"
    }
   },
   "outputs": [],
   "source": [
    "sl = SegmentList([Joint(5000, 30_000, 30_000), Joint(5000, 30_000, 30_000)])\n",
    "sl.add_distance_segment([1000, 1000])\n",
    "sl.add_distance_segment([1000, 0])\n",
    "sl.add_distance_segment([0, 1000])\n",
    "\n",
    "df = sl.dataframe\n",
    "\n",
    "plot_segment_list(sl.dataframe)\n",
    "for s in sl:\n",
    "    print(s)\n",
    "    \n",
    "#sl.validate()\n",
    "print(sl.positions)"
   ]
  },
  {
   "cell_type": "code",
   "execution_count": null,
   "metadata": {
    "collapsed": false,
    "jupyter": {
     "outputs_hidden": false
    },
    "pycharm": {
     "name": "#%%\n"
    }
   },
   "outputs": [],
   "source": [
    "sl = SegmentList([Joint(33333, 66666)])\n",
    "x = 5000\n",
    "sl.add_distance_segment([x])\n",
    "sl.add_distance_segment([x])\n",
    "sl.add_distance_segment([-x])\n",
    "sl.add_distance_segment([-x])\n",
    "\n",
    "df = sl.dataframe\n",
    "\n",
    "plot_segment_list(sl.dataframe)\n",
    "for s in sl:\n",
    "    print(s)\n",
    "\n",
    "#sl.validate()\n",
    "print(sl.positions)"
   ]
  },
  {
   "cell_type": "code",
   "execution_count": null,
   "metadata": {
    "pycharm": {
     "name": "#%%\n"
    }
   },
   "outputs": [],
   "source": [
    "14.908532541958522+85.55207900072237"
   ]
  },
  {
   "cell_type": "code",
   "execution_count": null,
   "metadata": {
    "pycharm": {
     "name": "#%%\n"
    }
   },
   "outputs": [],
   "source": [
    "sl = SegmentList([Joint(10000, 3000_000, 3000_000), Joint(10000, 3000_000, 3000_000)])\n",
    "\n",
    "sl.add_distance_segment([5.0,-100.0])\n",
    "sl.add_distance_segment([5.0,-100.0])\n",
    "sl.add_distance_segment([-5.0,-100.0])\n",
    "print(sl)\n",
    "#sl.update(validate = False)\n",
    "\n"
   ]
  },
  {
   "cell_type": "code",
   "execution_count": null,
   "metadata": {
    "pycharm": {
     "name": "#%%\n"
    }
   },
   "outputs": [],
   "source": [
    "10000 / 2500"
   ]
  },
  {
   "cell_type": "code",
   "execution_count": null,
   "metadata": {
    "pycharm": {
     "name": "#%%\n"
    }
   },
   "outputs": [],
   "source": [
    "import numpy as np\n",
    "\n",
    "sl = SegmentList([Joint(15000, 30_000, 30_000), Joint(15000, 30_000, 30_000)])\n",
    "\n",
    "p = []\n",
    "lx, ly = None,None\n",
    "for a in np.linspace(0,2*np.pi, 25):\n",
    "    x = np.sin(a)*1000000\n",
    "    y = np.cos(a)*1000000\n",
    "    \n",
    "    \n",
    "    if lx is None:\n",
    "        lx, ly = x,y\n",
    "        \n",
    "    \n",
    "    #print(f\"sl.add_distance_segment([{x-lx},{y-ly}], validate=False)\")\n",
    "    p.append((x,y))\n",
    "    sl.add_position_segment([x,y])\n",
    "    lx, ly = x,y\n",
    "    \n",
    "df = pd.DataFrame(p, columns=['x','y'])\n",
    "df.plot.scatter(x='x', y='y', figsize=(4,4))\n",
    "\n",
    "\n",
    "#print(sl)\n",
    "plot_segment_list(sl.dataframe)"
   ]
  },
  {
   "cell_type": "code",
   "execution_count": null,
   "metadata": {
    "pycharm": {
     "name": "#%%\n"
    }
   },
   "outputs": [],
   "source": [
    "print(sl)"
   ]
  },
  {
   "cell_type": "code",
   "execution_count": null,
   "metadata": {
    "pycharm": {
     "name": "#%%\n"
    }
   },
   "outputs": [],
   "source": [
    "# Get the points from the subsegments. \n",
    "def generate_points(sl):\n",
    "    t = 0\n",
    "    x = 0\n",
    "    y = 0\n",
    "\n",
    "    for e in sl.sub_segments:\n",
    "        yield(t, x, y)\n",
    "        t += e[0].t\n",
    "        x += e[0].x\n",
    "        y += e[1].x\n",
    "l = list(generate_points(sl))\n",
    "\n",
    "df = pd.DataFrame(l, columns = 't x y'.split()).set_index('t')\n",
    "df.plot(figsize=(12,6))\n",
    "df.plot.scatter(x='x', y='y', marker='.',figsize = (8, 8))"
   ]
  },
  {
   "cell_type": "code",
   "execution_count": null,
   "metadata": {
    "pycharm": {
     "name": "#%%\n"
    },
    "tags": []
   },
   "outputs": [],
   "source": [
    "def sim_df(axis, sl):\n",
    "    simsegs = []\n",
    "    slsegs = []\n",
    "    \n",
    "    for e in sl.sub_segments:\n",
    "        s = e[axis]\n",
    "\n",
    "        t, x, v0, v1 = s.t, s.x, s.v_i, s.v_f\n",
    "        a = float(v1-v0)/float(t)\n",
    "        if abs(round(x)) !=0:\n",
    "            slsegs.append([t, x, v0, v1, a])\n",
    "\n",
    "            simsegs += list(tj.SimSegment(v0,v1,x=x,t=t))\n",
    "        \n",
    "    sl_df = pd.DataFrame(slsegs, columns=\"t x v0 v1 a\".split())\n",
    "        \n",
    "    df = pd.DataFrame(simsegs,columns=tj.SimSegment.row_header)\n",
    "    df['tc'] = df.cn.cumsum()\n",
    "    df['xn'] = df.dir.cumsum()\n",
    "    df['delay'] = 1 / df.cn\n",
    "        \n",
    "    return sl_df, df\n",
    "\n",
    "def plot2d(df_0, df_1):\n",
    "    s = pd.DataFrame({'tc':np.linspace(df_0.tc.min(),df_0.tc.max(), 50000)})\n",
    "    dfx = pd.concat([df_0[['tc','xn']],s], sort=False).sort_values('tc').reindex().interpolate().set_index('tc')\\\n",
    "    .rename(columns={'xn':'x'})\n",
    "    dfy = pd.concat([df_1[['tc','xn']],s], sort=False).sort_values('tc').reindex().interpolate().set_index('tc')\\\n",
    "    .rename(columns={'xn':'y'})\n",
    "\n",
    "    df = dfx.join(dfy)\n",
    "    \n",
    "    df.plot.scatter(x='x', y='y', marker='.', figsize = (8, 8))\n",
    "\n",
    "\n",
    "sl_df_0, df_0 = sim_df(0,sl)\n",
    "\n",
    "sl_df_1, df_1 = sim_df(1,sl)\n",
    "\n",
    "ax = df_0.plot(x='tc', y='xn', figsize = (20, 8) )\n",
    "ax = df_1.plot(ax=ax,x='tc', y='xn')\n",
    "\n",
    "plot2d(df_0, df_1)"
   ]
  },
  {
   "cell_type": "code",
   "execution_count": null,
   "metadata": {
    "pycharm": {
     "name": "#%%\n"
    }
   },
   "outputs": [],
   "source": []
  }
 ],
 "metadata": {
  "kernelspec": {
   "display_name": "Python 3 (ipykernel)",
   "language": "python",
   "name": "python3"
  },
  "language_info": {
   "codemirror_mode": {
    "name": "ipython",
    "version": 3
   },
   "file_extension": ".py",
   "mimetype": "text/x-python",
   "name": "python",
   "nbconvert_exporter": "python",
   "pygments_lexer": "ipython3",
   "version": "3.9.12"
  }
 },
 "nbformat": 4,
 "nbformat_minor": 4
}
