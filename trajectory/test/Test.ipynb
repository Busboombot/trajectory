{
 "cells": [
  {
   "cell_type": "code",
   "execution_count": 1,
   "metadata": {
    "pycharm": {
     "name": "#%%\n"
    }
   },
   "outputs": [],
   "source": [
    "%load_ext autoreload\n",
    "%autoreload 2\n",
    "%matplotlib inline\n",
    "from trajectory.planner import * \n",
    "from trajectory.plot import * \n",
    "import matplotlib.pyplot as plt\n",
    "from IPython.display import display\n",
    "import trajectory as tj\n",
    "import pandas as pd\n",
    "from warnings import warn"
   ]
  },
  {
   "cell_type": "code",
   "execution_count": 2,
   "metadata": {},
   "outputs": [],
   "source": [
    "def show_sl(sl):\n",
    "    display(f\"TE={sl.total_error}, RE={sl.total_re}\")\n",
    "    \n",
    "    plot_segment_list(sl.dataframe)\n",
    "    plt.show()\n",
    "    print(str(sl))\n",
    "    display(sl.dataframe)\n",
    "    display(sl.dataframe.groupby(['seg','axis']).del_t.sum().unstack())\n",
    "    \n",
    "    "
   ]
  },
  {
   "cell_type": "code",
   "execution_count": null,
   "metadata": {},
   "outputs": [],
   "source": [
    "sl = SegmentList([Joint(5_000, 50_000), Joint(5_000, 50_000), Joint(5_000, 50_000)])\n",
    "\n",
    "\n"
   ]
  },
  {
   "cell_type": "code",
   "execution_count": 48,
   "metadata": {},
   "outputs": [
    {
     "name": "stdout",
     "output_type": "stream",
     "text": [
      "0.2000|[\u001b[32m100  \u001b[0m \u001b[1m     0\u001b[0m↗\u001b[1m    10\u001b[0m@\u001b[34m49    \u001b[0m↘\u001b[1m0     \u001b[0m \u001b[31m   49\u001b[0m] [\u001b[32m2000 \u001b[0m \u001b[1m    25\u001b[0m↗\u001b[1m   220\u001b[0m@\u001b[34m1222  \u001b[0m↘\u001b[1m4     \u001b[0m \u001b[31m 1000\u001b[0m] [\u001b[32m0    \u001b[0m \u001b[1m    89\u001b[0m↗\u001b[1m   361\u001b[0m@\u001b[34m2999  \u001b[0m↘\u001b[1m49    \u001b[0m \u001b[31m 2000\u001b[0m] 0.47\n"
     ]
    },
    {
     "data": {
      "text/html": [
       "<div>\n",
       "<style scoped>\n",
       "    .dataframe tbody tr th:only-of-type {\n",
       "        vertical-align: middle;\n",
       "    }\n",
       "\n",
       "    .dataframe tbody tr th {\n",
       "        vertical-align: top;\n",
       "    }\n",
       "\n",
       "    .dataframe thead th {\n",
       "        text-align: right;\n",
       "    }\n",
       "</style>\n",
       "<table border=\"1\" class=\"dataframe\">\n",
       "  <thead>\n",
       "    <tr style=\"text-align: right;\">\n",
       "      <th></th>\n",
       "      <th>seg</th>\n",
       "      <th>js</th>\n",
       "      <th>seg_t</th>\n",
       "      <th>x</th>\n",
       "      <th>t</th>\n",
       "      <th>dir</th>\n",
       "      <th>v_0_max</th>\n",
       "      <th>v_0</th>\n",
       "      <th>x_a</th>\n",
       "      <th>t_a</th>\n",
       "      <th>...</th>\n",
       "      <th>v_c_max</th>\n",
       "      <th>v_c</th>\n",
       "      <th>x_d</th>\n",
       "      <th>t_d</th>\n",
       "      <th>v_1</th>\n",
       "      <th>v_1_max</th>\n",
       "      <th>calc_x</th>\n",
       "      <th>sum_x</th>\n",
       "      <th>calc_t</th>\n",
       "      <th>err_x</th>\n",
       "    </tr>\n",
       "  </thead>\n",
       "  <tbody>\n",
       "    <tr>\n",
       "      <th>0</th>\n",
       "      <td>0</td>\n",
       "      <td>0</td>\n",
       "      <td>0.2</td>\n",
       "      <td>10.0</td>\n",
       "      <td>0.2</td>\n",
       "      <td>1</td>\n",
       "      <td>100</td>\n",
       "      <td>100</td>\n",
       "      <td>0.075125</td>\n",
       "      <td>0.00100</td>\n",
       "      <td>...</td>\n",
       "      <td>5000</td>\n",
       "      <td>50</td>\n",
       "      <td>0.000000</td>\n",
       "      <td>0.00000</td>\n",
       "      <td>50</td>\n",
       "      <td>1000</td>\n",
       "      <td>10</td>\n",
       "      <td>10</td>\n",
       "      <td>0.20000</td>\n",
       "      <td>0.0000</td>\n",
       "    </tr>\n",
       "    <tr>\n",
       "      <th>1</th>\n",
       "      <td>0</td>\n",
       "      <td>1</td>\n",
       "      <td>0.2</td>\n",
       "      <td>250.0</td>\n",
       "      <td>0.2</td>\n",
       "      <td>1</td>\n",
       "      <td>2000</td>\n",
       "      <td>2000</td>\n",
       "      <td>25.061728</td>\n",
       "      <td>0.01556</td>\n",
       "      <td>...</td>\n",
       "      <td>5000</td>\n",
       "      <td>1222</td>\n",
       "      <td>4.938272</td>\n",
       "      <td>0.00444</td>\n",
       "      <td>1000</td>\n",
       "      <td>1000</td>\n",
       "      <td>250</td>\n",
       "      <td>250</td>\n",
       "      <td>0.20000</td>\n",
       "      <td>0.0000</td>\n",
       "    </tr>\n",
       "    <tr>\n",
       "      <th>2</th>\n",
       "      <td>0</td>\n",
       "      <td>2</td>\n",
       "      <td>0.2</td>\n",
       "      <td>500.0</td>\n",
       "      <td>0.2</td>\n",
       "      <td>1</td>\n",
       "      <td>500</td>\n",
       "      <td>0</td>\n",
       "      <td>89.295171</td>\n",
       "      <td>0.05976</td>\n",
       "      <td>...</td>\n",
       "      <td>5000</td>\n",
       "      <td>3000</td>\n",
       "      <td>49.295171</td>\n",
       "      <td>0.01976</td>\n",
       "      <td>2000</td>\n",
       "      <td>2000</td>\n",
       "      <td>500</td>\n",
       "      <td>500</td>\n",
       "      <td>0.19972</td>\n",
       "      <td>0.4671</td>\n",
       "    </tr>\n",
       "  </tbody>\n",
       "</table>\n",
       "<p>3 rows × 22 columns</p>\n",
       "</div>"
      ],
      "text/plain": [
       "   seg  js  seg_t      x    t  dir  v_0_max   v_0        x_a      t_a  ...  \\\n",
       "0    0   0    0.2   10.0  0.2    1      100   100   0.075125  0.00100  ...   \n",
       "1    0   1    0.2  250.0  0.2    1     2000  2000  25.061728  0.01556  ...   \n",
       "2    0   2    0.2  500.0  0.2    1      500     0  89.295171  0.05976  ...   \n",
       "\n",
       "   v_c_max   v_c        x_d      t_d   v_1  v_1_max  calc_x  sum_x   calc_t  \\\n",
       "0     5000    50   0.000000  0.00000    50     1000      10     10  0.20000   \n",
       "1     5000  1222   4.938272  0.00444  1000     1000     250    250  0.20000   \n",
       "2     5000  3000  49.295171  0.01976  2000     2000     500    500  0.19972   \n",
       "\n",
       "    err_x  \n",
       "0  0.0000  \n",
       "1  0.0000  \n",
       "2  0.4671  \n",
       "\n",
       "[3 rows x 22 columns]"
      ]
     },
     "execution_count": 48,
     "metadata": {},
     "output_type": "execute_result"
    },
    {
     "data": {
      "image/png": "[encoded data removed]",
      "text/plain": [
       "<Figure size 1440x216 with 1 Axes>"
      ]
     },
     "metadata": {
      "needs_background": "light"
     },
     "output_type": "display_data"
    }
   ],
   "source": [
    "# This move should have an acelleration, then a constant velocity across the three semgments, then decel. It should \n",
    "# not have a sawtooth or undulating pattern. \n",
    "\n",
    "sl = SegmentList([Joint(5_000, 50_000), Joint(5_000, 50_000), Joint(5_000, 50_000)])\n",
    "x = 500\n",
    "sl.rmove([10,x/2,x])\n",
    "\n",
    "s = sl[0]\n",
    "\n",
    "s[0].v_0_max = 100\n",
    "s[1].v_0_max = 2000\n",
    "s[2].v_0_max = 500\n",
    "\n",
    "s[0].v_0 = 2500\n",
    "s[1].v_0 = 2500\n",
    "\n",
    "s[0].v_1_max = 1000\n",
    "s[1].v_1_max = 1000\n",
    "s[2].v_1_max = 2000\n",
    "\n",
    "s.update()\n",
    "    \n",
    "plot_segment_list(sl.dataframe)\n",
    "print(sl)\n",
    "sl.dataframe\n",
    "s.params"
   ]
  },
  {
   "cell_type": "code",
   "execution_count": null,
   "metadata": {
    "pycharm": {
     "name": "#%%\n"
    }
   },
   "outputs": [],
   "source": [
    "sl = SegmentList([Joint(5000, 50_000, 50_000), Joint(5000, 50_000)])\n",
    "sl.rmove([1000, 1000])\n",
    "sl.rmove([500, 1000])\n",
    "sl.rmove([500, 1000])\n",
    "sl.rmove([1000, 1000])\n",
    "sl[2,0].link_velocities()\n",
    "sl[3,0].link_velocities()\n",
    "sl.update()\n",
    "sl.update()\n",
    "show_sl(sl)"
   ]
  },
  {
   "cell_type": "code",
   "execution_count": null,
   "metadata": {
    "pycharm": {
     "name": "#%%\n"
    }
   },
   "outputs": [],
   "source": [
    "# Much faster accelerations than the last chart. \n",
    "sl = SegmentList([Joint(5000, 300_000, 300_000), Joint(5000, 300_000, 300_000)])\n",
    "sl.rmove([1000, 1000])\n",
    "sl.rmove([500, 1000])\n",
    "sl.rmove([1000, 500])\n",
    "sl.rmove([300, 1000])\n",
    "sl.rmove([100, 1000])\n",
    "sl.rmove([1000, 1000])\n",
    "sl.update()\n",
    "\n",
    "show_sl(sl)"
   ]
  },
  {
   "cell_type": "code",
   "execution_count": null,
   "metadata": {
    "pycharm": {
     "name": "#%%\n"
    }
   },
   "outputs": [],
   "source": [
    "sl = SegmentList([Joint(5000, 300_000, 300_000),Joint(5000, 300_000, 300_000)])\n",
    "sl.rmove([1000,1000])\n",
    "sl.rmove([500,1000])\n",
    "sl.rmove([1000,1000])\n",
    "sl.rmove([-1000,1000])\n",
    "sl.rmove([-1000,-1000])\n",
    "sl.rmove([1000,1000])\n",
    "\n",
    "show_sl(sl)"
   ]
  },
  {
   "cell_type": "code",
   "execution_count": null,
   "metadata": {
    "pycharm": {
     "name": "#%%\n"
    }
   },
   "outputs": [],
   "source": [
    "sl.dataframe.head()"
   ]
  },
  {
   "cell_type": "code",
   "execution_count": null,
   "metadata": {
    "pycharm": {
     "name": "#%%\n"
    }
   },
   "outputs": [],
   "source": [
    "sl = SegmentList([Joint(5000, 300_000, 300_000), Joint(5000, 300_000, 300_000)])\n",
    "sl.rmove([18000, 20000])\n",
    "sl.rmove([-100, 5000])\n",
    "sl.rmove([100, 10000])\n",
    "sl.rmove([-2500, 1000])\n",
    "sl.rmove([100, 1000]) ## ERROR! This velocity should not be negative\n",
    "sl.rmove([1000, 1000]) ## ERROR! This velocity should not be negative\n",
    "\n",
    "df = sl.dataframe\n",
    "\n",
    "plot_segment_list(sl.dataframe)\n",
    "df[df.ss != 'c'].del_t.unique()"
   ]
  },
  {
   "cell_type": "code",
   "execution_count": null,
   "metadata": {
    "pycharm": {
     "name": "#%%\n"
    }
   },
   "outputs": [],
   "source": [
    "sl = SegmentList([Joint(5000, 30_000, 30_000), Joint(5000, 30_000, 30_000)])\n",
    "sl.rmove([1000, 500])\n",
    "sl.rmove([1000, 1000])\n",
    "sl.rmove([2000, 1000])\n",
    "sl.rmove([-100, 500])\n",
    "sl.rmove([100, 1000])\n",
    "sl.rmove([-2500, 1000])\n",
    "sl.rmove([100, 1000]) \n",
    "sl.rmove([1000, 1000]) ## ERROR! This velocity should not be negative\n",
    "\n",
    "\n",
    "plot_segment_list(sl.dataframe)\n",
    "\n",
    "print(sl.positions)"
   ]
  },
  {
   "cell_type": "code",
   "execution_count": null,
   "metadata": {
    "pycharm": {
     "name": "#%%\n"
    }
   },
   "outputs": [],
   "source": []
  },
  {
   "cell_type": "code",
   "execution_count": null,
   "metadata": {},
   "outputs": [],
   "source": [
    "sl.dataframe.groupby(['seg','axis']).x.sum()"
   ]
  },
  {
   "cell_type": "code",
   "execution_count": null,
   "metadata": {
    "collapsed": false,
    "jupyter": {
     "outputs_hidden": false
    },
    "pycharm": {
     "name": "#%%\n"
    }
   },
   "outputs": [],
   "source": [
    "sl = SegmentList([Joint(33333, 66666)])\n",
    "x = 5000\n",
    "sl.rmove([x])\n",
    "sl.rmove([x])\n",
    "sl.rmove([-x])\n",
    "sl.rmove([-x])\n",
    "\n",
    "df = sl.dataframe\n",
    "\n",
    "plot_segment_list(sl.dataframe)\n",
    "for s in sl:\n",
    "    print(s)\n",
    "\n",
    "#sl.validate()\n",
    "print(sl.positions)"
   ]
  },
  {
   "cell_type": "code",
   "execution_count": null,
   "metadata": {
    "pycharm": {
     "name": "#%%\n"
    }
   },
   "outputs": [],
   "source": [
    "14.908532541958522+85.55207900072237"
   ]
  },
  {
   "cell_type": "code",
   "execution_count": null,
   "metadata": {
    "pycharm": {
     "name": "#%%\n"
    }
   },
   "outputs": [],
   "source": [
    "sl = SegmentList([Joint(10000, 3000_000, 3000_000), Joint(10000, 3000_000, 3000_000)])\n",
    "\n",
    "sl.rmove([5.0,-100.0])\n",
    "sl.rmove([5.0,-100.0])\n",
    "sl.rmove([-5.0,-100.0])\n",
    "print(sl)\n",
    "#sl.update(validate = False)\n",
    "\n"
   ]
  },
  {
   "cell_type": "code",
   "execution_count": null,
   "metadata": {
    "pycharm": {
     "name": "#%%\n"
    }
   },
   "outputs": [],
   "source": [
    "10000 / 2500"
   ]
  },
  {
   "cell_type": "code",
   "execution_count": null,
   "metadata": {
    "pycharm": {
     "name": "#%%\n"
    }
   },
   "outputs": [],
   "source": [
    "import numpy as np\n",
    "\n",
    "sl = SegmentList([Joint(15000, 30_000, 30_000), Joint(15000, 30_000, 30_000)])\n",
    "\n",
    "p = []\n",
    "lx, ly = None,None\n",
    "for a in np.linspace(0,2*np.pi, 25):\n",
    "    x = np.sin(a)*1000000\n",
    "    y = np.cos(a)*1000000\n",
    "    \n",
    "    \n",
    "    if lx is None:\n",
    "        lx, ly = x,y\n",
    "        \n",
    "    \n",
    "    #print(f\"sl.rmove([{x-lx},{y-ly}], validate=False)\")\n",
    "    p.append((x,y))\n",
    "    sl.add_position_segment([x,y])\n",
    "    lx, ly = x,y\n",
    "    \n",
    "df = pd.DataFrame(p, columns=['x','y'])\n",
    "df.plot.scatter(x='x', y='y', figsize=(4,4))\n",
    "\n",
    "\n",
    "#print(sl)\n",
    "plot_segment_list(sl.dataframe)"
   ]
  },
  {
   "cell_type": "code",
   "execution_count": null,
   "metadata": {
    "pycharm": {
     "name": "#%%\n"
    }
   },
   "outputs": [],
   "source": [
    "print(sl)"
   ]
  },
  {
   "cell_type": "code",
   "execution_count": null,
   "metadata": {
    "pycharm": {
     "name": "#%%\n"
    }
   },
   "outputs": [],
   "source": [
    "# Get the points from the subsegments. \n",
    "def generate_points(sl):\n",
    "    t = 0\n",
    "    x = 0\n",
    "    y = 0\n",
    "\n",
    "    for e in sl.sub_segments:\n",
    "        yield(t, x, y)\n",
    "        t += e[0].t\n",
    "        x += e[0].x\n",
    "        y += e[1].x\n",
    "l = list(generate_points(sl))\n",
    "\n",
    "df = pd.DataFrame(l, columns = 't x y'.split()).set_index('t')\n",
    "df.plot(figsize=(12,6))\n",
    "df.plot.scatter(x='x', y='y', marker='.',figsize = (8, 8))"
   ]
  },
  {
   "cell_type": "code",
   "execution_count": null,
   "metadata": {
    "pycharm": {
     "name": "#%%\n"
    },
    "tags": []
   },
   "outputs": [],
   "source": [
    "def sim_df(axis, sl):\n",
    "    simsegs = []\n",
    "    slsegs = []\n",
    "    \n",
    "    for e in sl.sub_segments:\n",
    "        s = e[axis]\n",
    "\n",
    "        t, x, v0, v1 = s.t, s.x, s.v_i, s.v_f\n",
    "        a = float(v1-v0)/float(t)\n",
    "        if abs(round(x)) !=0:\n",
    "            slsegs.append([t, x, v0, v1, a])\n",
    "\n",
    "            simsegs += list(tj.SimSegment(v0,v1,x=x,t=t))\n",
    "        \n",
    "    sl_df = pd.DataFrame(slsegs, columns=\"t x v0 v1 a\".split())\n",
    "        \n",
    "    df = pd.DataFrame(simsegs,columns=tj.SimSegment.row_header)\n",
    "    df['tc'] = df.cn.cumsum()\n",
    "    df['xn'] = df.dir.cumsum()\n",
    "    df['delay'] = 1 / df.cn\n",
    "        \n",
    "    return sl_df, df\n",
    "\n",
    "def plot2d(df_0, df_1):\n",
    "    s = pd.DataFrame({'tc':np.linspace(df_0.tc.min(),df_0.tc.max(), 50000)})\n",
    "    dfx = pd.concat([df_0[['tc','xn']],s], sort=False).sort_values('tc').reindex().interpolate().set_index('tc')\\\n",
    "    .rename(columns={'xn':'x'})\n",
    "    dfy = pd.concat([df_1[['tc','xn']],s], sort=False).sort_values('tc').reindex().interpolate().set_index('tc')\\\n",
    "    .rename(columns={'xn':'y'})\n",
    "\n",
    "    df = dfx.join(dfy)\n",
    "    \n",
    "    df.plot.scatter(x='x', y='y', marker='.', figsize = (8, 8))\n",
    "\n",
    "\n",
    "sl_df_0, df_0 = sim_df(0,sl)\n",
    "\n",
    "sl_df_1, df_1 = sim_df(1,sl)\n",
    "\n",
    "ax = df_0.plot(x='tc', y='xn', figsize = (20, 8) )\n",
    "ax = df_1.plot(ax=ax,x='tc', y='xn')\n",
    "\n",
    "plot2d(df_0, df_1)"
   ]
  },
  {
   "cell_type": "code",
   "execution_count": null,
   "metadata": {
    "pycharm": {
     "name": "#%%\n"
    }
   },
   "outputs": [],
   "source": []
  }
 ],
 "metadata": {
  "kernelspec": {
   "display_name": "Python 3 (ipykernel)",
   "language": "python",
   "name": "python3"
  },
  "language_info": {
   "codemirror_mode": {
    "name": "ipython",
    "version": 3
   },
   "file_extension": ".py",
   "mimetype": "text/x-python",
   "name": "python",
   "nbconvert_exporter": "python",
   "pygments_lexer": "ipython3",
   "version": "3.9.12"
  }
 },
 "nbformat": 4,
 "nbformat_minor": 4
}
